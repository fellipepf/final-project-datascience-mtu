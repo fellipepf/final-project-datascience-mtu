{
 "cells": [
  {
   "cell_type": "code",
   "execution_count": 3,
   "id": "9fb59bb0",
   "metadata": {},
   "outputs": [],
   "source": [
    "#%run -i '../baseline_features.py'\n",
    "#import baseline_features.py\n",
    "#!python '../baseline_features.py'\n",
    "\n",
    "#import collected_days.py\n",
    "\n",
    "import sys\n",
    "import os\n",
    "sys.path.insert(0,\"/Users/fellipeferreira/OneDrive/CIT - Master Data Science/Semester 3/project/final-project-datascience-mtu/code/\")  # path contains python_file.py\n",
    "\n",
    "from collected_days import DaysCollected\n",
    "import utils\n",
    "\n",
    "\n",
    "#exec(open(\"../utils.py\").read())\n",
    "#exec(open(\"../collected_days.py\").read())"
   ]
  },
  {
   "cell_type": "markdown",
   "id": "8c7c5316",
   "metadata": {},
   "source": [
    "# Collected Days"
   ]
  },
  {
   "cell_type": "code",
   "execution_count": 4,
   "id": "e2381389",
   "metadata": {},
   "outputs": [
    {
     "data": {
      "text/html": [
       "<div>\n",
       "<style scoped>\n",
       "    .dataframe tbody tr th:only-of-type {\n",
       "        vertical-align: middle;\n",
       "    }\n",
       "\n",
       "    .dataframe tbody tr th {\n",
       "        vertical-align: top;\n",
       "    }\n",
       "\n",
       "    .dataframe thead th {\n",
       "        text-align: right;\n",
       "    }\n",
       "</style>\n",
       "<table border=\"1\" class=\"dataframe\">\n",
       "  <thead>\n",
       "    <tr style=\"text-align: right;\">\n",
       "      <th></th>\n",
       "      <th>id</th>\n",
       "      <th>days</th>\n",
       "      <th>class</th>\n",
       "    </tr>\n",
       "  </thead>\n",
       "  <tbody>\n",
       "    <tr>\n",
       "      <th>0</th>\n",
       "      <td>patient_1</td>\n",
       "      <td>13</td>\n",
       "      <td>1.0</td>\n",
       "    </tr>\n",
       "    <tr>\n",
       "      <th>1</th>\n",
       "      <td>patient_10</td>\n",
       "      <td>14</td>\n",
       "      <td>1.0</td>\n",
       "    </tr>\n",
       "    <tr>\n",
       "      <th>2</th>\n",
       "      <td>patient_11</td>\n",
       "      <td>13</td>\n",
       "      <td>1.0</td>\n",
       "    </tr>\n",
       "    <tr>\n",
       "      <th>3</th>\n",
       "      <td>patient_12</td>\n",
       "      <td>13</td>\n",
       "      <td>1.0</td>\n",
       "    </tr>\n",
       "    <tr>\n",
       "      <th>4</th>\n",
       "      <td>patient_13</td>\n",
       "      <td>12</td>\n",
       "      <td>1.0</td>\n",
       "    </tr>\n",
       "    <tr>\n",
       "      <th>5</th>\n",
       "      <td>patient_14</td>\n",
       "      <td>13</td>\n",
       "      <td>1.0</td>\n",
       "    </tr>\n",
       "    <tr>\n",
       "      <th>6</th>\n",
       "      <td>patient_15</td>\n",
       "      <td>13</td>\n",
       "      <td>1.0</td>\n",
       "    </tr>\n",
       "    <tr>\n",
       "      <th>7</th>\n",
       "      <td>patient_16</td>\n",
       "      <td>13</td>\n",
       "      <td>1.0</td>\n",
       "    </tr>\n",
       "    <tr>\n",
       "      <th>8</th>\n",
       "      <td>patient_17</td>\n",
       "      <td>13</td>\n",
       "      <td>1.0</td>\n",
       "    </tr>\n",
       "    <tr>\n",
       "      <th>9</th>\n",
       "      <td>patient_18</td>\n",
       "      <td>13</td>\n",
       "      <td>1.0</td>\n",
       "    </tr>\n",
       "  </tbody>\n",
       "</table>\n",
       "</div>"
      ],
      "text/plain": [
       "           id  days  class\n",
       "0   patient_1    13    1.0\n",
       "1  patient_10    14    1.0\n",
       "2  patient_11    13    1.0\n",
       "3  patient_12    13    1.0\n",
       "4  patient_13    12    1.0\n",
       "5  patient_14    13    1.0\n",
       "6  patient_15    13    1.0\n",
       "7  patient_16    13    1.0\n",
       "8  patient_17    13    1.0\n",
       "9  patient_18    13    1.0"
      ]
     },
     "execution_count": 4,
     "metadata": {},
     "output_type": "execute_result"
    }
   ],
   "source": [
    "dc = DaysCollected()\n",
    "days = dc.get_days_collected()\n",
    "days.head(10)"
   ]
  },
  {
   "cell_type": "code",
   "execution_count": 5,
   "id": "8fbf4bc2",
   "metadata": {},
   "outputs": [
    {
     "name": "stdout",
     "output_type": "stream",
     "text": [
      "       days                                                   \n",
      "      count       mean       std   min   25%   50%   75%   max\n",
      "class                                                         \n",
      "0.0    32.0  12.562500  2.313181   8.0  13.0  13.0  13.0  20.0\n",
      "1.0    22.0  12.954545  0.375090  12.0  13.0  13.0  13.0  14.0\n"
     ]
    }
   ],
   "source": [
    "dc.stats_collected_days(days)"
   ]
  },
  {
   "cell_type": "markdown",
   "id": "4ff50a38",
   "metadata": {},
   "source": [
    "# Activity Dataset"
   ]
  },
  {
   "cell_type": "code",
   "execution_count": 6,
   "id": "19ff5e3e",
   "metadata": {},
   "outputs": [],
   "source": [
    "import sys\n",
    "import os\n",
    "sys.path.insert(0,\"/Users/fellipeferreira/OneDrive/CIT - Master Data Science/Semester 3/project/final-project-datascience-mtu/code/\")  # path contains python_file.py\n",
    "\n",
    "from psykose import LoadDataset\n",
    "from psykose import graph_timeserie\n",
    "from psykose import graph_patient_avg_by_hour\n",
    "from psykose import graph_control_avg_by_hour"
   ]
  },
  {
   "cell_type": "code",
   "execution_count": 7,
   "id": "2bea6a41",
   "metadata": {},
   "outputs": [],
   "source": [
    "control, patient = LoadDataset().get_dataset()"
   ]
  },
  {
   "cell_type": "code",
   "execution_count": 7,
   "id": "b1efacae",
   "metadata": {},
   "outputs": [
    {
     "data": {
      "image/png": "[encoded data removed]",
      "text/plain": [
       "<Figure size 432x288 with 1 Axes>"
      ]
     },
     "metadata": {
      "needs_background": "light"
     },
     "output_type": "display_data"
    }
   ],
   "source": [
    "\n",
    "graph_timeserie(patient)"
   ]
  },
  {
   "cell_type": "code",
   "execution_count": 8,
   "id": "9f1fd645",
   "metadata": {},
   "outputs": [
    {
     "name": "stdout",
     "output_type": "stream",
     "text": [
      "dict_keys(['patient_18', 'patient_1', 'patient_19', 'patient_2', 'patient_3', 'patient_22', 'patient_7', 'patient_6', 'patient_21', 'patient_4', 'patient_5', 'patient_20', 'patient_11', 'patient_8', 'patient_9', 'patient_10', 'patient_12', 'patient_13', 'patient_17', 'patient_16', 'patient_14', 'patient_15'])\n"
     ]
    }
   ],
   "source": [
    "print(patient.keys())"
   ]
  },
  {
   "cell_type": "code",
   "execution_count": 9,
   "id": "fcdd0d74",
   "metadata": {},
   "outputs": [
    {
     "data": {
      "image/png": "[encoded data removed]",
      "text/plain": [
       "<Figure size 864x288 with 1 Axes>"
      ]
     },
     "metadata": {
      "needs_background": "light"
     },
     "output_type": "display_data"
    }
   ],
   "source": [
    "graph_patient_avg_by_hour(patient)"
   ]
  },
  {
   "cell_type": "code",
   "execution_count": 10,
   "id": "8e45e73b",
   "metadata": {},
   "outputs": [
    {
     "data": {
      "image/png": "[encoded data removed]",
      "text/plain": [
       "<Figure size 864x288 with 1 Axes>"
      ]
     },
     "metadata": {
      "needs_background": "light"
     },
     "output_type": "display_data"
    }
   ],
   "source": [
    "graph_control_avg_by_hour(control)"
   ]
  },
  {
   "cell_type": "code",
   "execution_count": null,
   "id": "d6bc9f02",
   "metadata": {},
   "outputs": [],
   "source": []
  },
  {
   "cell_type": "markdown",
   "id": "cf365ffa",
   "metadata": {},
   "source": [
    "# Baseline features"
   ]
  },
  {
   "cell_type": "code",
   "execution_count": 11,
   "id": "62a240fa",
   "metadata": {},
   "outputs": [],
   "source": [
    "\n",
    "import sys\n",
    "import os\n",
    "sys.path.insert(0,\"/Users/fellipeferreira/OneDrive/CIT - Master Data Science/Semester 3/project/final-project-datascience-mtu/code/\")  # path contains python_file.py\n",
    "\n",
    "from baseline_features import BaselineFeatures\n",
    "bf = BaselineFeatures()\n",
    "\n",
    "#import baseline_features\n",
    "#exec(open(\"../baseline_features.py\").read())"
   ]
  },
  {
   "cell_type": "code",
   "execution_count": 12,
   "id": "aa8fb570",
   "metadata": {},
   "outputs": [
    {
     "name": "stdout",
     "output_type": "stream",
     "text": [
      "         userid  class class_str      f.mean        f.sd  f.propZeros\n",
      "0    control_23      0        c0  117.552778  224.289210     0.293750\n",
      "1    control_12      0        c0   80.354167  193.535597     0.600000\n",
      "2    control_18      0        c0  312.845833  454.609830     0.292361\n",
      "3     control_7      0        c0  371.494444  462.381754     0.243750\n",
      "4     patient_8      1        c1  128.420833  173.269322     0.385417\n",
      "..          ...    ...       ...         ...         ...          ...\n",
      "682  patient_22      1        c1  138.834028  213.751607     0.446528\n",
      "683   patient_5      1        c1  119.167361  233.122459     0.621528\n",
      "684  control_17      0        c0  275.151389  441.366412     0.318750\n",
      "685  control_31      0        c0  522.081481  785.068157     0.133333\n",
      "686  control_29      0        c0  292.127778  395.000204     0.292361\n",
      "\n",
      "[687 rows x 6 columns]\n"
     ]
    }
   ],
   "source": [
    "bs = bf.get_baseline()\n",
    "print(bs)"
   ]
  },
  {
   "cell_type": "code",
   "execution_count": 13,
   "id": "b9f8cd69",
   "metadata": {},
   "outputs": [
    {
     "data": {
      "image/png": "[encoded data removed]",
      "text/plain": [
       "<Figure size 432x288 with 1 Axes>"
      ]
     },
     "metadata": {},
     "output_type": "display_data"
    }
   ],
   "source": [
    "#boxplot of the f.mean   -> the same feature used in the paper\n",
    "bf.stats_baseline_boxplot()\n"
   ]
  },
  {
   "cell_type": "code",
   "execution_count": 14,
   "id": "2c7886b8",
   "metadata": {
    "scrolled": true
   },
   "outputs": [
    {
     "name": "stdout",
     "output_type": "stream",
     "text": [
      "       class      f.mean         f.sd  f.propZeros\n",
      "count  402.0  402.000000   402.000000   402.000000\n",
      "mean     0.0  290.396996   408.810570     0.300055\n",
      "std      0.0  105.503548   128.205735     0.116635\n",
      "min      0.0    0.114815     1.466308     0.000000\n",
      "25%      0.0  212.350521   324.475840     0.257639\n",
      "50%      0.0  284.687847   398.523409     0.312153\n",
      "75%      0.0  353.398958   467.574486     0.366493\n",
      "max      0.0  748.544444  1080.894993     0.985185\n"
     ]
    }
   ],
   "source": [
    "bf.control_statistics()"
   ]
  },
  {
   "cell_type": "code",
   "execution_count": 15,
   "id": "e925c865",
   "metadata": {},
   "outputs": [
    {
     "name": "stdout",
     "output_type": "stream",
     "text": [
      "       class      f.mean        f.sd  f.propZeros\n",
      "count  285.0  285.000000  285.000000   285.000000\n",
      "mean     1.0  150.897391  235.488699     0.446102\n",
      "std      0.0   71.029558   82.161156     0.120094\n",
      "min      1.0    5.386667   51.787529     0.047917\n",
      "25%      1.0   98.439583  178.363372     0.379167\n",
      "50%      1.0  136.631250  230.201432     0.449306\n",
      "75%      1.0  184.972917  279.811146     0.516000\n",
      "max      1.0  417.618056  582.783422     0.964444\n"
     ]
    }
   ],
   "source": [
    "bf.patient_statistics()"
   ]
  },
  {
   "cell_type": "code",
   "execution_count": null,
   "id": "37aa2dff",
   "metadata": {},
   "outputs": [],
   "source": []
  },
  {
   "cell_type": "markdown",
   "id": "d021c611",
   "metadata": {},
   "source": [
    "# My Baseline Features"
   ]
  },
  {
   "cell_type": "code",
   "execution_count": 8,
   "id": "56cbc5ca",
   "metadata": {},
   "outputs": [],
   "source": [
    "import sys\n",
    "import os\n",
    "import numpy\n",
    "import pandas as pd\n",
    "\n",
    "sys.path.insert(0,\"/Users/fellipeferreira/OneDrive/CIT - Master Data Science/Semester 3/project/final-project-datascience-mtu/code/\")  # path contains python_file.py\n",
    "\n",
    "from psykose import LoadDataset\n",
    "from psykose import generate_baseline\n",
    "\n",
    "from psykose import process_dataset_byday\n",
    "from psykose import new_features\n",
    "from psykose import stats_day_night\n",
    "\n",
    "from baseline_eda import eda_baseline_boxplot\n",
    "from baseline_eda import eda_baseline_boxplot_remove_outliers\n",
    "from baseline_eda import remove_outliers"
   ]
  },
  {
   "cell_type": "code",
   "execution_count": 9,
   "id": "09395699",
   "metadata": {},
   "outputs": [
    {
     "name": "stdout",
     "output_type": "stream",
     "text": [
      "control_4 mean 521.5388888888889 sd 618.0872139457429 zeros 35, total 540 -> 0.06481481481481481\n",
      "control_4 mean 177.7111111111111 sd 336.134893373495 zeros 660, total 1440 -> 0.4583333333333333\n",
      "control_4 mean 204.55694444444444 sd 380.6358161485964 zeros 642, total 1440 -> 0.44583333333333336\n",
      "control_4 mean 232.47708333333333 sd 428.67364176199766 zeros 617, total 1440 -> 0.4284722222222222\n",
      "control_4 mean 216.83402777777778 sd 423.60644678613863 zeros 650, total 1440 -> 0.4513888888888889\n",
      "control_4 mean 137.7173611111111 sd 306.27147993375786 zeros 678, total 1440 -> 0.4708333333333333\n",
      "control_4 mean 151.07638888888889 sd 312.32781878494256 zeros 640, total 1440 -> 0.4444444444444444\n",
      "control_4 mean 218.88888888888889 sd 367.9967261160048 zeros 540, total 1440 -> 0.375\n",
      "control_4 mean 261.8201388888889 sd 399.560388997127 zeros 369, total 1440 -> 0.25625\n",
      "control_4 mean 279.72291666666666 sd 436.9499227948004 zeros 489, total 1440 -> 0.33958333333333335\n",
      "control_4 mean 201.8527777777778 sd 423.6625481612777 zeros 606, total 1440 -> 0.42083333333333334\n",
      "control_4 mean 206.12847222222223 sd 392.5055601451887 zeros 685, total 1440 -> 0.4756944444444444\n",
      "control_4 mean 186.93402777777777 sd 353.56086103133873 zeros 617, total 1440 -> 0.4284722222222222\n",
      "control_24 mean 494.54333333333335 sd 844.4433296622758 zeros 52, total 900 -> 0.057777777777777775\n",
      "control_24 mean 484.47291666666666 sd 927.7910515722834 zeros 465, total 1440 -> 0.3229166666666667\n",
      "control_24 mean 380.1611111111111 sd 635.7018052155602 zeros 481, total 1440 -> 0.33402777777777776\n",
      "control_24 mean 575.99375 sd 1080.5196174577018 zeros 427, total 1440 -> 0.2965277777777778\n",
      "control_24 mean 358.92847222222224 sd 514.4310257949485 zeros 498, total 1440 -> 0.3458333333333333\n",
      "control_24 mean 456.65069444444447 sd 625.1158444303368 zeros 495, total 1440 -> 0.34375\n",
      "control_24 mean 359.05833333333334 sd 500.8668077415609 zeros 429, total 1440 -> 0.29791666666666666\n",
      "control_24 mean 350.46180555555554 sd 508.09682195978 zeros 501, total 1440 -> 0.34791666666666665\n",
      "control_24 mean 349.2951388888889 sd 542.6663835776621 zeros 474, total 1440 -> 0.32916666666666666\n",
      "control_24 mean 283.68819444444443 sd 467.60927347349224 zeros 539, total 1440 -> 0.37430555555555556\n",
      "control_24 mean 370.8354166666667 sd 572.6643735364395 zeros 438, total 1440 -> 0.30416666666666664\n",
      "control_24 mean 353.04791666666665 sd 549.1165895818448 zeros 480, total 1440 -> 0.3333333333333333\n",
      "control_24 mean 262.67569444444445 sd 419.77641663723335 zeros 518, total 1440 -> 0.3597222222222222\n",
      "control_10 mean 235.86666666666667 sd 394.9327650232231 zeros 185, total 900 -> 0.20555555555555555\n",
      "control_10 mean 285.79791666666665 sd 429.2723657812574 zeros 616, total 1440 -> 0.42777777777777776\n",
      "control_10 mean 357.68055555555554 sd 483.79130677473324 zeros 434, total 1440 -> 0.3013888888888889\n",
      "control_10 mean 245.26944444444445 sd 388.80199317865424 zeros 713, total 1440 -> 0.4951388888888889\n",
      "control_10 mean 122.99444444444444 sd 293.40508823547896 zeros 146, total 1440 -> 0.10138888888888889\n",
      "control_10 mean 130.36944444444444 sd 258.6856165947853 zeros 216, total 1440 -> 0.15\n",
      "control_10 mean 379.60625 sd 509.6041994526989 zeros 433, total 1440 -> 0.30069444444444443\n",
      "control_10 mean 363.7361111111111 sd 522.1527738617721 zeros 473, total 1440 -> 0.3284722222222222\n",
      "control_25 mean 309.6777777777778 sd 406.55158010263716 zeros 239, total 900 -> 0.26555555555555554\n",
      "control_25 mean 384.44652777777776 sd 480.6888892535725 zeros 436, total 1440 -> 0.30277777777777776\n",
      "control_25 mean 324.5340277777778 sd 407.48073261593885 zeros 408, total 1440 -> 0.2833333333333333\n",
      "control_25 mean 389.1826388888889 sd 480.67989678247767 zeros 510, total 1440 -> 0.3541666666666667\n",
      "control_25 mean 403.93958333333336 sd 465.7359452043421 zeros 403, total 1440 -> 0.2798611111111111\n",
      "control_25 mean 337.99861111111113 sd 454.9379948572537 zeros 571, total 1440 -> 0.39652777777777776\n",
      "control_25 mean 315.7715277777778 sd 410.8732703988185 zeros 463, total 1440 -> 0.3215277777777778\n",
      "control_25 mean 305.68333333333334 sd 381.55875439511925 zeros 432, total 1440 -> 0.3\n",
      "control_25 mean 295.45 sd 409.55502818438094 zeros 402, total 1440 -> 0.2791666666666667\n",
      "control_25 mean 251.8798611111111 sd 366.2425067644272 zeros 556, total 1440 -> 0.3861111111111111\n",
      "control_25 mean 282.8854166666667 sd 415.4811535485035 zeros 589, total 1440 -> 0.40902777777777777\n",
      "control_25 mean 314.2909722222222 sd 453.7249128989575 zeros 457, total 1440 -> 0.3173611111111111\n",
      "control_25 mean 262.3833333333333 sd 407.36198276226025 zeros 591, total 1440 -> 0.41041666666666665\n",
      "control_29 mean 478.3809523809524 sd 514.1030308253927 zeros 15, total 840 -> 0.017857142857142856\n",
      "control_29 mean 313.3097222222222 sd 474.2560664579264 zeros 427, total 1440 -> 0.2965277777777778\n",
      "control_29 mean 233.87430555555557 sd 383.904277936015 zeros 528, total 1440 -> 0.36666666666666664\n",
      "control_29 mean 300.2006944444444 sd 396.1807571811483 zeros 431, total 1440 -> 0.29930555555555555\n",
      "control_29 mean 259.1694444444444 sd 363.9569864080726 zeros 447, total 1440 -> 0.3104166666666667\n",
      "control_29 mean 240.44375 sd 345.26364065473246 zeros 482, total 1440 -> 0.3347222222222222\n",
      "control_29 mean 306.1465277777778 sd 397.8992649621107 zeros 431, total 1440 -> 0.29930555555555555\n",
      "control_29 mean 271.0173611111111 sd 379.9763119133321 zeros 447, total 1440 -> 0.3104166666666667\n",
      "control_29 mean 304.66180555555553 sd 421.25713173925453 zeros 453, total 1440 -> 0.3145833333333333\n",
      "control_29 mean 249.70763888888888 sd 376.1395850500811 zeros 601, total 1440 -> 0.4173611111111111\n",
      "control_29 mean 292.1277777777778 sd 394.863026962172 zeros 421, total 1440 -> 0.2923611111111111\n",
      "control_29 mean 242.05902777777777 sd 363.64401088786065 zeros 455, total 1440 -> 0.3159722222222222\n",
      "control_29 mean 371.9763888888889 sd 492.85180694523456 zeros 422, total 1440 -> 0.29305555555555557\n",
      "control_17 mean 247.7511111111111 sd 347.1852791440351 zeros 273, total 900 -> 0.30333333333333334\n",
      "control_17 mean 208.98263888888889 sd 291.07689964019283 zeros 417, total 1440 -> 0.28958333333333336\n",
      "control_17 mean 224.33333333333334 sd 302.3860437329142 zeros 371, total 1440 -> 0.25763888888888886\n",
      "control_17 mean 265.8798611111111 sd 343.7138831692918 zeros 420, total 1440 -> 0.2916666666666667\n",
      "control_17 mean 311.8097222222222 sd 382.7917767532624 zeros 391, total 1440 -> 0.27152777777777776\n",
      "control_17 mean 236.88125 sd 317.23158677602936 zeros 426, total 1440 -> 0.29583333333333334\n",
      "control_17 mean 203.01458333333332 sd 314.7869745886263 zeros 492, total 1440 -> 0.3416666666666667\n",
      "control_17 mean 275.1513888888889 sd 441.21313270379125 zeros 459, total 1440 -> 0.31875\n",
      "control_17 mean 249.42916666666667 sd 326.3785663822776 zeros 431, total 1440 -> 0.29930555555555555\n",
      "control_15 mean 320.46 sd 470.8373599355861 zeros 195, total 900 -> 0.21666666666666667\n",
      "control_15 mean 333.5159722222222 sd 461.45930935385064 zeros 457, total 1440 -> 0.3173611111111111\n",
      "control_15 mean 337.22569444444446 sd 414.27376687780776 zeros 436, total 1440 -> 0.30277777777777776\n",
      "control_15 mean 350.9201388888889 sd 392.58383200277035 zeros 395, total 1440 -> 0.2743055555555556\n",
      "control_15 mean 234.98541666666668 sd 372.48672673382845 zeros 537, total 1440 -> 0.3729166666666667\n",
      "control_15 mean 264.075 sd 436.9544041652906 zeros 620, total 1440 -> 0.4305555555555556\n",
      "control_15 mean 258.0763888888889 sd 372.55652218192637 zeros 479, total 1440 -> 0.3326388888888889\n",
      "control_15 mean 306.20625 sd 435.99621537583033 zeros 550, total 1440 -> 0.3819444444444444\n",
      "control_15 mean 295.6659722222222 sd 394.00059427182896 zeros 447, total 1440 -> 0.3104166666666667\n",
      "control_15 mean 364.5423611111111 sd 426.08083105723597 zeros 439, total 1440 -> 0.30486111111111114\n",
      "control_15 mean 304.65069444444447 sd 407.64483733060445 zeros 437, total 1440 -> 0.3034722222222222\n",
      "control_18 mean 269.72333333333336 sd 314.1274265679808 zeros 149, total 900 -> 0.16555555555555557\n",
      "control_18 mean 245.91597222222222 sd 378.96043185477185 zeros 414, total 1440 -> 0.2875\n",
      "control_18 mean 285.68888888888887 sd 393.8241769832621 zeros 408, total 1440 -> 0.2833333333333333\n",
      "control_18 mean 223.86458333333334 sd 326.584520489624 zeros 492, total 1440 -> 0.3416666666666667\n",
      "control_18 mean 360.75347222222223 sd 460.6214910032475 zeros 374, total 1440 -> 0.25972222222222224\n",
      "control_18 mean 212.62291666666667 sd 333.5595193470704 zeros 542, total 1440 -> 0.3763888888888889\n",
      "control_18 mean 312.84583333333336 sd 454.45195151153115 zeros 421, total 1440 -> 0.2923611111111111\n",
      "control_18 mean 297.09791666666666 sd 432.39810873789037 zeros 376, total 1440 -> 0.2611111111111111\n",
      "control_18 mean 294.55694444444447 sd 398.8707526416115 zeros 450, total 1440 -> 0.3125\n",
      "control_18 mean 307.95625 sd 336.41840913155164 zeros 339, total 1440 -> 0.23541666666666666\n",
      "control_18 mean 377.5451388888889 sd 431.5750908863843 zeros 389, total 1440 -> 0.2701388888888889\n",
      "control_18 mean 313.7909722222222 sd 403.17286070982476 zeros 465, total 1440 -> 0.3229166666666667\n",
      "control_18 mean 320.64722222222224 sd 409.0031502772666 zeros 408, total 1440 -> 0.2833333333333333\n",
      "control_21 mean 267.18111111111114 sd 378.6805476899565 zeros 370, total 900 -> 0.4111111111111111\n",
      "control_21 mean 278.4625 sd 437.7775516228097 zeros 585, total 1440 -> 0.40625\n",
      "control_21 mean 332.1166666666667 sd 413.265918897533 zeros 377, total 1440 -> 0.26180555555555557\n",
      "control_21 mean 310.87083333333334 sd 319.30563768968375 zeros 199, total 1440 -> 0.13819444444444445\n",
      "control_21 mean 256.0138888888889 sd 396.1345325298646 zeros 573, total 1440 -> 0.39791666666666664\n",
      "control_21 mean 175.82847222222222 sd 280.8801996411343 zeros 581, total 1440 -> 0.40347222222222223\n",
      "control_21 mean 230.78402777777777 sd 362.46419347356755 zeros 588, total 1440 -> 0.4083333333333333\n",
      "control_21 mean 251.9375 sd 328.64408979991816 zeros 404, total 1440 -> 0.28055555555555556\n",
      "control_6 mean 346.50925925925924 sd 435.84799625579586 zeros 63, total 540 -> 0.11666666666666667\n"
     ]
    },
    {
     "name": "stdout",
     "output_type": "stream",
     "text": [
      "control_6 mean 320.58194444444445 sd 471.03589914687745 zeros 426, total 1440 -> 0.29583333333333334\n",
      "control_6 mean 431.13680555555555 sd 525.4266745341528 zeros 262, total 1440 -> 0.18194444444444444\n",
      "control_6 mean 390.7763888888889 sd 525.9703611719989 zeros 410, total 1440 -> 0.2847222222222222\n",
      "control_6 mean 391.7986111111111 sd 545.780685499897 zeros 426, total 1440 -> 0.29583333333333334\n",
      "control_6 mean 320.93819444444443 sd 520.8962451999494 zeros 429, total 1440 -> 0.29791666666666666\n",
      "control_6 mean 283.21527777777777 sd 448.6939482665601 zeros 513, total 1440 -> 0.35625\n",
      "control_6 mean 338.0888888888889 sd 483.80527865487517 zeros 465, total 1440 -> 0.3229166666666667\n",
      "control_6 mean 353.3979166666667 sd 467.5369006483681 zeros 483, total 1440 -> 0.33541666666666664\n",
      "control_6 mean 353.39930555555554 sd 466.81117955831917 zeros 417, total 1440 -> 0.28958333333333336\n",
      "control_6 mean 254.30416666666667 sd 408.8775733427293 zeros 527, total 1440 -> 0.3659722222222222\n",
      "control_6 mean 361.2527777777778 sd 525.237452907471 zeros 548, total 1440 -> 0.38055555555555554\n",
      "control_6 mean 507.2572463768116 sd 625.8533442125106 zeros 527, total 1380 -> 0.3818840579710145\n",
      "control_28 mean 371.6452380952381 sd 408.635531927309 zeros 24, total 840 -> 0.02857142857142857\n",
      "control_28 mean 354.41180555555553 sd 499.70366273930085 zeros 359, total 1440 -> 0.24930555555555556\n",
      "control_28 mean 312.59583333333336 sd 404.0292040934878 zeros 366, total 1440 -> 0.25416666666666665\n",
      "control_28 mean 312.6326388888889 sd 403.84911293456605 zeros 350, total 1440 -> 0.24305555555555555\n",
      "control_28 mean 303.20416666666665 sd 400.7100191249071 zeros 344, total 1440 -> 0.2388888888888889\n",
      "control_28 mean 246.10208333333333 sd 387.93358537554667 zeros 360, total 1440 -> 0.25\n",
      "control_28 mean 203.68194444444444 sd 346.2256232198845 zeros 432, total 1440 -> 0.3\n",
      "control_28 mean 257.8333333333333 sd 404.08532171092696 zeros 352, total 1440 -> 0.24444444444444444\n",
      "control_28 mean 319.0361111111111 sd 450.70428230146297 zeros 313, total 1440 -> 0.21736111111111112\n",
      "control_28 mean 241.92152777777778 sd 349.7285774281076 zeros 430, total 1440 -> 0.2986111111111111\n",
      "control_28 mean 373.01875 sd 454.4235729759335 zeros 330, total 1440 -> 0.22916666666666666\n",
      "control_28 mean 298.0527777777778 sd 415.55102306463175 zeros 347, total 1440 -> 0.24097222222222223\n",
      "control_28 mean 291.1638888888889 sd 378.75533670811404 zeros 385, total 1440 -> 0.2673611111111111\n",
      "control_28 mean 318.5388888888889 sd 448.0368535051172 zeros 431, total 1440 -> 0.29930555555555555\n",
      "control_28 mean 315.89444444444445 sd 407.94604589090505 zeros 335, total 1440 -> 0.2326388888888889\n",
      "control_28 mean 254.575 sd 341.909060257417 zeros 390, total 1440 -> 0.2708333333333333\n",
      "control_9 mean 9.928888888888888 sd 40.09233022923282 zeros 0, total 900 -> 0.0\n",
      "control_9 mean 86.62569444444445 sd 199.85762510351663 zeros 37, total 1440 -> 0.025694444444444443\n",
      "control_9 mean 166.89097222222222 sd 258.52696759536485 zeros 293, total 1440 -> 0.20347222222222222\n",
      "control_9 mean 199.46041666666667 sd 286.0879499381723 zeros 310, total 1440 -> 0.2152777777777778\n",
      "control_9 mean 92.69722222222222 sd 202.98738669915105 zeros 615, total 1440 -> 0.4270833333333333\n",
      "control_9 mean 108.0375 sd 224.11227651032067 zeros 719, total 1440 -> 0.49930555555555556\n",
      "control_9 mean 164.13333333333333 sd 275.4637130770985 zeros 574, total 1440 -> 0.39861111111111114\n",
      "control_9 mean 129.98888888888888 sd 233.08585957131476 zeros 438, total 1440 -> 0.30416666666666664\n",
      "control_9 mean 201.20694444444445 sd 305.301977477669 zeros 469, total 1440 -> 0.32569444444444445\n",
      "control_9 mean 174.22847222222222 sd 380.3178986722082 zeros 450, total 1440 -> 0.3125\n",
      "control_9 mean 210.27291666666667 sd 323.4281924251227 zeros 401, total 1440 -> 0.27847222222222223\n",
      "control_9 mean 101.14444444444445 sd 223.56507559252546 zeros 446, total 1440 -> 0.30972222222222223\n",
      "control_9 mean 158.38958333333332 sd 270.6893828261955 zeros 221, total 1440 -> 0.15347222222222223\n",
      "control_5 mean 421.07037037037037 sd 547.3744999505901 zeros 132, total 540 -> 0.24444444444444444\n",
      "control_5 mean 336.25694444444446 sd 376.164350652444 zeros 420, total 1440 -> 0.2916666666666667\n",
      "control_5 mean 362.9972222222222 sd 400.26351562030715 zeros 395, total 1440 -> 0.2743055555555556\n",
      "control_5 mean 270.2729166666667 sd 385.6174051509902 zeros 521, total 1440 -> 0.36180555555555555\n",
      "control_5 mean 253.28333333333333 sd 360.8462915302183 zeros 545, total 1440 -> 0.3784722222222222\n",
      "control_5 mean 334.925 sd 436.609375933199 zeros 456, total 1440 -> 0.31666666666666665\n",
      "control_5 mean 340.4659722222222 sd 403.0058332330791 zeros 398, total 1440 -> 0.2763888888888889\n",
      "control_5 mean 335.3673611111111 sd 380.32460794290637 zeros 390, total 1440 -> 0.2708333333333333\n",
      "control_5 mean 327.06458333333336 sd 334.95548107355273 zeros 351, total 1440 -> 0.24375\n",
      "control_5 mean 324.0756944444444 sd 408.21636143419533 zeros 475, total 1440 -> 0.3298611111111111\n",
      "control_5 mean 341.01180555555555 sd 453.28349051922896 zeros 503, total 1440 -> 0.34930555555555554\n",
      "control_5 mean 233.05069444444445 sd 412.57317642121967 zeros 721, total 1440 -> 0.5006944444444444\n",
      "control_5 mean 263.5527777777778 sd 387.0476409709444 zeros 463, total 1440 -> 0.3215277777777778\n",
      "control_11 mean 199.4488888888889 sd 303.94809982570087 zeros 176, total 900 -> 0.19555555555555557\n",
      "control_11 mean 187.78819444444446 sd 328.0837084064698 zeros 642, total 1440 -> 0.44583333333333336\n",
      "control_11 mean 163.85208333333333 sd 277.3379225052886 zeros 551, total 1440 -> 0.38263888888888886\n",
      "control_11 mean 241.35 sd 403.0192265195843 zeros 538, total 1440 -> 0.3736111111111111\n",
      "control_11 mean 181.7513888888889 sd 334.3483826344816 zeros 699, total 1440 -> 0.48541666666666666\n",
      "control_11 mean 166.81944444444446 sd 276.4130326556861 zeros 710, total 1440 -> 0.4930555555555556\n",
      "control_11 mean 161.00069444444443 sd 284.3647220356395 zeros 605, total 1440 -> 0.4201388888888889\n",
      "control_11 mean 225.52013888888888 sd 438.0287149833685 zeros 574, total 1440 -> 0.39861111111111114\n",
      "control_11 mean 189.47847222222222 sd 290.2249311269904 zeros 561, total 1440 -> 0.38958333333333334\n",
      "control_11 mean 302.24097222222224 sd 419.5764343877057 zeros 481, total 1440 -> 0.33402777777777776\n",
      "control_11 mean 282.75 sd 385.18086300103516 zeros 449, total 1440 -> 0.31180555555555556\n",
      "control_11 mean 146.8513888888889 sd 275.68660774966094 zeros 665, total 1440 -> 0.4618055555555556\n",
      "control_11 mean 104.77361111111111 sd 285.3830834223118 zeros 759, total 1440 -> 0.5270833333333333\n",
      "control_20 mean 366.12888888888887 sd 444.1182613384878 zeros 260, total 900 -> 0.28888888888888886\n",
      "control_20 mean 353.0833333333333 sd 454.14371807465005 zeros 507, total 1440 -> 0.35208333333333336\n",
      "control_20 mean 368.88125 sd 451.56122592573195 zeros 388, total 1440 -> 0.26944444444444443\n",
      "control_20 mean 360.52569444444447 sd 490.51810693254436 zeros 536, total 1440 -> 0.37222222222222223\n",
      "control_20 mean 385.7611111111111 sd 453.26404021753234 zeros 510, total 1440 -> 0.3541666666666667\n",
      "control_20 mean 417.9715277777778 sd 451.566530899073 zeros 474, total 1440 -> 0.32916666666666666\n",
      "control_20 mean 403.23333333333335 sd 505.07663994904766 zeros 478, total 1440 -> 0.33194444444444443\n",
      "control_20 mean 344.12152777777777 sd 403.3274033075092 zeros 452, total 1440 -> 0.3138888888888889\n",
      "control_20 mean 454.1763888888889 sd 771.2438074653342 zeros 480, total 1440 -> 0.3333333333333333\n",
      "control_20 mean 307.4166666666667 sd 404.55156758234665 zeros 502, total 1440 -> 0.3486111111111111\n",
      "control_20 mean 339.39930555555554 sd 483.2743048720053 zeros 482, total 1440 -> 0.3347222222222222\n",
      "control_20 mean 282.16041666666666 sd 391.26063700818065 zeros 605, total 1440 -> 0.4201388888888889\n",
      "control_20 mean 315.18958333333336 sd 431.44964400050173 zeros 586, total 1440 -> 0.40694444444444444\n",
      "control_7 mean 748.5444444444445 sd 711.4615316288396 zeros 14, total 540 -> 0.025925925925925925\n",
      "control_7 mean 449.4736111111111 sd 556.6499966299025 zeros 425, total 1440 -> 0.2951388888888889\n",
      "control_7 mean 399.2611111111111 sd 540.7791034844378 zeros 360, total 1440 -> 0.25\n",
      "control_7 mean 379.68333333333334 sd 586.2708297649926 zeros 443, total 1440 -> 0.3076388888888889\n",
      "control_7 mean 508.2104166666667 sd 627.8219931082235 zeros 368, total 1440 -> 0.25555555555555554\n",
      "control_7 mean 329.8173611111111 sd 485.64267625914897 zeros 546, total 1440 -> 0.37916666666666665\n",
      "control_7 mean 371.49444444444447 sd 462.2211771823125 zeros 351, total 1440 -> 0.24375\n",
      "control_7 mean 339.5888888888889 sd 484.8412459408051 zeros 429, total 1440 -> 0.29791666666666666\n",
      "control_7 mean 482.05069444444445 sd 999.6497814857553 zeros 482, total 1440 -> 0.3347222222222222\n",
      "control_7 mean 312.06805555555553 sd 462.8292681751577 zeros 459, total 1440 -> 0.31875\n",
      "control_7 mean 482.61041666666665 sd 1009.1140856256819 zeros 413, total 1440 -> 0.28680555555555554\n",
      "control_7 mean 443.7680555555556 sd 559.6192496109375 zeros 430, total 1440 -> 0.2986111111111111\n",
      "control_7 mean 441.0231884057971 sd 689.0837695747086 zeros 479, total 1380 -> 0.3471014492753623\n",
      "control_8 mean 204.10777777777778 sd 368.20202870096455 zeros 210, total 900 -> 0.23333333333333334\n",
      "control_8 mean 372.1666666666667 sd 442.36554925385747 zeros 417, total 1440 -> 0.28958333333333336\n",
      "control_8 mean 401.89166666666665 sd 414.08790423116034 zeros 316, total 1440 -> 0.21944444444444444\n",
      "control_8 mean 460.06458333333336 sd 508.8511604269778 zeros 269, total 1440 -> 0.18680555555555556\n",
      "control_8 mean 441.37847222222223 sd 526.9262550742318 zeros 338, total 1440 -> 0.23472222222222222\n",
      "control_8 mean 380.4486111111111 sd 491.23487974837883 zeros 395, total 1440 -> 0.2743055555555556\n",
      "control_8 mean 387.8465277777778 sd 450.89533390879234 zeros 315, total 1440 -> 0.21875\n",
      "control_8 mean 430.31111111111113 sd 461.54489566008283 zeros 309, total 1440 -> 0.21458333333333332\n",
      "control_8 mean 413.06319444444443 sd 472.5621396891341 zeros 379, total 1440 -> 0.26319444444444445\n",
      "control_8 mean 513.45625 sd 560.6573592443286 zeros 319, total 1440 -> 0.22152777777777777\n"
     ]
    },
    {
     "name": "stdout",
     "output_type": "stream",
     "text": [
      "control_8 mean 422.90763888888887 sd 616.6691220198701 zeros 482, total 1440 -> 0.3347222222222222\n",
      "control_8 mean 495.4270833333333 sd 624.7347883656454 zeros 371, total 1440 -> 0.25763888888888886\n",
      "control_8 mean 405.8256944444444 sd 504.6378137732013 zeros 471, total 1440 -> 0.32708333333333334\n",
      "control_12 mean 203.7288888888889 sd 239.03635671608305 zeros 191, total 900 -> 0.21222222222222223\n",
      "control_12 mean 161.20347222222222 sd 254.97084716612116 zeros 612, total 1440 -> 0.425\n",
      "control_12 mean 212.30555555555554 sd 287.05296350677827 zeros 532, total 1440 -> 0.36944444444444446\n",
      "control_12 mean 177.25625 sd 265.27747062136723 zeros 611, total 1440 -> 0.42430555555555555\n",
      "control_12 mean 197.67638888888888 sd 258.09900016652443 zeros 460, total 1440 -> 0.3194444444444444\n",
      "control_12 mean 149.98611111111111 sd 218.1995896380413 zeros 552, total 1440 -> 0.38333333333333336\n",
      "control_12 mean 141.6784722222222 sd 205.31939571988096 zeros 544, total 1440 -> 0.37777777777777777\n",
      "control_12 mean 121.83680555555556 sd 196.09996502865462 zeros 601, total 1440 -> 0.4173611111111111\n",
      "control_12 mean 174.5090277777778 sd 234.46547347495002 zeros 561, total 1440 -> 0.38958333333333334\n",
      "control_12 mean 106.55833333333334 sd 164.517740304809 zeros 580, total 1440 -> 0.4027777777777778\n",
      "control_12 mean 130.3625 sd 238.99674099213266 zeros 733, total 1440 -> 0.5090277777777777\n",
      "control_12 mean 163.90833333333333 sd 286.6342858407653 zeros 757, total 1440 -> 0.5256944444444445\n",
      "control_12 mean 80.35416666666667 sd 193.46838561542657 zeros 864, total 1440 -> 0.6\n",
      "control_12 mean 142.48194444444445 sd 214.120149829216 zeros 548, total 1440 -> 0.38055555555555554\n",
      "control_19 mean 328.1188888888889 sd 447.93387939502543 zeros 291, total 900 -> 0.3233333333333333\n",
      "control_19 mean 217.67013888888889 sd 293.68709292844017 zeros 465, total 1440 -> 0.3229166666666667\n",
      "control_19 mean 226.3111111111111 sd 388.90525715553355 zeros 519, total 1440 -> 0.36041666666666666\n",
      "control_19 mean 211.1513888888889 sd 292.24797427919526 zeros 537, total 1440 -> 0.3729166666666667\n",
      "control_19 mean 239.99791666666667 sd 307.2423909573922 zeros 513, total 1440 -> 0.35625\n",
      "control_19 mean 189.74652777777777 sd 314.10620382222817 zeros 601, total 1440 -> 0.4173611111111111\n",
      "control_19 mean 193.25416666666666 sd 297.401324642822 zeros 526, total 1440 -> 0.36527777777777776\n",
      "control_19 mean 352.625 sd 456.553440571005 zeros 350, total 1440 -> 0.24305555555555555\n",
      "control_19 mean 185.0402777777778 sd 305.6575444657173 zeros 595, total 1440 -> 0.4131944444444444\n",
      "control_19 mean 202.02708333333334 sd 328.2880932704688 zeros 562, total 1440 -> 0.3902777777777778\n",
      "control_19 mean 215.90902777777777 sd 309.473115286556 zeros 473, total 1440 -> 0.3284722222222222\n",
      "control_19 mean 221.2111111111111 sd 325.86449959878183 zeros 588, total 1440 -> 0.4083333333333333\n",
      "control_19 mean 212.79513888888889 sd 322.99643376726027 zeros 595, total 1440 -> 0.4131944444444444\n",
      "control_26 mean 513.2655555555556 sd 552.4917149024063 zeros 179, total 900 -> 0.1988888888888889\n",
      "control_26 mean 428.2548611111111 sd 438.96839884518295 zeros 383, total 1440 -> 0.2659722222222222\n",
      "control_26 mean 351.3986111111111 sd 420.41659827982744 zeros 499, total 1440 -> 0.34652777777777777\n",
      "control_26 mean 469.38194444444446 sd 519.0419552797863 zeros 353, total 1440 -> 0.24513888888888888\n",
      "control_26 mean 388.1277777777778 sd 502.502937034595 zeros 517, total 1440 -> 0.3590277777777778\n",
      "control_26 mean 362.99583333333334 sd 528.093284041093 zeros 533, total 1440 -> 0.3701388888888889\n",
      "control_26 mean 407.89722222222224 sd 573.0981523391126 zeros 560, total 1440 -> 0.3888888888888889\n",
      "control_26 mean 358.4243055555556 sd 473.0318521613954 zeros 502, total 1440 -> 0.3486111111111111\n",
      "control_26 mean 324.38125 sd 405.0888600166006 zeros 377, total 1440 -> 0.26180555555555557\n",
      "control_26 mean 295.5083333333333 sd 379.04276354683657 zeros 511, total 1440 -> 0.3548611111111111\n",
      "control_26 mean 351.0340277777778 sd 420.7769395652384 zeros 476, total 1440 -> 0.33055555555555555\n",
      "control_26 mean 339.3833333333333 sd 427.1593187689008 zeros 431, total 1440 -> 0.29930555555555555\n",
      "control_26 mean 292.1402777777778 sd 409.61655991363205 zeros 522, total 1440 -> 0.3625\n",
      "control_32 mean 158.3740740740741 sd 360.7612692653132 zeros 224, total 540 -> 0.4148148148148148\n",
      "control_32 mean 114.11805555555556 sd 241.69763584693433 zeros 710, total 1440 -> 0.4930555555555556\n",
      "control_32 mean 146.17430555555555 sd 250.20288885181847 zeros 525, total 1440 -> 0.3645833333333333\n",
      "control_32 mean 128.98611111111111 sd 251.97338059668266 zeros 595, total 1440 -> 0.4131944444444444\n",
      "control_32 mean 158.27916666666667 sd 276.73928737547124 zeros 558, total 1440 -> 0.3875\n",
      "control_32 mean 146.49166666666667 sd 270.71630022651533 zeros 586, total 1440 -> 0.40694444444444444\n",
      "control_32 mean 135.98055555555555 sd 295.75482227630937 zeros 730, total 1440 -> 0.5069444444444444\n",
      "control_32 mean 194.86458333333334 sd 334.4621496955847 zeros 431, total 1440 -> 0.29930555555555555\n",
      "control_32 mean 173.8 sd 311.871263504671 zeros 646, total 1440 -> 0.4486111111111111\n",
      "control_32 mean 242.78333333333333 sd 397.81312474857134 zeros 472, total 1440 -> 0.3277777777777778\n",
      "control_32 mean 195.5951388888889 sd 279.8118402580411 zeros 391, total 1440 -> 0.27152777777777776\n",
      "control_32 mean 173.5222222222222 sd 297.92525312671455 zeros 562, total 1440 -> 0.3902777777777778\n",
      "control_32 mean 184.75072463768117 sd 350.3802471200961 zeros 585, total 1380 -> 0.42391304347826086\n",
      "control_32 mean 202.8 sd 310.2646813609319 zeros 476, total 1440 -> 0.33055555555555555\n",
      "control_22 mean 253.0688888888889 sd 309.02701738932706 zeros 0, total 900 -> 0.0\n",
      "control_22 mean 250.2409722222222 sd 364.1591831636114 zeros 2, total 1440 -> 0.001388888888888889\n",
      "control_22 mean 226.4423611111111 sd 324.01532158557427 zeros 0, total 1440 -> 0.0\n",
      "control_22 mean 283.7291666666667 sd 403.57657298264695 zeros 0, total 1440 -> 0.0\n",
      "control_22 mean 229.72291666666666 sd 378.372815894797 zeros 0, total 1440 -> 0.0\n",
      "control_22 mean 286.9486111111111 sd 467.0377216781257 zeros 0, total 1440 -> 0.0\n",
      "control_22 mean 255.13888888888889 sd 363.6018142432565 zeros 0, total 1440 -> 0.0\n",
      "control_22 mean 255.44930555555555 sd 363.7619053982455 zeros 0, total 1440 -> 0.0\n",
      "control_22 mean 202.725 sd 309.93358730809825 zeros 0, total 1440 -> 0.0\n",
      "control_22 mean 284.37847222222223 sd 378.54733001876093 zeros 0, total 1440 -> 0.0\n",
      "control_22 mean 283.1673611111111 sd 389.2237919047378 zeros 0, total 1440 -> 0.0\n",
      "control_22 mean 385.88194444444446 sd 554.387380815374 zeros 0, total 1440 -> 0.0\n",
      "control_22 mean 195.54444444444445 sd 342.049443261938 zeros 0, total 1440 -> 0.0\n",
      "control_31 mean 522.0814814814814 sd 784.340905680515 zeros 72, total 540 -> 0.13333333333333333\n",
      "control_31 mean 402.76666666666665 sd 739.753803640104 zeros 531, total 1440 -> 0.36875\n",
      "control_31 mean 267.15694444444443 sd 422.7020904997828 zeros 470, total 1440 -> 0.3263888888888889\n",
      "control_31 mean 299.2916666666667 sd 446.6560986778421 zeros 479, total 1440 -> 0.3326388888888889\n",
      "control_31 mean 346.6736111111111 sd 482.569549245683 zeros 510, total 1440 -> 0.3541666666666667\n",
      "control_31 mean 257.4972222222222 sd 453.3380989247751 zeros 508, total 1440 -> 0.3527777777777778\n",
      "control_31 mean 434.43333333333334 sd 775.1917099803256 zeros 474, total 1440 -> 0.32916666666666666\n",
      "control_31 mean 300.71319444444447 sd 446.8776496031052 zeros 467, total 1440 -> 0.32430555555555557\n",
      "control_31 mean 414.30347222222224 sd 489.4084044811993 zeros 433, total 1440 -> 0.30069444444444443\n",
      "control_31 mean 284.4847222222222 sd 446.8644397850062 zeros 520, total 1440 -> 0.3611111111111111\n",
      "control_31 mean 454.2611111111111 sd 536.2124292861804 zeros 472, total 1440 -> 0.3277777777777778\n",
      "control_31 mean 542.5638888888889 sd 521.6472707537865 zeros 371, total 1440 -> 0.25763888888888886\n",
      "control_31 mean 416.25652173913045 sd 541.0462738329135 zeros 501, total 1380 -> 0.3630434782608696\n",
      "control_13 mean 205.06222222222223 sd 313.4562853015735 zeros 209, total 900 -> 0.23222222222222222\n",
      "control_13 mean 263.68541666666664 sd 344.29436542747 zeros 339, total 1440 -> 0.23541666666666666\n",
      "control_13 mean 197.04930555555555 sd 328.90697297947025 zeros 519, total 1440 -> 0.36041666666666666\n",
      "control_13 mean 205.36527777777778 sd 304.2087640547203 zeros 471, total 1440 -> 0.32708333333333334\n",
      "control_13 mean 157.5861111111111 sd 260.0587104148884 zeros 604, total 1440 -> 0.41944444444444445\n",
      "control_13 mean 131.5673611111111 sd 236.2681701801123 zeros 595, total 1440 -> 0.4131944444444444\n",
      "control_13 mean 274.89166666666665 sd 364.43773387919117 zeros 374, total 1440 -> 0.25972222222222224\n",
      "control_13 mean 134.60972222222222 sd 226.28296055781988 zeros 539, total 1440 -> 0.37430555555555556\n",
      "control_13 mean 165.0236111111111 sd 257.6548849144792 zeros 510, total 1440 -> 0.3541666666666667\n",
      "control_13 mean 176.21597222222223 sd 293.2678452378364 zeros 582, total 1440 -> 0.4041666666666667\n",
      "control_13 mean 294.34375 sd 378.24105596731675 zeros 401, total 1440 -> 0.27847222222222223\n",
      "control_13 mean 122.46041666666666 sd 230.19643746602168 zeros 664, total 1440 -> 0.46111111111111114\n",
      "control_13 mean 125.52222222222223 sd 231.7460195164698 zeros 615, total 1440 -> 0.4270833333333333\n",
      "control_16 mean 194.16666666666666 sd 288.82060368178617 zeros 0, total 900 -> 0.0\n",
      "control_16 mean 243.32083333333333 sd 332.95929615991497 zeros 33, total 1440 -> 0.022916666666666665\n",
      "control_16 mean 272.36875 sd 318.037156278064 zeros 129, total 1440 -> 0.08958333333333333\n",
      "control_16 mean 275.81875 sd 371.2705490887478 zeros 192, total 1440 -> 0.13333333333333333\n",
      "control_16 mean 331.68333333333334 sd 453.34001496301505 zeros 285, total 1440 -> 0.19791666666666666\n",
      "control_16 mean 247.59097222222223 sd 490.3543475574572 zeros 350, total 1440 -> 0.24305555555555555\n",
      "control_16 mean 240.62847222222223 sd 291.1998528986952 zeros 313, total 1440 -> 0.21736111111111112\n",
      "control_16 mean 240.0326388888889 sd 298.9565644151766 zeros 184, total 1440 -> 0.12777777777777777\n",
      "control_16 mean 251.22986111111112 sd 309.33335232126836 zeros 297, total 1440 -> 0.20625\n",
      "control_16 mean 284.8909722222222 sd 382.85619932677605 zeros 278, total 1440 -> 0.19305555555555556\n",
      "control_16 mean 171.73263888888889 sd 275.11937821250586 zeros 570, total 1440 -> 0.3958333333333333\n",
      "control_16 mean 232.8875 sd 271.87902203282965 zeros 394, total 1440 -> 0.27361111111111114\n",
      "control_16 mean 244.91875 sd 326.87313786781044 zeros 362, total 1440 -> 0.2513888888888889\n"
     ]
    },
    {
     "name": "stdout",
     "output_type": "stream",
     "text": [
      "control_27 mean 359.6936842105263 sd 380.5342032654202 zeros 74, total 950 -> 0.07789473684210527\n",
      "control_27 mean 275.6743055555556 sd 362.3870496916796 zeros 402, total 1440 -> 0.2791666666666667\n",
      "control_27 mean 267.0076388888889 sd 383.94884363021725 zeros 403, total 1440 -> 0.2798611111111111\n",
      "control_27 mean 289.86875 sd 384.48079907424716 zeros 433, total 1440 -> 0.30069444444444443\n",
      "control_27 mean 279.23055555555555 sd 387.06911299279005 zeros 416, total 1440 -> 0.28888888888888886\n",
      "control_27 mean 339.19444444444446 sd 473.25073630537645 zeros 477, total 1440 -> 0.33125\n",
      "control_27 mean 290.24444444444447 sd 421.9031582829586 zeros 522, total 1440 -> 0.3625\n",
      "control_27 mean 302.2986111111111 sd 413.6812779426847 zeros 412, total 1440 -> 0.2861111111111111\n",
      "control_27 mean 330.3 sd 472.63975475807854 zeros 437, total 1440 -> 0.3034722222222222\n",
      "control_27 mean 305.1041666666667 sd 447.5557075622307 zeros 441, total 1440 -> 0.30625\n",
      "control_27 mean 357.5736111111111 sd 451.27551497365437 zeros 392, total 1440 -> 0.2722222222222222\n",
      "control_27 mean 375.1347222222222 sd 442.4880568569438 zeros 358, total 1440 -> 0.24861111111111112\n",
      "control_27 mean 417.6770833333333 sd 515.1267271559295 zeros 427, total 1440 -> 0.2965277777777778\n",
      "control_14 mean 349.22555555555556 sd 534.4750043133936 zeros 38, total 900 -> 0.042222222222222223\n",
      "control_14 mean 529.7333333333333 sd 676.1193278967526 zeros 353, total 1440 -> 0.24513888888888888\n",
      "control_14 mean 377.9215277777778 sd 530.7190223156374 zeros 456, total 1440 -> 0.31666666666666665\n",
      "control_14 mean 472.98819444444445 sd 573.8132734411917 zeros 312, total 1440 -> 0.21666666666666667\n",
      "control_14 mean 350.7993055555556 sd 657.0738823032561 zeros 477, total 1440 -> 0.33125\n",
      "control_14 mean 245.08541666666667 sd 473.5808716677103 zeros 549, total 1440 -> 0.38125\n",
      "control_14 mean 434.9736111111111 sd 610.3314804024878 zeros 326, total 1440 -> 0.2263888888888889\n",
      "control_14 mean 289.10833333333335 sd 498.9059468671866 zeros 465, total 1440 -> 0.3229166666666667\n",
      "control_14 mean 386.4243055555556 sd 482.1355919163951 zeros 314, total 1440 -> 0.21805555555555556\n",
      "control_14 mean 290.44930555555555 sd 497.4644559464279 zeros 506, total 1440 -> 0.35138888888888886\n",
      "control_14 mean 350.6534722222222 sd 524.0309337260845 zeros 497, total 1440 -> 0.3451388888888889\n",
      "control_14 mean 451.775 sd 614.4625695475685 zeros 211, total 1440 -> 0.14652777777777778\n",
      "control_14 mean 364.12638888888887 sd 516.6551403265499 zeros 371, total 1440 -> 0.25763888888888886\n",
      "control_3 mean 0.11481481481481481 sd 1.4649494249148212 zeros 532, total 540 -> 0.9851851851851852\n",
      "control_3 mean 190.93958333333333 sd 277.1564161059882 zeros 678, total 1440 -> 0.4708333333333333\n",
      "control_3 mean 249.86041666666668 sd 343.39592566961693 zeros 468, total 1440 -> 0.325\n",
      "control_3 mean 300.2013888888889 sd 435.8148383561576 zeros 507, total 1440 -> 0.35208333333333336\n",
      "control_3 mean 264.3513888888889 sd 320.4322278375876 zeros 497, total 1440 -> 0.3451388888888889\n",
      "control_3 mean 322.9798611111111 sd 388.73538594893745 zeros 379, total 1440 -> 0.26319444444444445\n",
      "control_3 mean 225.90902777777777 sd 315.30555405590064 zeros 544, total 1440 -> 0.37777777777777777\n",
      "control_3 mean 279.5451388888889 sd 349.4504942942286 zeros 442, total 1440 -> 0.30694444444444446\n",
      "control_3 mean 277.9243055555556 sd 379.78401093884406 zeros 457, total 1440 -> 0.3173611111111111\n",
      "control_3 mean 290.40208333333334 sd 372.91921804876796 zeros 444, total 1440 -> 0.30833333333333335\n",
      "control_3 mean 211.24791666666667 sd 351.85280667504196 zeros 554, total 1440 -> 0.38472222222222224\n",
      "control_3 mean 194.14583333333334 sd 285.702632137711 zeros 623, total 1440 -> 0.4326388888888889\n",
      "control_23 mean 151.02666666666667 sd 225.46299859030898 zeros 383, total 900 -> 0.4255555555555556\n",
      "control_23 mean 176.19444444444446 sd 222.82180778526038 zeros 446, total 1440 -> 0.30972222222222223\n",
      "control_23 mean 186.55902777777777 sd 231.7034008385852 zeros 389, total 1440 -> 0.2701388888888889\n",
      "control_23 mean 213.82430555555555 sd 310.4019465741446 zeros 525, total 1440 -> 0.3645833333333333\n",
      "control_23 mean 244.69305555555556 sd 306.30997409413925 zeros 382, total 1440 -> 0.2652777777777778\n",
      "control_23 mean 195.21597222222223 sd 314.5964344210594 zeros 522, total 1440 -> 0.3625\n",
      "control_23 mean 200.53333333333333 sd 313.9148132853871 zeros 470, total 1440 -> 0.3263888888888889\n",
      "control_23 mean 229.6298611111111 sd 308.6229875007201 zeros 347, total 1440 -> 0.24097222222222223\n",
      "control_23 mean 287.1875 sd 373.2354218472944 zeros 362, total 1440 -> 0.2513888888888889\n",
      "control_23 mean 248.77777777777777 sd 325.406656791084 zeros 358, total 1440 -> 0.24861111111111112\n",
      "control_23 mean 127.9375 sd 209.50156187265844 zeros 477, total 1440 -> 0.33125\n",
      "control_23 mean 117.55277777777778 sd 224.21131833621106 zeros 423, total 1440 -> 0.29375\n",
      "control_23 mean 178.15 sd 275.2231236247739 zeros 291, total 1440 -> 0.20208333333333334\n",
      "control_30 mean 310.30434782608694 sd 389.96873172118154 zeros 4, total 690 -> 0.005797101449275362\n",
      "control_30 mean 159.84375 sd 239.2814008241801 zeros 135, total 1440 -> 0.09375\n",
      "control_30 mean 297.62430555555557 sd 363.1870039331064 zeros 101, total 1440 -> 0.07013888888888889\n",
      "control_30 mean 235.9701388888889 sd 333.9412100163781 zeros 157, total 1440 -> 0.10902777777777778\n",
      "control_30 mean 231.91319444444446 sd 354.3200532056934 zeros 180, total 1440 -> 0.125\n",
      "control_30 mean 222.16666666666666 sd 359.44447492701244 zeros 114, total 1440 -> 0.07916666666666666\n",
      "control_30 mean 212.08194444444445 sd 355.8445961630453 zeros 62, total 1440 -> 0.043055555555555555\n",
      "control_30 mean 174.85347222222222 sd 342.5781501296838 zeros 146, total 1440 -> 0.10138888888888889\n",
      "control_30 mean 212.48541666666668 sd 332.97514473237914 zeros 56, total 1440 -> 0.03888888888888889\n",
      "control_2 mean 415.6722222222222 sd 430.15527554622355 zeros 39, total 540 -> 0.07222222222222222\n",
      "control_2 mean 271.19305555555553 sd 359.90961281441145 zeros 425, total 1440 -> 0.2951388888888889\n",
      "control_2 mean 462.2340277777778 sd 534.4969650500052 zeros 397, total 1440 -> 0.27569444444444446\n",
      "control_2 mean 457.1701388888889 sd 591.3572567243399 zeros 488, total 1440 -> 0.3388888888888889\n",
      "control_2 mean 243.56041666666667 sd 415.12945666896593 zeros 657, total 1440 -> 0.45625\n",
      "control_2 mean 395.85069444444446 sd 471.69694020874954 zeros 449, total 1440 -> 0.31180555555555556\n",
      "control_2 mean 603.1618055555556 sd 727.5623595358744 zeros 480, total 1440 -> 0.3333333333333333\n",
      "control_2 mean 369.0215277777778 sd 548.0224792205152 zeros 533, total 1440 -> 0.3701388888888889\n",
      "control_2 mean 498.93055555555554 sd 667.1513035617485 zeros 524, total 1440 -> 0.3638888888888889\n",
      "control_2 mean 413.6645833333333 sd 538.3964481795236 zeros 513, total 1440 -> 0.35625\n",
      "control_2 mean 325.3854166666667 sd 500.59324049193407 zeros 603, total 1440 -> 0.41875\n",
      "control_2 mean 309.1666666666667 sd 436.7937712595186 zeros 492, total 1440 -> 0.3416666666666667\n",
      "control_2 mean 368.18958333333336 sd 455.04760377025286 zeros 456, total 1440 -> 0.31666666666666665\n",
      "control_2 mean 302.10833333333335 sd 425.0561524179271 zeros 533, total 1440 -> 0.3701388888888889\n",
      "control_2 mean 343.8201388888889 sd 463.8160243626086 zeros 545, total 1440 -> 0.3784722222222222\n",
      "control_2 mean 362.81180555555557 sd 452.25181960148154 zeros 398, total 1440 -> 0.2763888888888889\n",
      "control_2 mean 490.24652777777777 sd 556.1968772902167 zeros 373, total 1440 -> 0.2590277777777778\n",
      "control_2 mean 575.0215277777778 sd 613.9041797362728 zeros 348, total 1440 -> 0.24166666666666667\n",
      "control_2 mean 577.0291666666667 sd 576.6227432543706 zeros 406, total 1440 -> 0.28194444444444444\n",
      "control_2 mean 626.2902777777778 sd 578.8520276421931 zeros 353, total 1440 -> 0.24513888888888888\n",
      "control_1 mean 388.6592592592593 sd 522.8057200650966 zeros 106, total 540 -> 0.1962962962962963\n",
      "control_1 mean 185.56805555555556 sd 346.43543302804693 zeros 557, total 1440 -> 0.38680555555555557\n",
      "control_1 mean 225.98125 sd 384.2451731911003 zeros 516, total 1440 -> 0.35833333333333334\n",
      "control_1 mean 169.66319444444446 sd 304.2122108017815 zeros 657, total 1440 -> 0.45625\n",
      "control_1 mean 183.69097222222223 sd 276.91035137076216 zeros 520, total 1440 -> 0.3611111111111111\n",
      "control_1 mean 347.075 sd 236.76361555943961 zeros 34, total 1440 -> 0.02361111111111111\n",
      "control_1 mean 194.42361111111111 sd 356.2999278826502 zeros 630, total 1440 -> 0.4375\n",
      "control_1 mean 310.71527777777777 sd 450.7807896551763 zeros 515, total 1440 -> 0.3576388888888889\n",
      "patient_15 mean 77.37333333333333 sd 168.60867435178665 zeros 630, total 900 -> 0.7\n",
      "patient_15 mean 145.63541666666666 sd 202.30732190323707 zeros 647, total 1440 -> 0.44930555555555557\n",
      "patient_15 mean 142.6326388888889 sd 207.36578099857059 zeros 660, total 1440 -> 0.4583333333333333\n",
      "patient_15 mean 181.8451388888889 sd 242.71380389538905 zeros 564, total 1440 -> 0.39166666666666666\n",
      "patient_15 mean 120.80694444444444 sd 179.51107272130162 zeros 701, total 1440 -> 0.48680555555555555\n",
      "patient_15 mean 118.34305555555555 sd 237.4431840382422 zeros 782, total 1440 -> 0.5430555555555555\n",
      "patient_15 mean 152.7263888888889 sd 212.8677866221286 zeros 714, total 1440 -> 0.49583333333333335\n",
      "patient_15 mean 171.34444444444443 sd 255.7790023138941 zeros 487, total 1440 -> 0.33819444444444446\n",
      "patient_15 mean 119.45347222222222 sd 215.90884278028332 zeros 752, total 1440 -> 0.5222222222222223\n"
     ]
    },
    {
     "name": "stdout",
     "output_type": "stream",
     "text": [
      "patient_15 mean 135.7722222222222 sd 217.8128645204809 zeros 753, total 1440 -> 0.5229166666666667\n",
      "patient_15 mean 64.51805555555555 sd 129.6641000457083 zeros 898, total 1440 -> 0.6236111111111111\n",
      "patient_15 mean 150.51736111111111 sd 262.661293787546 zeros 623, total 1440 -> 0.4326388888888889\n",
      "patient_15 mean 121.00466666666667 sd 184.84844777516724 zeros 774, total 1500 -> 0.516\n",
      "patient_4 mean 184.86777777777777 sd 239.7409927993018 zeros 414, total 900 -> 0.46\n",
      "patient_4 mean 158.51180555555555 sd 238.57745335533727 zeros 731, total 1440 -> 0.5076388888888889\n",
      "patient_4 mean 188.16180555555556 sd 252.8295007665259 zeros 680, total 1440 -> 0.4722222222222222\n",
      "patient_4 mean 198.05416666666667 sd 245.36852919950366 zeros 583, total 1440 -> 0.4048611111111111\n",
      "patient_4 mean 124.09236111111112 sd 207.92153086489955 zeros 800, total 1440 -> 0.5555555555555556\n",
      "patient_4 mean 154.64305555555555 sd 236.84281961202691 zeros 757, total 1440 -> 0.5256944444444445\n",
      "patient_4 mean 181.18541666666667 sd 249.31455128365553 zeros 705, total 1440 -> 0.4895833333333333\n",
      "patient_4 mean 164.6159722222222 sd 230.41411184936783 zeros 651, total 1440 -> 0.45208333333333334\n",
      "patient_4 mean 182.1340277777778 sd 249.75955539033322 zeros 650, total 1440 -> 0.4513888888888889\n",
      "patient_4 mean 184.97291666666666 sd 252.0019675074055 zeros 643, total 1440 -> 0.4465277777777778\n",
      "patient_4 mean 205.86944444444444 sd 268.2956954136041 zeros 523, total 1440 -> 0.36319444444444443\n",
      "patient_4 mean 134.20625 sd 226.3563496884318 zeros 762, total 1440 -> 0.5291666666666667\n",
      "patient_4 mean 161.7722222222222 sd 240.29056960169345 zeros 641, total 1440 -> 0.44513888888888886\n",
      "patient_18 mean 5.386666666666667 sd 51.75875062891839 zeros 868, total 900 -> 0.9644444444444444\n",
      "patient_18 mean 74.67152777777778 sd 181.50574606882088 zeros 1019, total 1440 -> 0.7076388888888889\n",
      "patient_18 mean 177.55416666666667 sd 246.0359190339109 zeros 490, total 1440 -> 0.3402777777777778\n",
      "patient_18 mean 142.85208333333333 sd 222.55096715532522 zeros 546, total 1440 -> 0.37916666666666665\n",
      "patient_18 mean 137.26805555555555 sd 231.67721278536857 zeros 625, total 1440 -> 0.4340277777777778\n",
      "patient_18 mean 99.10069444444444 sd 169.0752675899952 zeros 654, total 1440 -> 0.45416666666666666\n",
      "patient_18 mean 138.85694444444445 sd 227.66022826815419 zeros 624, total 1440 -> 0.43333333333333335\n",
      "patient_18 mean 148.64166666666668 sd 231.62086942410374 zeros 687, total 1440 -> 0.47708333333333336\n",
      "patient_18 mean 163.8048611111111 sd 329.5247779483745 zeros 707, total 1440 -> 0.4909722222222222\n",
      "patient_18 mean 163.0875 sd 244.07404525260824 zeros 545, total 1440 -> 0.3784722222222222\n",
      "patient_18 mean 129.7486111111111 sd 215.7326132385596 zeros 676, total 1440 -> 0.46944444444444444\n",
      "patient_18 mean 130.22291666666666 sd 197.62181096546718 zeros 567, total 1440 -> 0.39375\n",
      "patient_18 mean 134.55625 sd 206.70386332556754 zeros 604, total 1440 -> 0.41944444444444445\n",
      "patient_19 mean 84.62 sd 165.2487083156778 zeros 342, total 900 -> 0.38\n",
      "patient_19 mean 58.043055555555554 sd 122.57092428285074 zeros 827, total 1440 -> 0.5743055555555555\n",
      "patient_19 mean 87.25763888888889 sd 209.07781880593424 zeros 723, total 1440 -> 0.5020833333333333\n",
      "patient_19 mean 93.49930555555555 sd 180.62306900025973 zeros 823, total 1440 -> 0.5715277777777777\n",
      "patient_19 mean 132.68055555555554 sd 279.7139722798649 zeros 612, total 1440 -> 0.425\n",
      "patient_19 mean 129.44027777777777 sd 274.1502234986638 zeros 525, total 1440 -> 0.3645833333333333\n",
      "patient_19 mean 210.29236111111112 sd 338.29553146371103 zeros 149, total 1440 -> 0.10347222222222222\n",
      "patient_19 mean 181.60347222222222 sd 297.028261121077 zeros 577, total 1440 -> 0.40069444444444446\n",
      "patient_19 mean 212.23402777777778 sd 281.13244967235045 zeros 533, total 1440 -> 0.3701388888888889\n",
      "patient_19 mean 128.19444444444446 sd 214.79087949347348 zeros 564, total 1440 -> 0.39166666666666666\n",
      "patient_19 mean 199.35208333333333 sd 285.1500634336505 zeros 546, total 1440 -> 0.37916666666666665\n",
      "patient_19 mean 118.25833333333334 sd 277.6761501731798 zeros 714, total 1440 -> 0.49583333333333335\n",
      "patient_19 mean 192.5951388888889 sd 285.7505042354507 zeros 409, total 1440 -> 0.28402777777777777\n",
      "patient_3 mean 291.8622222222222 sd 369.82842405567715 zeros 232, total 900 -> 0.2577777777777778\n",
      "patient_3 mean 194.39930555555554 sd 318.6008838562154 zeros 680, total 1440 -> 0.4722222222222222\n",
      "patient_3 mean 174.50069444444443 sd 298.71798526660405 zeros 701, total 1440 -> 0.48680555555555555\n",
      "patient_3 mean 93.7388888888889 sd 215.92390928001765 zeros 1029, total 1440 -> 0.7145833333333333\n",
      "patient_3 mean 243.77916666666667 sd 241.30960659003787 zeros 123, total 1440 -> 0.08541666666666667\n",
      "patient_3 mean 215.5875 sd 282.70093023345504 zeros 502, total 1440 -> 0.3486111111111111\n",
      "patient_3 mean 246.4701388888889 sd 300.81635999667196 zeros 356, total 1440 -> 0.24722222222222223\n",
      "patient_3 mean 257.9527777777778 sd 291.583024660321 zeros 69, total 1440 -> 0.04791666666666667\n",
      "patient_3 mean 205.65 sd 249.07032920219277 zeros 146, total 1440 -> 0.10138888888888889\n",
      "patient_3 mean 211.12291666666667 sd 237.75487675181444 zeros 228, total 1440 -> 0.15833333333333333\n",
      "patient_3 mean 186.04305555555555 sd 223.72073882309675 zeros 366, total 1440 -> 0.25416666666666665\n",
      "patient_3 mean 176.84722222222223 sd 206.68370962806327 zeros 399, total 1440 -> 0.27708333333333335\n",
      "patient_3 mean 173.69930555555555 sd 207.49667801776152 zeros 438, total 1440 -> 0.30416666666666664\n",
      "patient_13 mean 132.54777777777778 sd 223.83165535622072 zeros 538, total 900 -> 0.5977777777777777\n",
      "patient_13 mean 227.00069444444443 sd 305.20084120418136 zeros 614, total 1440 -> 0.4263888888888889\n",
      "patient_13 mean 290.46527777777777 sd 367.6353041397449 zeros 542, total 1440 -> 0.3763888888888889\n",
      "patient_13 mean 304.03333333333336 sd 405.7008736604944 zeros 558, total 1440 -> 0.3875\n",
      "patient_13 mean 257.3 sd 374.71102791943974 zeros 609, total 1440 -> 0.42291666666666666\n",
      "patient_13 mean 288.09444444444443 sd 502.66478721158575 zeros 666, total 1440 -> 0.4625\n",
      "patient_13 mean 299.43194444444447 sd 441.56449709036093 zeros 657, total 1440 -> 0.45625\n",
      "patient_13 mean 263.68541666666664 sd 395.9017068086375 zeros 624, total 1440 -> 0.43333333333333335\n",
      "patient_13 mean 253.69722222222222 sd 367.57461637522533 zeros 637, total 1440 -> 0.4423611111111111\n",
      "patient_13 mean 315.8520833333333 sd 426.7278483915494 zeros 563, total 1440 -> 0.3909722222222222\n",
      "patient_13 mean 323.96319444444447 sd 403.18031623003395 zeros 580, total 1440 -> 0.4027777777777778\n",
      "patient_13 mean 280.69444444444446 sd 358.1920880108617 zeros 583, total 1440 -> 0.4048611111111111\n",
      "patient_11 mean 79.24222222222222 sd 158.53380009587758 zeros 498, total 900 -> 0.5533333333333333\n",
      "patient_11 mean 109.7375 sd 182.38544878110034 zeros 726, total 1440 -> 0.5041666666666667\n",
      "patient_11 mean 95.25 sd 158.64283346912052 zeros 655, total 1440 -> 0.4548611111111111\n",
      "patient_11 mean 83.37847222222223 sd 162.4327397824139 zeros 809, total 1440 -> 0.5618055555555556\n",
      "patient_11 mean 39.15 sd 113.60501627226805 zeros 1079, total 1440 -> 0.7493055555555556\n",
      "patient_11 mean 102.21805555555555 sd 185.86808630674176 zeros 650, total 1440 -> 0.4513888888888889\n",
      "patient_11 mean 70.45277777777778 sd 147.89824014074148 zeros 799, total 1440 -> 0.5548611111111111\n",
      "patient_11 mean 76.97569444444444 sd 130.3756915111773 zeros 691, total 1440 -> 0.4798611111111111\n",
      "patient_11 mean 79.00625 sd 154.28236411723853 zeros 758, total 1440 -> 0.5263888888888889\n",
      "patient_11 mean 75.58472222222223 sd 152.4727654731618 zeros 732, total 1440 -> 0.5083333333333333\n",
      "patient_11 mean 120.77083333333333 sd 206.32257708736682 zeros 644, total 1440 -> 0.44722222222222224\n",
      "patient_11 mean 101.43055555555556 sd 194.1112278787091 zeros 776, total 1440 -> 0.5388888888888889\n",
      "patient_11 mean 91.76733333333334 sd 156.66333712632166 zeros 700, total 1500 -> 0.4666666666666667\n",
      "patient_10 mean 126.26777777777778 sd 235.18812910697474 zeros 243, total 900 -> 0.27\n",
      "patient_10 mean 122.21597222222222 sd 205.80203512490922 zeros 617, total 1440 -> 0.4284722222222222\n",
      "patient_10 mean 168.73263888888889 sd 323.1576477875677 zeros 673, total 1440 -> 0.4673611111111111\n",
      "patient_10 mean 101.39166666666667 sd 184.70043520221782 zeros 718, total 1440 -> 0.4986111111111111\n",
      "patient_10 mean 86.83194444444445 sd 161.3819729764593 zeros 797, total 1440 -> 0.5534722222222223\n",
      "patient_10 mean 94.54930555555555 sd 178.83310519421818 zeros 697, total 1440 -> 0.4840277777777778\n",
      "patient_10 mean 127.34930555555556 sd 229.8401245360329 zeros 702, total 1440 -> 0.4875\n",
      "patient_10 mean 143.45138888888889 sd 222.30810794746498 zeros 591, total 1440 -> 0.41041666666666665\n",
      "patient_10 mean 118.54722222222222 sd 195.2344793747478 zeros 672, total 1440 -> 0.4666666666666667\n",
      "patient_10 mean 99.23055555555555 sd 175.39521534625325 zeros 671, total 1440 -> 0.46597222222222223\n",
      "patient_10 mean 83.94097222222223 sd 148.5488836083154 zeros 710, total 1440 -> 0.4930555555555556\n",
      "patient_10 mean 88.4888888888889 sd 154.51507887182194 zeros 712, total 1440 -> 0.49444444444444446\n",
      "patient_10 mean 53.15555555555556 sd 117.97203987114048 zeros 920, total 1440 -> 0.6388888888888888\n",
      "patient_10 mean 77.73194444444445 sd 148.19888694137674 zeros 810, total 1440 -> 0.5625\n",
      "patient_7 mean 182.51 sd 256.36439107471847 zeros 313, total 900 -> 0.3477777777777778\n",
      "patient_7 mean 186.37430555555557 sd 274.01430321713786 zeros 460, total 1440 -> 0.3194444444444444\n",
      "patient_7 mean 155.34375 sd 254.4645588231269 zeros 643, total 1440 -> 0.4465277777777778\n",
      "patient_7 mean 164.8125 sd 287.245260785535 zeros 646, total 1440 -> 0.4486111111111111\n",
      "patient_7 mean 130.25208333333333 sd 248.37942454504233 zeros 730, total 1440 -> 0.5069444444444444\n",
      "patient_7 mean 82.65 sd 184.59876083007794 zeros 944, total 1440 -> 0.6555555555555556\n"
     ]
    },
    {
     "name": "stdout",
     "output_type": "stream",
     "text": [
      "patient_7 mean 99.79097222222222 sd 203.3008616193398 zeros 839, total 1440 -> 0.5826388888888889\n",
      "patient_7 mean 116.1986111111111 sd 238.47520136219117 zeros 840, total 1440 -> 0.5833333333333334\n",
      "patient_7 mean 100.52569444444444 sd 233.07653584609758 zeros 868, total 1440 -> 0.6027777777777777\n",
      "patient_7 mean 101.4 sd 255.52752297942226 zeros 940, total 1440 -> 0.6527777777777778\n",
      "patient_7 mean 175.07916666666668 sd 247.25753411591646 zeros 467, total 1440 -> 0.32430555555555557\n",
      "patient_7 mean 94.95347222222222 sd 177.32221903344166 zeros 730, total 1440 -> 0.5069444444444444\n",
      "patient_17 mean 158.32333333333332 sd 224.38602380223634 zeros 396, total 900 -> 0.44\n",
      "patient_17 mean 256.8611111111111 sd 316.81139041828226 zeros 415, total 1440 -> 0.2881944444444444\n",
      "patient_17 mean 339.84236111111113 sd 341.388585225404 zeros 314, total 1440 -> 0.21805555555555556\n",
      "patient_17 mean 362.4270833333333 sd 353.9577504838746 zeros 256, total 1440 -> 0.17777777777777778\n",
      "patient_17 mean 253.62847222222223 sd 313.69717597885835 zeros 405, total 1440 -> 0.28125\n",
      "patient_17 mean 357.3041666666667 sd 426.1578580557193 zeros 369, total 1440 -> 0.25625\n",
      "patient_17 mean 288.10555555555555 sd 302.64487113561245 zeros 241, total 1440 -> 0.1673611111111111\n",
      "patient_17 mean 347.97291666666666 sd 432.29015135778604 zeros 344, total 1440 -> 0.2388888888888889\n",
      "patient_17 mean 339.7416666666667 sd 421.4998895314216 zeros 302, total 1440 -> 0.20972222222222223\n",
      "patient_17 mean 352.2083333333333 sd 367.077829603086 zeros 378, total 1440 -> 0.2625\n",
      "patient_17 mean 417.61805555555554 sd 553.1599250935973 zeros 354, total 1440 -> 0.24583333333333332\n",
      "patient_17 mean 318.8875 sd 363.25421708858056 zeros 349, total 1440 -> 0.2423611111111111\n",
      "patient_17 mean 278.62569444444443 sd 582.5810311124255 zeros 417, total 1440 -> 0.28958333333333336\n",
      "patient_22 mean 197.19222222222223 sd 268.7830594561672 zeros 339, total 900 -> 0.37666666666666665\n",
      "patient_22 mean 246.27430555555554 sd 290.48744552297313 zeros 417, total 1440 -> 0.28958333333333336\n",
      "patient_22 mean 231.45625 sd 301.5343255333075 zeros 545, total 1440 -> 0.3784722222222222\n",
      "patient_22 mean 216.02430555555554 sd 293.0016450339025 zeros 542, total 1440 -> 0.3763888888888889\n",
      "patient_22 mean 111.95138888888889 sd 198.5226103083147 zeros 841, total 1440 -> 0.5840277777777778\n",
      "patient_22 mean 189.6861111111111 sd 224.59234076281712 zeros 502, total 1440 -> 0.3486111111111111\n",
      "patient_22 mean 296.9222222222222 sd 365.9743703921769 zeros 453, total 1440 -> 0.3145833333333333\n",
      "patient_22 mean 212.0326388888889 sd 281.2427449261432 zeros 593, total 1440 -> 0.41180555555555554\n",
      "patient_22 mean 271.9826388888889 sd 375.27415771485266 zeros 546, total 1440 -> 0.37916666666666665\n",
      "patient_22 mean 255.53541666666666 sd 343.6700535253309 zeros 488, total 1440 -> 0.3388888888888889\n",
      "patient_22 mean 239.59791666666666 sd 366.25758448133695 zeros 532, total 1440 -> 0.36944444444444446\n",
      "patient_22 mean 174.6611111111111 sd 237.18211272936585 zeros 570, total 1440 -> 0.3958333333333333\n",
      "patient_22 mean 138.83402777777778 sd 213.67737449221903 zeros 643, total 1440 -> 0.4465277777777778\n",
      "patient_21 mean 74.61777777777777 sd 170.16178091437203 zeros 569, total 900 -> 0.6322222222222222\n",
      "patient_21 mean 167.51111111111112 sd 286.2927282789981 zeros 578, total 1440 -> 0.4013888888888889\n",
      "patient_21 mean 151.4673611111111 sd 278.39898485453654 zeros 720, total 1440 -> 0.5\n",
      "patient_21 mean 139.87152777777777 sd 273.176885146275 zeros 745, total 1440 -> 0.5173611111111112\n",
      "patient_21 mean 70.94583333333334 sd 178.3014297299659 zeros 977, total 1440 -> 0.6784722222222223\n",
      "patient_21 mean 115.36319444444445 sd 267.05200940769 zeros 767, total 1440 -> 0.5326388888888889\n",
      "patient_21 mean 143.52569444444444 sd 306.11364203477615 zeros 812, total 1440 -> 0.5638888888888889\n",
      "patient_21 mean 141.96597222222223 sd 283.3247294436787 zeros 763, total 1440 -> 0.5298611111111111\n",
      "patient_21 mean 122.04097222222222 sd 241.56246975368285 zeros 748, total 1440 -> 0.5194444444444445\n",
      "patient_21 mean 145.02083333333334 sd 259.95370765105105 zeros 764, total 1440 -> 0.5305555555555556\n",
      "patient_21 mean 169.54583333333332 sd 270.62435908956775 zeros 492, total 1440 -> 0.3416666666666667\n",
      "patient_21 mean 84.80069444444445 sd 186.84906973444856 zeros 898, total 1440 -> 0.6236111111111111\n",
      "patient_21 mean 131.6326388888889 sd 274.94649058444526 zeros 785, total 1440 -> 0.5451388888888888\n",
      "patient_12 mean 26.45777777777778 sd 84.57932105791163 zeros 627, total 900 -> 0.6966666666666667\n",
      "patient_12 mean 72.0625 sd 121.75080531047834 zeros 631, total 1440 -> 0.43819444444444444\n",
      "patient_12 mean 64.61597222222223 sd 116.6147522371537 zeros 652, total 1440 -> 0.4527777777777778\n",
      "patient_12 mean 59.66319444444444 sd 118.70266205390892 zeros 688, total 1440 -> 0.4777777777777778\n",
      "patient_12 mean 47.239583333333336 sd 99.05156605887264 zeros 800, total 1440 -> 0.5555555555555556\n",
      "patient_12 mean 51.579166666666666 sd 113.62943236373818 zeros 761, total 1440 -> 0.5284722222222222\n",
      "patient_12 mean 61.43888888888889 sd 113.88381817979996 zeros 672, total 1440 -> 0.4666666666666667\n",
      "patient_12 mean 61.232638888888886 sd 117.77737670062473 zeros 682, total 1440 -> 0.4736111111111111\n",
      "patient_12 mean 56.65138888888889 sd 101.0837283491263 zeros 664, total 1440 -> 0.46111111111111114\n",
      "patient_12 mean 75.82777777777778 sd 140.94579653798888 zeros 631, total 1440 -> 0.43819444444444444\n",
      "patient_12 mean 53.04236111111111 sd 98.50545111810149 zeros 679, total 1440 -> 0.47152777777777777\n",
      "patient_12 mean 46.61875 sd 87.18664403701683 zeros 671, total 1440 -> 0.46597222222222223\n",
      "patient_12 mean 52.147333333333336 sd 99.62117726445263 zeros 770, total 1500 -> 0.5133333333333333\n",
      "patient_20 mean 106.84444444444445 sd 187.13743678621233 zeros 112, total 900 -> 0.12444444444444444\n",
      "patient_20 mean 93.10625 sd 169.59111928021272 zeros 744, total 1440 -> 0.5166666666666667\n",
      "patient_20 mean 109.78819444444444 sd 185.38969166945418 zeros 620, total 1440 -> 0.4305555555555556\n",
      "patient_20 mean 91.37152777777777 sd 160.41177099161365 zeros 642, total 1440 -> 0.44583333333333336\n",
      "patient_20 mean 128.08333333333334 sd 221.54836128685093 zeros 410, total 1440 -> 0.2847222222222222\n",
      "patient_20 mean 77.22222222222223 sd 149.80439767152413 zeros 667, total 1440 -> 0.46319444444444446\n",
      "patient_20 mean 84.94236111111111 sd 150.15342203886297 zeros 569, total 1440 -> 0.3951388888888889\n",
      "patient_20 mean 95.29722222222222 sd 192.61296611211324 zeros 712, total 1440 -> 0.49444444444444446\n",
      "patient_20 mean 119.13055555555556 sd 236.78664719231992 zeros 688, total 1440 -> 0.4777777777777778\n",
      "patient_20 mean 88.35972222222222 sd 185.21659554853488 zeros 746, total 1440 -> 0.5180555555555556\n",
      "patient_20 mean 94.00347222222223 sd 171.90157669805424 zeros 720, total 1440 -> 0.5\n",
      "patient_20 mean 136.63125 sd 248.38372138933423 zeros 607, total 1440 -> 0.4215277777777778\n",
      "patient_20 mean 97.15347222222222 sd 155.5222677041222 zeros 704, total 1440 -> 0.4888888888888889\n",
      "patient_2 mean 45.11666666666667 sd 133.09562456286133 zeros 578, total 900 -> 0.6422222222222222\n",
      "patient_2 mean 75.59027777777777 sd 140.3785167361239 zeros 586, total 1440 -> 0.40694444444444444\n",
      "patient_2 mean 72.40277777777777 sd 149.2028689516208 zeros 545, total 1440 -> 0.3784722222222222\n",
      "patient_2 mean 76.94375 sd 151.81230288800643 zeros 539, total 1440 -> 0.37430555555555556\n",
      "patient_2 mean 80.47916666666667 sd 170.2021538555948 zeros 651, total 1440 -> 0.45208333333333334\n",
      "patient_2 mean 66.56527777777778 sd 131.23554381734405 zeros 663, total 1440 -> 0.46041666666666664\n",
      "patient_2 mean 60.480555555555554 sd 129.49833615285522 zeros 635, total 1440 -> 0.4409722222222222\n",
      "patient_2 mean 69.40486111111112 sd 116.07247187154091 zeros 506, total 1440 -> 0.35138888888888886\n",
      "patient_2 mean 109.71805555555555 sd 174.91476402521556 zeros 351, total 1440 -> 0.24375\n",
      "patient_2 mean 70.04583333333333 sd 118.28468182677366 zeros 639, total 1440 -> 0.44375\n",
      "patient_2 mean 104.3125 sd 149.6630320990569 zeros 479, total 1440 -> 0.3326388888888889\n",
      "patient_2 mean 103.25208333333333 sd 161.560131336064 zeros 469, total 1440 -> 0.32569444444444445\n",
      "patient_2 mean 112.85902777777778 sd 147.40008476233564 zeros 348, total 1440 -> 0.24166666666666667\n",
      "patient_14 mean 79.48222222222222 sd 186.87696699984636 zeros 610, total 900 -> 0.6777777777777778\n",
      "patient_14 mean 143.79861111111111 sd 248.5585466428034 zeros 709, total 1440 -> 0.49236111111111114\n",
      "patient_14 mean 213.47430555555556 sd 287.1463296258079 zeros 372, total 1440 -> 0.25833333333333336\n",
      "patient_14 mean 137.52916666666667 sd 255.9845491960061 zeros 750, total 1440 -> 0.5208333333333334\n",
      "patient_14 mean 153.25625 sd 239.7119690085109 zeros 594, total 1440 -> 0.4125\n",
      "patient_14 mean 166.90902777777777 sd 245.86536384924486 zeros 512, total 1440 -> 0.35555555555555557\n",
      "patient_14 mean 198.0326388888889 sd 289.8123021241172 zeros 536, total 1440 -> 0.37222222222222223\n",
      "patient_14 mean 145.40555555555557 sd 224.09387782857254 zeros 506, total 1440 -> 0.35138888888888886\n",
      "patient_14 mean 135.94722222222222 sd 218.55560249321695 zeros 607, total 1440 -> 0.4215277777777778\n",
      "patient_14 mean 181.7201388888889 sd 257.3599864974758 zeros 422, total 1440 -> 0.29305555555555557\n",
      "patient_14 mean 150.66180555555556 sd 236.62451839961756 zeros 624, total 1440 -> 0.43333333333333335\n",
      "patient_14 mean 154.91736111111112 sd 235.91946478673415 zeros 598, total 1440 -> 0.4152777777777778\n",
      "patient_14 mean 135.24466666666666 sd 198.20036866318353 zeros 614, total 1500 -> 0.4093333333333333\n",
      "patient_6 mean 85.00777777777778 sd 139.1261495731905 zeros 462, total 900 -> 0.5133333333333333\n",
      "patient_6 mean 82.97291666666666 sd 138.3223990250619 zeros 678, total 1440 -> 0.4708333333333333\n",
      "patient_6 mean 119.9875 sd 160.76214697280454 zeros 499, total 1440 -> 0.34652777777777777\n",
      "patient_6 mean 122.29583333333333 sd 156.94673542452813 zeros 534, total 1440 -> 0.37083333333333335\n",
      "patient_6 mean 118.09027777777777 sd 167.99470532308294 zeros 573, total 1440 -> 0.39791666666666664\n",
      "patient_6 mean 79.12430555555555 sd 149.59286123161806 zeros 681, total 1440 -> 0.47291666666666665\n",
      "patient_6 mean 107.47222222222223 sd 144.8995027426313 zeros 556, total 1440 -> 0.3861111111111111\n",
      "patient_6 mean 109.21319444444444 sd 168.78101679828256 zeros 560, total 1440 -> 0.3888888888888889\n",
      "patient_6 mean 86.1763888888889 sd 136.70375817098483 zeros 580, total 1440 -> 0.4027777777777778\n"
     ]
    },
    {
     "name": "stdout",
     "output_type": "stream",
     "text": [
      "patient_6 mean 98.86319444444445 sd 134.41386659954358 zeros 519, total 1440 -> 0.36041666666666666\n",
      "patient_6 mean 92.55972222222222 sd 142.04575960635003 zeros 591, total 1440 -> 0.41041666666666665\n",
      "patient_6 mean 88.7298611111111 sd 150.2032556145269 zeros 638, total 1440 -> 0.44305555555555554\n",
      "patient_6 mean 92.02083333333333 sd 138.83176113305424 zeros 595, total 1440 -> 0.4131944444444444\n",
      "patient_1 mean 210.8088888888889 sd 316.047357789036 zeros 364, total 900 -> 0.40444444444444444\n",
      "patient_1 mean 238.5923611111111 sd 364.83406970000465 zeros 669, total 1440 -> 0.46458333333333335\n",
      "patient_1 mean 200.81458333333333 sd 345.4501345806237 zeros 713, total 1440 -> 0.4951388888888889\n",
      "patient_1 mean 101.91041666666666 sd 213.83123122464528 zeros 922, total 1440 -> 0.6402777777777777\n",
      "patient_1 mean 132.65277777777777 sd 249.88476286982166 zeros 883, total 1440 -> 0.6131944444444445\n",
      "patient_1 mean 111.74930555555555 sd 221.86094321560412 zeros 874, total 1440 -> 0.6069444444444444\n",
      "patient_1 mean 224.48958333333334 sd 343.42402508066294 zeros 643, total 1440 -> 0.4465277777777778\n",
      "patient_1 mean 302.90208333333334 sd 388.8408050376471 zeros 637, total 1440 -> 0.4423611111111111\n",
      "patient_1 mean 200.38125 sd 327.349127349096 zeros 764, total 1440 -> 0.5305555555555556\n",
      "patient_1 mean 303.59444444444443 sd 450.451165157064 zeros 552, total 1440 -> 0.38333333333333336\n",
      "patient_1 mean 141.9013888888889 sd 247.07349895721336 zeros 797, total 1440 -> 0.5534722222222223\n",
      "patient_1 mean 134.42291666666668 sd 238.09682239781657 zeros 852, total 1440 -> 0.5916666666666667\n",
      "patient_1 mean 126.3951388888889 sd 234.2328823432229 zeros 842, total 1440 -> 0.5847222222222223\n",
      "patient_9 mean 186.72333333333333 sd 257.6181974895756 zeros 396, total 900 -> 0.44\n",
      "patient_9 mean 205.18819444444443 sd 320.5599874517635 zeros 721, total 1440 -> 0.5006944444444444\n",
      "patient_9 mean 199.56180555555557 sd 307.71633367991114 zeros 730, total 1440 -> 0.5069444444444444\n",
      "patient_9 mean 174.85694444444445 sd 309.85935040774314 zeros 844, total 1440 -> 0.5861111111111111\n",
      "patient_9 mean 179.08958333333334 sd 353.92468541632843 zeros 879, total 1440 -> 0.6104166666666667\n",
      "patient_9 mean 177.58055555555555 sd 343.2946728390827 zeros 787, total 1440 -> 0.5465277777777777\n",
      "patient_9 mean 242.07222222222222 sd 323.6656544878707 zeros 512, total 1440 -> 0.35555555555555557\n",
      "patient_9 mean 237.1159722222222 sd 302.1388450519613 zeros 507, total 1440 -> 0.35208333333333336\n",
      "patient_9 mean 190.54722222222222 sd 293.70360956253364 zeros 737, total 1440 -> 0.5118055555555555\n",
      "patient_9 mean 184.25625 sd 337.10760568127296 zeros 833, total 1440 -> 0.5784722222222223\n",
      "patient_9 mean 267.58194444444445 sd 356.3122658358937 zeros 527, total 1440 -> 0.3659722222222222\n",
      "patient_9 mean 205.03472222222223 sd 310.75485187046536 zeros 647, total 1440 -> 0.44930555555555557\n",
      "patient_9 mean 263.15694444444443 sd 388.9957695165519 zeros 599, total 1440 -> 0.41597222222222224\n",
      "patient_8 mean 149.45111111111112 sd 178.43710018095302 zeros 282, total 900 -> 0.31333333333333335\n",
      "patient_8 mean 140.70277777777778 sd 189.04124107087551 zeros 558, total 1440 -> 0.3875\n",
      "patient_8 mean 163.51944444444445 sd 206.43406846233955 zeros 444, total 1440 -> 0.30833333333333335\n",
      "patient_8 mean 119.64652777777778 sd 168.33056739196113 zeros 591, total 1440 -> 0.41041666666666665\n",
      "patient_8 mean 151.2486111111111 sd 198.01838964338728 zeros 522, total 1440 -> 0.3625\n",
      "patient_8 mean 167.27013888888888 sd 275.58558853523976 zeros 709, total 1440 -> 0.49236111111111114\n",
      "patient_8 mean 128.06666666666666 sd 201.06777395252246 zeros 677, total 1440 -> 0.4701388888888889\n",
      "patient_8 mean 132.43055555555554 sd 208.43836861480793 zeros 640, total 1440 -> 0.4444444444444444\n",
      "patient_8 mean 128.42083333333332 sd 173.20914817184752 zeros 555, total 1440 -> 0.3854166666666667\n",
      "patient_8 mean 123.08680555555556 sd 213.96653124396073 zeros 726, total 1440 -> 0.5041666666666667\n",
      "patient_8 mean 123.25 sd 178.33203659964684 zeros 634, total 1440 -> 0.44027777777777777\n",
      "patient_8 mean 144.3111111111111 sd 209.51084667993413 zeros 636, total 1440 -> 0.44166666666666665\n",
      "patient_8 mean 111.64166666666667 sd 200.6708144297247 zeros 784, total 1440 -> 0.5444444444444444\n",
      "patient_16 mean 88.72333333333333 sd 206.9620043228549 zeros 130, total 900 -> 0.14444444444444443\n",
      "patient_16 mean 157.01805555555555 sd 280.8875708388945 zeros 764, total 1440 -> 0.5305555555555556\n",
      "patient_16 mean 160.74722222222223 sd 251.7603054120583 zeros 623, total 1440 -> 0.4326388888888889\n",
      "patient_16 mean 125.53402777777778 sd 210.14886313145652 zeros 749, total 1440 -> 0.5201388888888889\n",
      "patient_16 mean 152.33125 sd 273.0050861778837 zeros 687, total 1440 -> 0.47708333333333336\n",
      "patient_16 mean 84.72733333333333 sd 185.8563737214536 zeros 913, total 1500 -> 0.6086666666666667\n",
      "patient_16 mean 143.78472222222223 sd 268.47539363750167 zeros 675, total 1440 -> 0.46875\n",
      "patient_16 mean 81.39375 sd 186.63875115623847 zeros 947, total 1440 -> 0.6576388888888889\n",
      "patient_16 mean 158.67638888888888 sd 285.31705463350505 zeros 721, total 1440 -> 0.5006944444444444\n",
      "patient_16 mean 151.42916666666667 sd 245.58396784077124 zeros 632, total 1440 -> 0.4388888888888889\n",
      "patient_16 mean 91.54097222222222 sd 174.8640415966046 zeros 855, total 1440 -> 0.59375\n",
      "patient_16 mean 98.43958333333333 sd 191.53474942870238 zeros 852, total 1440 -> 0.5916666666666667\n",
      "patient_16 mean 99.98055555555555 sd 199.3809611709939 zeros 828, total 1440 -> 0.575\n",
      "patient_5 mean 137.7488888888889 sd 240.98558566595997 zeros 492, total 900 -> 0.5466666666666666\n",
      "patient_5 mean 125.96527777777777 sd 230.12148703319315 zeros 728, total 1440 -> 0.5055555555555555\n",
      "patient_5 mean 168.84444444444443 sd 230.49483477515045 zeros 596, total 1440 -> 0.41388888888888886\n",
      "patient_5 mean 174.52083333333334 sd 250.4383093462217 zeros 656, total 1440 -> 0.45555555555555555\n",
      "patient_5 mean 126.30486111111111 sd 226.84266017742394 zeros 788, total 1440 -> 0.5472222222222223\n",
      "patient_5 mean 125.04791666666667 sd 212.8134219571315 zeros 846, total 1440 -> 0.5875\n",
      "patient_5 mean 224.68819444444443 sd 262.1037604642819 zeros 583, total 1440 -> 0.4048611111111111\n",
      "patient_5 mean 226.6798611111111 sd 252.33584792886762 zeros 516, total 1440 -> 0.35833333333333334\n",
      "patient_5 mean 177.70208333333332 sd 243.47392512932794 zeros 609, total 1440 -> 0.42291666666666666\n",
      "patient_5 mean 158.89930555555554 sd 232.64924779486637 zeros 672, total 1440 -> 0.4666666666666667\n",
      "patient_5 mean 191.98472222222222 sd 266.03987491420673 zeros 638, total 1440 -> 0.44305555555555554\n",
      "patient_5 mean 119.1673611111111 sd 233.0415000386394 zeros 895, total 1440 -> 0.6215277777777778\n",
      "patient_5 mean 124.82569444444445 sd 226.16761736674792 zeros 848, total 1440 -> 0.5888888888888889\n"
     ]
    }
   ],
   "source": [
    "baselineControl = generate_baseline(control)\n",
    "baselinePatient = generate_baseline(patient)\n",
    "join_baselines = pd.concat([baselineControl, baselinePatient])\n"
   ]
  },
  {
   "cell_type": "code",
   "execution_count": 10,
   "id": "21e9a9a0",
   "metadata": {},
   "outputs": [
    {
     "name": "stdout",
     "output_type": "stream",
     "text": [
      "   class       date   kurtosis        mean  prop_zero          sd      skew  \\\n",
      "0    0.0 2002-10-27   5.882073  521.538889   0.064815  618.087214  1.795373   \n",
      "1    0.0 2002-10-28  14.633911  177.711111   0.458333  336.134893  3.106583   \n",
      "2    0.0 2002-10-29  10.739727  204.556944   0.445833  380.635816  2.648267   \n",
      "3    0.0 2002-10-30   9.822657  232.477083   0.428472  428.673642  2.555944   \n",
      "4    0.0 2002-10-31  12.314557  216.834028   0.451389  423.606447  2.895744   \n",
      "5    0.0 2002-11-01  29.915965  137.717361   0.470833  306.271480  4.486696   \n",
      "6    0.0 2002-11-02  14.724635  151.076389   0.444444  312.327819  3.146600   \n",
      "7    0.0 2002-11-03  11.726858  218.888889   0.375000  367.996726  2.661517   \n",
      "8    0.0 2002-11-04  11.235456  261.820139   0.256250  399.560389  2.570438   \n",
      "9    0.0 2002-11-05  14.005527  279.722917   0.339583  436.949923  2.666568   \n",
      "\n",
      "      userid  \n",
      "0  control_4  \n",
      "1  control_4  \n",
      "2  control_4  \n",
      "3  control_4  \n",
      "4  control_4  \n",
      "5  control_4  \n",
      "6  control_4  \n",
      "7  control_4  \n",
      "8  control_4  \n",
      "9  control_4  \n"
     ]
    }
   ],
   "source": [
    "print(join_baselines[:10])"
   ]
  },
  {
   "cell_type": "code",
   "execution_count": 11,
   "id": "25a98be4",
   "metadata": {},
   "outputs": [
    {
     "data": {
      "image/png": "[encoded data removed]",
      "text/plain": [
       "<Figure size 432x288 with 1 Axes>"
      ]
     },
     "metadata": {},
     "output_type": "display_data"
    }
   ],
   "source": [
    "# 0 control or normal\n",
    "# 1 condition or patient\n",
    "\n",
    "eda_baseline_boxplot(join_baselines, utils.Feature.MEAN)"
   ]
  },
  {
   "cell_type": "code",
   "execution_count": 12,
   "id": "1df95c82",
   "metadata": {},
   "outputs": [
    {
     "data": {
      "image/png": "[encoded data removed]",
      "text/plain": [
       "<Figure size 432x288 with 1 Axes>"
      ]
     },
     "metadata": {},
     "output_type": "display_data"
    }
   ],
   "source": [
    "#Standard Deviation\n",
    "eda_baseline_boxplot(join_baselines, utils.Feature.SD)"
   ]
  },
  {
   "cell_type": "code",
   "execution_count": 13,
   "id": "d5001e01",
   "metadata": {},
   "outputs": [
    {
     "data": {
      "image/png": "[encoded data removed]",
      "text/plain": [
       "<Figure size 432x288 with 1 Axes>"
      ]
     },
     "metadata": {},
     "output_type": "display_data"
    }
   ],
   "source": [
    "#proportion of zeros\n",
    "eda_baseline_boxplot(join_baselines, utils.Feature.PROP_ZEROS)"
   ]
  },
  {
   "cell_type": "code",
   "execution_count": 14,
   "id": "a7bb86fa",
   "metadata": {},
   "outputs": [
    {
     "data": {
      "image/png": "[encoded data removed]",
      "text/plain": [
       "<Figure size 432x288 with 1 Axes>"
      ]
     },
     "metadata": {},
     "output_type": "display_data"
    }
   ],
   "source": [
    "#Kurtosis\n",
    "eda_baseline_boxplot(join_baselines, utils.Feature.KURTOSIS)"
   ]
  },
  {
   "cell_type": "code",
   "execution_count": 15,
   "id": "62b45a62",
   "metadata": {},
   "outputs": [
    {
     "name": "stdout",
     "output_type": "stream",
     "text": [
      "Percentiles: 25th=6.807, 75th=13.330, IQR=6.523\n",
      "Lower: -2.978, Upper: 23.115,\n"
     ]
    },
    {
     "data": {
      "image/png": "[encoded data removed]",
      "text/plain": [
       "<Figure size 432x288 with 1 Axes>"
      ]
     },
     "metadata": {},
     "output_type": "display_data"
    }
   ],
   "source": [
    "#Kurtosis\n",
    "eda_baseline_boxplot_remove_outliers(join_baselines, utils.Feature.KURTOSIS, True)"
   ]
  },
  {
   "cell_type": "code",
   "execution_count": null,
   "id": "9706f374",
   "metadata": {},
   "outputs": [],
   "source": []
  },
  {
   "cell_type": "code",
   "execution_count": 15,
   "id": "3faec896",
   "metadata": {
    "scrolled": true
   },
   "outputs": [
    {
     "data": {
      "image/png": "[encoded data removed]",
      "text/plain": [
       "<Figure size 432x288 with 1 Axes>"
      ]
     },
     "metadata": {},
     "output_type": "display_data"
    }
   ],
   "source": [
    "#Skewness\n",
    "eda_baseline_boxplot(join_baselines, utils.Feature.SKEW)"
   ]
  },
  {
   "cell_type": "code",
   "execution_count": 16,
   "id": "a8be3c7a",
   "metadata": {},
   "outputs": [
    {
     "name": "stdout",
     "output_type": "stream",
     "text": [
      "Percentiles: 25th=1.792, 75th=2.615, IQR=0.824\n",
      "Lower: 0.556, Upper: 3.851,\n"
     ]
    },
    {
     "data": {
      "image/png": "[encoded data removed]",
      "text/plain": [
       "<Figure size 432x288 with 1 Axes>"
      ]
     },
     "metadata": {},
     "output_type": "display_data"
    }
   ],
   "source": [
    "#Skew\n",
    "eda_baseline_boxplot_remove_outliers(join_baselines, utils.Feature.SKEW, True)"
   ]
  },
  {
   "cell_type": "code",
   "execution_count": null,
   "id": "ca0f8f18",
   "metadata": {},
   "outputs": [],
   "source": [
    "processed_dataset = process_dataset_byday(control)\n",
    "df_day_night = new_features(processed_dataset)\n",
    "df_day_night = stats_day_night(df_day_night)"
   ]
  },
  {
   "cell_type": "code",
   "execution_count": null,
   "id": "02ad6fd9",
   "metadata": {},
   "outputs": [],
   "source": [
    "print(df_day_night[0])"
   ]
  },
  {
   "cell_type": "code",
   "execution_count": null,
   "id": "ead5fbb5",
   "metadata": {},
   "outputs": [],
   "source": []
  }
 ],
 "metadata": {
  "kernelspec": {
   "display_name": "Python 3",
   "language": "python",
   "name": "python3"
  },
  "language_info": {
   "codemirror_mode": {
    "name": "ipython",
    "version": 3
   },
   "file_extension": ".py",
   "mimetype": "text/x-python",
   "name": "python",
   "nbconvert_exporter": "python",
   "pygments_lexer": "ipython3",
   "version": "3.8.8"
  }
 },
 "nbformat": 4,
 "nbformat_minor": 5
}
