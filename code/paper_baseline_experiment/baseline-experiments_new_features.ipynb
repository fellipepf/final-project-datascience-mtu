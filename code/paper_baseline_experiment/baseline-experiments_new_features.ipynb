{
 "cells": [
  {
   "cell_type": "code",
   "execution_count": null,
   "id": "0d150763",
   "metadata": {},
   "outputs": [],
   "source": [
    "#skip this block is already installed\n",
    "\n",
    "!pip install xgboost\n",
    "!pip install lightgbm\n",
    "!pip install pandas\n",
    "!pip install matplotlib\n",
    "!pip install seaborn"
   ]
  },
  {
   "cell_type": "code",
   "execution_count": 14,
   "id": "compatible-earth",
   "metadata": {
    "execution": {
     "iopub.execute_input": "2021-04-22T07:19:28.910159Z",
     "iopub.status.busy": "2021-04-22T07:19:28.909016Z",
     "iopub.status.idle": "2021-04-22T07:19:31.402151Z",
     "shell.execute_reply": "2021-04-22T07:19:31.402921Z"
    },
    "papermill": {
     "duration": 2.509016,
     "end_time": "2021-04-22T07:19:31.403255",
     "exception": false,
     "start_time": "2021-04-22T07:19:28.894239",
     "status": "completed"
    },
    "tags": []
   },
   "outputs": [],
   "source": [
    "import sys\n",
    "\n",
    "from sklearn.linear_model import LogisticRegression\n",
    "from sklearn.ensemble import RandomForestClassifier\n",
    "import xgboost as xgb\n",
    "import lightgbm as lgb\n",
    "import numpy as np\n",
    "import pandas as pd\n",
    "import os\n",
    "import matplotlib.pyplot as plt\n",
    "import seaborn as sns\n",
    "\n",
    "from sklearn import preprocessing as pp\n",
    "from sklearn.model_selection import train_test_split, StratifiedKFold\n",
    "from sklearn import metrics\n",
    "from sklearn.metrics import classification_report\n",
    "from sklearn.model_selection import LeaveOneOut\n",
    "\n",
    "from matplotlib import pyplot\n",
    "from xgboost import plot_importance\n",
    "\n",
    "color = sns.color_palette()\n",
    "\n",
    "sys.path.insert(0,\"/Users/fellipeferreira/OneDrive/CIT - Master Data Science/Semester 3/project/final-project-datascience-mtu/code/\")  # path contains python_file.py\n",
    "import utils\n",
    "from utils import get_name_from_value\n",
    "from utils import Target"
   ]
  },
  {
   "cell_type": "code",
   "execution_count": 15,
   "id": "c89aadc1",
   "metadata": {},
   "outputs": [
    {
     "name": "stdout",
     "output_type": "stream",
     "text": [
      "CONTROL\n",
      "PATIENT\n"
     ]
    },
    {
     "data": {
      "text/plain": [
       "'PATIENT'"
      ]
     },
     "execution_count": 15,
     "metadata": {},
     "output_type": "execute_result"
    }
   ],
   "source": [
    "print(Target(0).name)\n",
    "print(Target(1).name)\n",
    "get_name_from_value(\"1.0\")"
   ]
  },
  {
   "cell_type": "code",
   "execution_count": null,
   "id": "30ea9122",
   "metadata": {},
   "outputs": [],
   "source": [
    "\n",
    "\n"
   ]
  },
  {
   "cell_type": "code",
   "execution_count": 16,
   "id": "reflected-wagon",
   "metadata": {
    "execution": {
     "iopub.execute_input": "2021-04-22T07:19:31.435829Z",
     "iopub.status.busy": "2021-04-22T07:19:31.435102Z",
     "iopub.status.idle": "2021-04-22T07:19:31.437059Z",
     "shell.execute_reply": "2021-04-22T07:19:31.437542Z"
    },
    "papermill": {
     "duration": 0.022408,
     "end_time": "2021-04-22T07:19:31.437715",
     "exception": false,
     "start_time": "2021-04-22T07:19:31.415307",
     "status": "completed"
    },
    "tags": []
   },
   "outputs": [],
   "source": [
    "#PATH_TO_FILE = \"../../psykose/schizophrenia-features.csv\"\n",
    "\n",
    "#my baseline features\n",
    "PATH_TO_FILE = \"../baseline_time_period.csv\"\n",
    "\n",
    "_PARAMS_LORGREG = {\n",
    "    \"penalty\": \"l2\", \"C\": 1.0, \"class_weight\": \"balanced\",\n",
    "    \"random_state\": 2018, \"solver\": \"liblinear\", \"n_jobs\": 1\n",
    "}\n",
    "\n",
    "_PARAMS_RFC = {\n",
    "    \"n_estimators\": 10,\n",
    "    \"max_features\": \"auto\", \"max_depth\": None,\n",
    "    \"min_samples_split\": 2, \"min_samples_leaf\": 1,\n",
    "    \"min_weight_fraction_leaf\": 0.0,\n",
    "    \"max_leaf_nodes\": None, \"bootstrap\": True,\n",
    "    \"oob_score\": False, \"n_jobs\": -1, \"random_state\": 2018,\n",
    "    \"class_weight\": \"balanced\"\n",
    "}\n",
    "\n",
    "_PARAMS_DTC = {\n",
    "    \n",
    "    \"max_features\": \"auto\", \"max_depth\": None,\n",
    "    \"min_samples_split\": 2, \"min_samples_leaf\": 1,\n",
    "    \"min_weight_fraction_leaf\": 0.0,\n",
    "    \"max_leaf_nodes\": None, \n",
    "     \"random_state\": 2018,\n",
    "    \"class_weight\": \"balanced\"\n",
    "    \n",
    "}\n",
    "\n",
    "_PARAMS_XGB = {\n",
    "    \"nthread\":16, \"learning_rate\": 0.3, \"gamma\": 0, \"max_depth\": 6, \"verbosity\": 0,\n",
    "    \"min_child_weight\": 1, \"max_delta_step\": 0, \"subsample\": 1.0, \"colsample_bytree\": 1.0,\n",
    "    \"objective\":\"binary:logistic\", \"num_class\":1, \"eval_metric\":\"logloss\", \"seed\":2018,\n",
    "}\n",
    "\n",
    "_PARAMS_LIGHTGB = {\n",
    "    \"task\": \"train\", \"num_class\":1, \"boosting\": \"gbdt\", \"verbosity\": -1,\n",
    "    \"objective\": \"binary\", \"metric\": \"binary_logloss\", \"metric_freq\":50, \"is_training_metric\":False,\n",
    "    \"max_depth\":4, \"num_leaves\": 31, \"learning_rate\": 0.01, \"feature_fraction\": 1.0, \"bagging_fraction\": 1.0,\n",
    "    \"bagging_freq\": 0, \"bagging_seed\": 2018, \"num_threads\":16\n",
    "}\n",
    "\n",
    "# Data Frame to collect all results of the classifiers\n",
    "df_result = pd.DataFrame()\n",
    "df_feature_importance = pd.DataFrame()\n",
    "df_leave_one_out = pd.DataFrame()"
   ]
  },
  {
   "cell_type": "code",
   "execution_count": 17,
   "id": "informal-municipality",
   "metadata": {
    "_cell_guid": "b1076dfc-b9ad-4769-8c92-a6c4dae69d19",
    "_uuid": "8f2839f25d086af736a60e9eeb907d3b93b6e0e5",
    "execution": {
     "iopub.execute_input": "2021-04-22T07:19:31.462663Z",
     "iopub.status.busy": "2021-04-22T07:19:31.462010Z",
     "iopub.status.idle": "2021-04-22T07:19:31.508470Z",
     "shell.execute_reply": "2021-04-22T07:19:31.507840Z"
    },
    "papermill": {
     "duration": 0.060053,
     "end_time": "2021-04-22T07:19:31.508623",
     "exception": false,
     "start_time": "2021-04-22T07:19:31.448570",
     "status": "completed"
    },
    "tags": []
   },
   "outputs": [],
   "source": [
    "data = pd.read_csv(PATH_TO_FILE)\n",
    "\n",
    "dataX = data.copy().drop([\"class\", \"class_str\", \"userid\"], axis=1)\n",
    "dataY = data[\"class\"].copy()\n",
    "\n",
    "scaler = pp.StandardScaler(copy=True)\n",
    "\n",
    "dataX.loc[:, dataX.columns] = scaler.fit_transform(dataX[dataX.columns])\n",
    "\n",
    "\n",
    "testset_size = 0.5\n",
    "\n",
    "X_TRAIN, X_TEST, Y_TRAIN, Y_TEST = train_test_split(\n",
    "    dataX,\n",
    "    dataY,\n",
    "    test_size=testset_size,\n",
    "    random_state=2019,\n",
    "    stratify=dataY\n",
    ")"
   ]
  },
  {
   "cell_type": "code",
   "execution_count": 18,
   "id": "postal-bermuda",
   "metadata": {
    "execution": {
     "iopub.execute_input": "2021-04-22T07:19:31.548173Z",
     "iopub.status.busy": "2021-04-22T07:19:31.547476Z",
     "iopub.status.idle": "2021-04-22T07:19:31.550037Z",
     "shell.execute_reply": "2021-04-22T07:19:31.550512Z"
    },
    "papermill": {
     "duration": 0.030984,
     "end_time": "2021-04-22T07:19:31.550690",
     "exception": false,
     "start_time": "2021-04-22T07:19:31.519706",
     "status": "completed"
    },
    "tags": []
   },
   "outputs": [],
   "source": [
    "def plot_prc_curve(y_preds, y_trues, title=None):\n",
    "    \n",
    "    precision, recall, _ = metrics.precision_recall_curve(\n",
    "        y_trues,\n",
    "        y_preds\n",
    "    )\n",
    "\n",
    "    average_precision = metrics.average_precision_score(\n",
    "        y_trues,\n",
    "        y_preds\n",
    "    )\n",
    "\n",
    "    print(\"Average Precision = %.2f\" % average_precision)\n",
    "    \n",
    "    plt.step(recall, precision, color=\"k\", alpha=0.7, where=\"post\")\n",
    "    plt.fill_between(recall, precision, step=\"post\", alpha=0.3, color=\"k\")\n",
    "\n",
    "    if title is None:\n",
    "        title = \"PRC: Average Precision = %.2f\" % average_precision\n",
    "\n",
    "    plt.title(title)\n",
    "\n",
    "    plt.xlabel(\"Recall\")\n",
    "    plt.ylabel(\"Precision\")\n",
    "    plt.ylim([0.0, 1.05])\n",
    "    plt.xlim([0.0, 1.0])\n",
    "\n",
    "    plt.show()\n",
    "    \n",
    "    return average_precision\n",
    "\n",
    "def plot_roc_curve(y_preds, y_trues, title=None):\n",
    "    \n",
    "    fpr, tpr, _ = metrics.roc_curve(y_trues, y_preds)\n",
    "\n",
    "    auc_roc = metrics.auc(fpr, tpr)\n",
    "\n",
    "    print(\"AUCROC = %.2f\" % auc_roc)\n",
    "\n",
    "    if title is None:\n",
    "        title = \"AUCROC = %.2f\" % auc_roc\n",
    "\n",
    "    plt.title(title)\n",
    "\n",
    "    plt.xlim([0.0, 1.0])\n",
    "    plt.ylim([0.0, 1.05])\n",
    "    plt.xlabel(\"FPR\")\n",
    "    plt.ylabel(\"TPR\")\n",
    "    \n",
    "    plt.plot(fpr, tpr, color=\"r\", lw=2, label=\"ROC curve\")\n",
    "    plt.plot([0, 1], [0, 1], color=\"k\", lw=2, linestyle=\"--\")\n",
    "\n",
    "    plt.show()\n",
    "    \n",
    "    return auc_roc\n",
    "\n",
    "\n",
    "def model_predict_k_fold( train_func, pred_func, model=None, n_splits=10, shuffle=True, random_state=2018 ):\n",
    "     \n",
    "    y_preds = []\n",
    "    y_trues = []\n",
    "\n",
    "    k_fold = StratifiedKFold(\n",
    "        n_splits=n_splits,\n",
    "        shuffle=shuffle,\n",
    "        random_state=random_state\n",
    "    )\n",
    "\n",
    "    for train_index, fold_index in k_fold.split(np.zeros(len(X_TRAIN)), Y_TRAIN.ravel()):\n",
    "        \n",
    "        x_fold_train, x_fold_test = X_TRAIN.iloc[train_index, :], X_TRAIN.iloc[fold_index, :]\n",
    "        y_fold_train, y_fold_test = Y_TRAIN.iloc[train_index], Y_TRAIN.iloc[fold_index]\n",
    "\n",
    "        model = train_func( model, x_fold_train, y_fold_train, x_fold_test, y_fold_test )\n",
    "        y_pred = pred_func( model, x_fold_test )\n",
    "\n",
    "        y_preds.extend( list(y_pred) )\n",
    "        y_trues.extend( list(y_fold_test) )\n",
    "\n",
    "    return model, np.array(y_preds), np.array(y_trues)\n",
    "\n",
    "\n",
    "def leave_one_out(train_func, pred_func, model=None):\n",
    "    y_preds = []\n",
    "    y_trues = []\n",
    "\n",
    "    loo = LeaveOneOut()\n",
    "\n",
    "    for train_index, fold_index in loo.split(np.zeros(len(X_TRAIN)), Y_TRAIN.ravel()):\n",
    "        x_fold_train, x_fold_test = X_TRAIN.iloc[train_index, :], X_TRAIN.iloc[fold_index, :]\n",
    "        y_fold_train, y_fold_test = Y_TRAIN.iloc[train_index], Y_TRAIN.iloc[fold_index]\n",
    "\n",
    "        model = train_func(model, x_fold_train, y_fold_train, x_fold_test, y_fold_test)\n",
    "        y_pred = pred_func(model, x_fold_test)\n",
    "\n",
    "        y_preds.extend(list(y_pred))\n",
    "        y_trues.extend(list(y_fold_test))\n",
    "\n",
    "    return model, np.array(y_preds), np.array(y_trues)\n",
    "\n",
    "\n",
    "\n"
   ]
  },
  {
   "cell_type": "markdown",
   "id": "suburban-cache",
   "metadata": {
    "papermill": {
     "duration": 0.010982,
     "end_time": "2021-04-22T07:19:31.572842",
     "exception": false,
     "start_time": "2021-04-22T07:19:31.561860",
     "status": "completed"
    },
    "tags": []
   },
   "source": [
    "# Logistic Regression"
   ]
  },
  {
   "cell_type": "code",
   "execution_count": 19,
   "id": "collectible-eleven",
   "metadata": {
    "execution": {
     "iopub.execute_input": "2021-04-22T07:19:31.603461Z",
     "iopub.status.busy": "2021-04-22T07:19:31.602764Z",
     "iopub.status.idle": "2021-04-22T07:19:32.257300Z",
     "shell.execute_reply": "2021-04-22T07:19:32.256761Z"
    },
    "papermill": {
     "duration": 0.673441,
     "end_time": "2021-04-22T07:19:32.257469",
     "exception": false,
     "start_time": "2021-04-22T07:19:31.584028",
     "status": "completed"
    },
    "tags": []
   },
   "outputs": [
    {
     "name": "stdout",
     "output_type": "stream",
     "text": [
      "              precision    recall  f1-score   support\n",
      "\n",
      "         0.0       0.92      0.89      0.90       201\n",
      "         1.0       0.85      0.89      0.87       142\n",
      "\n",
      "    accuracy                           0.89       343\n",
      "   macro avg       0.88      0.89      0.89       343\n",
      "weighted avg       0.89      0.89      0.89       343\n",
      "\n",
      "CONTROL\n",
      "PATIENT\n",
      "macro avg\n",
      "weighted avg\n",
      "Average Precision = 0.91\n"
     ]
    },
    {
     "data": {
      "image/png": "[encoded data removed]",
      "text/plain": [
       "<Figure size 432x288 with 1 Axes>"
      ]
     },
     "metadata": {
      "needs_background": "light"
     },
     "output_type": "display_data"
    },
    {
     "name": "stdout",
     "output_type": "stream",
     "text": [
      "AUCROC = 0.95\n"
     ]
    },
    {
     "data": {
      "image/png": "[encoded data removed]",
      "text/plain": [
       "<Figure size 432x288 with 1 Axes>"
      ]
     },
     "metadata": {
      "needs_background": "light"
     },
     "output_type": "display_data"
    },
    {
     "name": "stdout",
     "output_type": "stream",
     "text": [
      "Average Precision = 0.88\n"
     ]
    },
    {
     "data": {
      "image/png": "[encoded data removed]",
      "text/plain": [
       "<Figure size 432x288 with 1 Axes>"
      ]
     },
     "metadata": {
      "needs_background": "light"
     },
     "output_type": "display_data"
    },
    {
     "name": "stdout",
     "output_type": "stream",
     "text": [
      "AUCROC = 0.94\n"
     ]
    },
    {
     "data": {
      "image/png": "[encoded data removed]",
      "text/plain": [
       "<Figure size 432x288 with 1 Axes>"
      ]
     },
     "metadata": {
      "needs_background": "light"
     },
     "output_type": "display_data"
    },
    {
     "name": "stdout",
     "output_type": "stream",
     "text": [
      "Feature: 0, Score: 0.60750\n",
      "Feature: 1, Score: -0.95185\n",
      "Feature: 2, Score: 0.05094\n",
      "Feature: 3, Score: 0.31485\n",
      "Feature: 4, Score: -0.57986\n",
      "Feature: 5, Score: -0.47383\n",
      "Feature: 6, Score: -0.65010\n",
      "Feature: 7, Score: 0.48824\n",
      "Feature: 8, Score: 0.65434\n",
      "Feature: 9, Score: -0.83455\n",
      "Feature: 10, Score: -0.54653\n",
      "Feature: 11, Score: 0.76978\n",
      "Feature: 12, Score: 0.72057\n",
      "Feature: 13, Score: 0.09980\n",
      "Feature: 14, Score: 1.08412\n",
      "Feature: 15, Score: 0.15725\n",
      "Feature: 16, Score: 0.40244\n",
      "Feature: 17, Score: -0.14792\n",
      "Feature: 18, Score: 0.18304\n",
      "Feature: 19, Score: -1.38522\n",
      "Feature: 20, Score: 1.84257\n",
      "Feature: 21, Score: 0.12546\n",
      "Feature: 22, Score: -0.04174\n",
      "Feature: 23, Score: 0.92551\n",
      "Feature: 24, Score: 0.45606\n",
      "Feature: 25, Score: 0.44759\n",
      "Feature: 26, Score: -0.36172\n"
     ]
    },
    {
     "data": {
      "image/png": "[encoded data removed]",
      "text/plain": [
       "<Figure size 432x288 with 1 Axes>"
      ]
     },
     "metadata": {
      "needs_background": "light"
     },
     "output_type": "display_data"
    },
    {
     "data": {
      "image/png": "[encoded data removed]",
      "text/plain": [
       "<Figure size 432x288 with 1 Axes>"
      ]
     },
     "metadata": {
      "needs_background": "light"
     },
     "output_type": "display_data"
    }
   ],
   "source": [
    "def logreg_train_func(model, x_train, y_train, x_test, y_test):\n",
    "    model.fit(x_train, y_train)\n",
    "    return model\n",
    "\n",
    "def logreg_pred_func(model, data):\n",
    "    return model.predict_proba(data)[:, 1]\n",
    "\n",
    "logreg = LogisticRegression( **_PARAMS_LORGREG )\n",
    "\n",
    "logreg, logreg_y_preds, logreg_y_trues = model_predict_k_fold( logreg_train_func, logreg_pred_func, logreg )\n",
    "logreg_test_preds = logreg_pred_func( logreg, X_TEST )\n",
    "\n",
    "\n",
    "#Leave one out\n",
    "logreg_loo = LogisticRegression(**_PARAMS_LORGREG)\n",
    "logreg_loo, logreg_y_preds_loo, logreg_y_trues_loo = leave_one_out( logreg_train_func, logreg_pred_func, logreg_loo )\n",
    "\n",
    "print(classification_report(logreg_y_trues_loo, logreg_y_preds_loo.round()))\n",
    "dict_report = classification_report(logreg_y_trues_loo, logreg_y_preds_loo.round(), output_dict=True)\n",
    "for key, value in dict_report.items():\n",
    "    row_loo = {\"Classifier\": \"Logistic Regression\" }\n",
    "    if isinstance(value, dict):\n",
    "        print(get_name_from_value(key))\n",
    "        row_loo[\"Class\"] = get_name_from_value(key)\n",
    "        row_loo.update(value)\n",
    "\n",
    "        #collect the result for leave one out\n",
    "        df_leave_one_out = df_leave_one_out.append(row_loo, ignore_index=True )\n",
    "\n",
    "\n",
    "\n",
    "\n",
    "\n",
    "#precision-recall curves (PRC)\n",
    "#Receiver-operator curves (ROC)\n",
    "average_precision = plot_prc_curve( logreg_y_preds, logreg_y_trues, \"LogReg Cross-Vaidation PRC\" )\n",
    "auc_roc           = plot_roc_curve( logreg_y_preds, logreg_y_trues, \"LogReg Cross-Vaidation ROC\" )\n",
    "\n",
    "plot_prc_curve( logreg_test_preds, Y_TEST, \"LogReg Testing PRC\" )\n",
    "plot_roc_curve( logreg_test_preds, Y_TEST, \"LogReg Testing ROC\" )\n",
    "\n",
    "\n",
    "#collect the result\n",
    "row_stats = {'classifier': \"Logistic Regression\", \n",
    "             'Average Precision': average_precision,\n",
    "             'AUCROC': auc_roc,\n",
    "             'testset_size': testset_size}\n",
    "df_result = df_result.append(row_stats, ignore_index=True )\n",
    "\n",
    "# get importance\n",
    "importance = logreg.coef_[0]\n",
    "# summarize feature importance\n",
    "for i,v in enumerate(importance):\n",
    "\tprint('Feature: %0d, Score: %.5f' % (i,v))\n",
    "# plot feature importance\n",
    "pyplot.bar([x for x in range(len(importance))], importance)\n",
    "pyplot.show()\n",
    "\n",
    "(pd.Series(logreg.coef_[0], index=X_TRAIN.columns)\n",
    "  # .nlargest(4)\n",
    "   .plot(kind='barh'))\n",
    "\n",
    "\n",
    "series_features = pd.Series(logreg.coef_[0], index=X_TRAIN.columns)\n",
    "row_features = {'classifier': \"Logistic Regression\"}\n",
    "for index, value in series_features.items():\n",
    "    new_values =  {index: value}\n",
    "    row_features.update(new_values)\n",
    "df_feature_importance = df_feature_importance.append(row_features, ignore_index=True)\n",
    "\n"
   ]
  },
  {
   "cell_type": "markdown",
   "id": "optimum-mountain",
   "metadata": {
    "papermill": {
     "duration": 0.015407,
     "end_time": "2021-04-22T07:19:32.289105",
     "exception": false,
     "start_time": "2021-04-22T07:19:32.273698",
     "status": "completed"
    },
    "tags": []
   },
   "source": [
    "# Random Forest"
   ]
  },
  {
   "cell_type": "code",
   "execution_count": 20,
   "id": "level-intermediate",
   "metadata": {
    "execution": {
     "iopub.execute_input": "2021-04-22T07:19:32.331882Z",
     "iopub.status.busy": "2021-04-22T07:19:32.328804Z",
     "iopub.status.idle": "2021-04-22T07:19:35.160293Z",
     "shell.execute_reply": "2021-04-22T07:19:35.159149Z"
    },
    "papermill": {
     "duration": 2.855477,
     "end_time": "2021-04-22T07:19:35.160466",
     "exception": false,
     "start_time": "2021-04-22T07:19:32.304989",
     "status": "completed"
    },
    "tags": []
   },
   "outputs": [
    {
     "name": "stdout",
     "output_type": "stream",
     "text": [
      "              precision    recall  f1-score   support\n",
      "\n",
      "         0.0       0.88      0.90      0.89       201\n",
      "         1.0       0.85      0.82      0.84       142\n",
      "\n",
      "    accuracy                           0.87       343\n",
      "   macro avg       0.87      0.86      0.86       343\n",
      "weighted avg       0.87      0.87      0.87       343\n",
      "\n",
      "Average Precision = 0.90\n"
     ]
    },
    {
     "data": {
      "image/png": "[encoded data removed]",
      "text/plain": [
       "<Figure size 432x288 with 1 Axes>"
      ]
     },
     "metadata": {
      "needs_background": "light"
     },
     "output_type": "display_data"
    },
    {
     "name": "stdout",
     "output_type": "stream",
     "text": [
      "AUCROC = 0.94\n"
     ]
    },
    {
     "data": {
      "image/png": "[encoded data removed]",
      "text/plain": [
       "<Figure size 432x288 with 1 Axes>"
      ]
     },
     "metadata": {
      "needs_background": "light"
     },
     "output_type": "display_data"
    },
    {
     "name": "stdout",
     "output_type": "stream",
     "text": [
      "Average Precision = 0.85\n"
     ]
    },
    {
     "data": {
      "image/png": "[encoded data removed]",
      "text/plain": [
       "<Figure size 432x288 with 1 Axes>"
      ]
     },
     "metadata": {
      "needs_background": "light"
     },
     "output_type": "display_data"
    },
    {
     "name": "stdout",
     "output_type": "stream",
     "text": [
      "AUCROC = 0.91\n"
     ]
    },
    {
     "data": {
      "image/png": "[encoded data removed]",
      "text/plain": [
       "<Figure size 432x288 with 1 Axes>"
      ]
     },
     "metadata": {
      "needs_background": "light"
     },
     "output_type": "display_data"
    },
    {
     "name": "stdout",
     "output_type": "stream",
     "text": [
      "Feature: 0, Score: 0.01655\n",
      "Feature: 1, Score: 0.01292\n",
      "Feature: 2, Score: 0.02630\n",
      "Feature: 3, Score: 0.02436\n",
      "Feature: 4, Score: 0.01368\n",
      "Feature: 5, Score: 0.03955\n",
      "Feature: 6, Score: 0.01782\n",
      "Feature: 7, Score: 0.00533\n",
      "Feature: 8, Score: 0.00371\n",
      "Feature: 9, Score: 0.07145\n",
      "Feature: 10, Score: 0.11143\n",
      "Feature: 11, Score: 0.00789\n",
      "Feature: 12, Score: 0.01504\n",
      "Feature: 13, Score: 0.00878\n",
      "Feature: 14, Score: 0.03778\n",
      "Feature: 15, Score: 0.07449\n",
      "Feature: 16, Score: 0.01089\n",
      "Feature: 17, Score: 0.01600\n",
      "Feature: 18, Score: 0.17658\n",
      "Feature: 19, Score: 0.09145\n",
      "Feature: 20, Score: 0.06553\n",
      "Feature: 21, Score: 0.01854\n",
      "Feature: 22, Score: 0.01619\n",
      "Feature: 23, Score: 0.01456\n",
      "Feature: 24, Score: 0.04681\n",
      "Feature: 25, Score: 0.03520\n",
      "Feature: 26, Score: 0.02118\n"
     ]
    },
    {
     "data": {
      "image/png": "[encoded data removed]",
      "text/plain": [
       "<Figure size 432x288 with 1 Axes>"
      ]
     },
     "metadata": {
      "needs_background": "light"
     },
     "output_type": "display_data"
    },
    {
     "data": {
      "image/png": "[encoded data removed]",
      "text/plain": [
       "<Figure size 432x288 with 1 Axes>"
      ]
     },
     "metadata": {
      "needs_background": "light"
     },
     "output_type": "display_data"
    }
   ],
   "source": [
    "def rfc_train_func(model, x_train, y_train, x_test, y_test):\n",
    "    model.fit(x_train, y_train)\n",
    "    return model\n",
    "\n",
    "def rfc_pred_func(model, data):\n",
    "    return model.predict_proba(data)[:, 1]\n",
    "\n",
    "rfc = RandomForestClassifier( **_PARAMS_RFC )\n",
    "\n",
    "rfc, rfc_y_preds, rfc_y_trues = model_predict_k_fold( rfc_train_func, rfc_pred_func, rfc )\n",
    "rfc_test_preds = rfc_pred_func( rfc, X_TEST )\n",
    "\n",
    "\n",
    "#Leave one out\n",
    "rfc_loo = RandomForestClassifier(**_PARAMS_RFC)\n",
    "rfc_loo, rfc_y_preds_loo, rfc_y_trues_loo = leave_one_out( logreg_train_func, logreg_pred_func, rfc_loo )\n",
    "print(classification_report(rfc_y_trues_loo, rfc_y_preds_loo.round()))\n",
    "\n",
    "dict_report = classification_report(rfc_y_trues_loo, rfc_y_preds_loo.round(), output_dict=True)\n",
    "for key, value in dict_report.items():\n",
    "    row_loo = {\"Classifier\": \"Random Forest\" }\n",
    "    if isinstance(value, dict):\n",
    "        row_loo[\"Class\"] = get_name_from_value(key)\n",
    "        row_loo.update(value)\n",
    "\n",
    "        #collect the result for leave one out\n",
    "        df_leave_one_out = df_leave_one_out.append(row_loo, ignore_index=True )\n",
    "\n",
    "\n",
    "\n",
    "average_precision = plot_prc_curve( rfc_y_preds, rfc_y_trues, \"RFC Cross-Vaidation PRC\" )\n",
    "auc_roc           = plot_roc_curve( rfc_y_preds, rfc_y_trues, \"RFC Cross-Vaidation ROC\" )\n",
    "\n",
    "plot_prc_curve( rfc_test_preds, Y_TEST, \"RFC Testing PRC\" )\n",
    "plot_roc_curve( rfc_test_preds, Y_TEST, \"RFC Testing ROC\" )\n",
    "\n",
    "\n",
    "\n",
    "#collect the result\n",
    "row_stats = {'classifier': \"Random Forest\", \n",
    "             'Average Precision': average_precision,\n",
    "             'AUCROC': auc_roc,\n",
    "             'testset_size': testset_size}\n",
    "df_result = df_result.append(row_stats, ignore_index=True )\n",
    "\n",
    "\n",
    "# get importance\n",
    "importance = rfc.feature_importances_\n",
    "# summarize feature importance\n",
    "for i,v in enumerate(importance):\n",
    "\tprint('Feature: %0d, Score: %.5f' % (i,v))\n",
    "    \n",
    "# plot feature importance\n",
    "pyplot.bar([x for x in range(len(importance))], importance)\n",
    "pyplot.show()\n",
    "\n",
    "#\n",
    "(pd.Series(importance, index=X_TRAIN.columns)\n",
    "   #.nlargest(4)\n",
    "   .plot(kind='barh'))\n",
    "\n",
    "\n",
    "\n",
    "series_features = pd.Series(importance, index=X_TRAIN.columns)\n",
    "row_features = {'classifier': \"Random Forest\"}\n",
    "for index, value in series_features.items():\n",
    "    new_values =  {index: value}\n",
    "    row_features.update(new_values)\n",
    "df_feature_importance = df_feature_importance.append(row_features, ignore_index=True)\n"
   ]
  },
  {
   "cell_type": "markdown",
   "id": "8e2c47c0",
   "metadata": {},
   "source": [
    "# Decision Tree\n",
    "\n"
   ]
  },
  {
   "cell_type": "code",
   "execution_count": 21,
   "id": "c2846c07",
   "metadata": {},
   "outputs": [
    {
     "name": "stdout",
     "output_type": "stream",
     "text": [
      "              precision    recall  f1-score   support\n",
      "\n",
      "         0.0       0.88      0.90      0.89       201\n",
      "         1.0       0.85      0.82      0.84       142\n",
      "\n",
      "    accuracy                           0.87       343\n",
      "   macro avg       0.87      0.86      0.86       343\n",
      "weighted avg       0.87      0.87      0.87       343\n",
      "\n",
      "Average Precision = 0.68\n"
     ]
    },
    {
     "data": {
      "image/png": "[encoded data removed]",
      "text/plain": [
       "<Figure size 432x288 with 1 Axes>"
      ]
     },
     "metadata": {
      "needs_background": "light"
     },
     "output_type": "display_data"
    },
    {
     "name": "stdout",
     "output_type": "stream",
     "text": [
      "AUCROC = 0.78\n"
     ]
    },
    {
     "data": {
      "image/png": "[encoded data removed]",
      "text/plain": [
       "<Figure size 432x288 with 1 Axes>"
      ]
     },
     "metadata": {
      "needs_background": "light"
     },
     "output_type": "display_data"
    },
    {
     "name": "stdout",
     "output_type": "stream",
     "text": [
      "Average Precision = 0.71\n"
     ]
    },
    {
     "data": {
      "image/png": "[encoded data removed]",
      "text/plain": [
       "<Figure size 432x288 with 1 Axes>"
      ]
     },
     "metadata": {
      "needs_background": "light"
     },
     "output_type": "display_data"
    },
    {
     "name": "stdout",
     "output_type": "stream",
     "text": [
      "AUCROC = 0.82\n"
     ]
    },
    {
     "data": {
      "image/png": "[encoded data removed]",
      "text/plain": [
       "<Figure size 432x288 with 1 Axes>"
      ]
     },
     "metadata": {
      "needs_background": "light"
     },
     "output_type": "display_data"
    },
    {
     "name": "stdout",
     "output_type": "stream",
     "text": [
      "Feature: 0, Score: 0.01655\n",
      "Feature: 1, Score: 0.01292\n",
      "Feature: 2, Score: 0.02630\n",
      "Feature: 3, Score: 0.02436\n",
      "Feature: 4, Score: 0.01368\n",
      "Feature: 5, Score: 0.03955\n",
      "Feature: 6, Score: 0.01782\n",
      "Feature: 7, Score: 0.00533\n",
      "Feature: 8, Score: 0.00371\n",
      "Feature: 9, Score: 0.07145\n",
      "Feature: 10, Score: 0.11143\n",
      "Feature: 11, Score: 0.00789\n",
      "Feature: 12, Score: 0.01504\n",
      "Feature: 13, Score: 0.00878\n",
      "Feature: 14, Score: 0.03778\n",
      "Feature: 15, Score: 0.07449\n",
      "Feature: 16, Score: 0.01089\n",
      "Feature: 17, Score: 0.01600\n",
      "Feature: 18, Score: 0.17658\n",
      "Feature: 19, Score: 0.09145\n",
      "Feature: 20, Score: 0.06553\n",
      "Feature: 21, Score: 0.01854\n",
      "Feature: 22, Score: 0.01619\n",
      "Feature: 23, Score: 0.01456\n",
      "Feature: 24, Score: 0.04681\n",
      "Feature: 25, Score: 0.03520\n",
      "Feature: 26, Score: 0.02118\n"
     ]
    },
    {
     "data": {
      "image/png": "[encoded data removed]",
      "text/plain": [
       "<Figure size 432x288 with 1 Axes>"
      ]
     },
     "metadata": {
      "needs_background": "light"
     },
     "output_type": "display_data"
    },
    {
     "data": {
      "image/png": "[encoded data removed]",
      "text/plain": [
       "<Figure size 432x288 with 1 Axes>"
      ]
     },
     "metadata": {
      "needs_background": "light"
     },
     "output_type": "display_data"
    }
   ],
   "source": [
    "from sklearn.tree import DecisionTreeClassifier\n",
    "\n",
    "def dtc_train_func(model, x_train, y_train, x_test, y_test):\n",
    "    model.fit(x_train, y_train)\n",
    "    return model\n",
    "\n",
    "def dtc_pred_func(model, data):\n",
    "    return model.predict_proba(data)[:, 1]\n",
    "\n",
    "dtc = DecisionTreeClassifier( **_PARAMS_DTC )\n",
    "\n",
    "dtc, dtc_y_preds, dtc_y_trues = model_predict_k_fold( dtc_train_func, dtc_pred_func, dtc )\n",
    "dtc_test_preds = dtc_pred_func( dtc, X_TEST )\n",
    "\n",
    "\n",
    "#Leave one out\n",
    "dtc_loo = RandomForestClassifier(**_PARAMS_RFC)\n",
    "dtc_loo, dtc_y_preds_loo, dtc_y_trues_loo = leave_one_out( logreg_train_func, logreg_pred_func, dtc_loo )\n",
    "print(classification_report(dtc_y_trues_loo, dtc_y_preds_loo.round()))\n",
    "\n",
    "dict_report = classification_report(dtc_y_trues_loo, dtc_y_preds_loo.round(), output_dict=True)\n",
    "for key, value in dict_report.items():\n",
    "    row_loo = {\"Classifier\": \"Decision Tree\" }\n",
    "    if isinstance(value, dict):\n",
    "        row_loo[\"Class\"] = get_name_from_value(key)\n",
    "        row_loo.update(value)\n",
    "\n",
    "        #collect the result for leave one out\n",
    "        df_leave_one_out = df_leave_one_out.append(row_loo, ignore_index=True )\n",
    "\n",
    "\n",
    "\n",
    "average_precision = plot_prc_curve( dtc_y_preds, dtc_y_trues, \"RFC Cross-Vaidation PRC\" )\n",
    "auc_roc           = plot_roc_curve( dtc_y_preds, dtc_y_trues, \"RFC Cross-Vaidation ROC\" )\n",
    "\n",
    "plot_prc_curve( dtc_test_preds, Y_TEST, \"RFC Testing PRC\" )\n",
    "plot_roc_curve( dtc_test_preds, Y_TEST, \"RFC Testing ROC\" )\n",
    "\n",
    "\n",
    "\n",
    "#collect the result\n",
    "row_stats = {'classifier': \"Decision Tree\", \n",
    "             'Average Precision': average_precision,\n",
    "             'AUCROC': auc_roc,\n",
    "             'testset_size': testset_size}\n",
    "df_result = df_result.append(row_stats, ignore_index=True )\n",
    "\n",
    "\n",
    "# get importance\n",
    "importance = rfc.feature_importances_\n",
    "# summarize feature importance\n",
    "for i,v in enumerate(importance):\n",
    "\tprint('Feature: %0d, Score: %.5f' % (i,v))\n",
    "    \n",
    "# plot feature importance\n",
    "pyplot.bar([x for x in range(len(importance))], importance)\n",
    "pyplot.show()\n",
    "\n",
    "#\n",
    "(pd.Series(importance, index=X_TRAIN.columns)\n",
    "   #.nlargest(4)\n",
    "   .plot(kind='barh'))\n",
    "\n",
    "\n",
    "\n",
    "series_features = pd.Series(importance, index=X_TRAIN.columns)\n",
    "row_features = {'classifier': \"Decision Tree\"}\n",
    "for index, value in series_features.items():\n",
    "    new_values =  {index: value}\n",
    "    row_features.update(new_values)\n",
    "df_feature_importance = df_feature_importance.append(row_features, ignore_index=True)\n",
    "\n"
   ]
  },
  {
   "cell_type": "markdown",
   "id": "stupid-mustang",
   "metadata": {
    "papermill": {
     "duration": 0.020675,
     "end_time": "2021-04-22T07:19:35.201706",
     "exception": false,
     "start_time": "2021-04-22T07:19:35.181031",
     "status": "completed"
    },
    "tags": []
   },
   "source": [
    "# XGBoost"
   ]
  },
  {
   "cell_type": "code",
   "execution_count": 22,
   "id": "descending-license",
   "metadata": {
    "execution": {
     "iopub.execute_input": "2021-04-22T07:19:35.253067Z",
     "iopub.status.busy": "2021-04-22T07:19:35.252014Z",
     "iopub.status.idle": "2021-04-22T07:20:36.878250Z",
     "shell.execute_reply": "2021-04-22T07:20:36.878759Z"
    },
    "papermill": {
     "duration": 61.656952,
     "end_time": "2021-04-22T07:20:36.878970",
     "exception": false,
     "start_time": "2021-04-22T07:19:35.222018",
     "status": "completed"
    },
    "tags": []
   },
   "outputs": [
    {
     "name": "stdout",
     "output_type": "stream",
     "text": [
      "[0]\ttrain-logloss:0.49792+0.00675\ttest-logloss:0.55781+0.01868\n",
      "[50]\ttrain-logloss:0.01762+0.00072\ttest-logloss:0.30118+0.10080\n",
      "[100]\ttrain-logloss:0.01299+0.00022\ttest-logloss:0.30998+0.10460\n",
      "[150]\ttrain-logloss:0.01174+0.00027\ttest-logloss:0.31630+0.10563\n",
      "[200]\ttrain-logloss:0.01086+0.00030\ttest-logloss:0.32510+0.11289\n",
      "[226]\ttrain-logloss:0.01050+0.00029\ttest-logloss:0.32873+0.11565\n",
      "[0]\ttrain-logloss:0.49944+0.00315\ttest-logloss:0.56246+0.02828\n",
      "[50]\ttrain-logloss:0.01756+0.00075\ttest-logloss:0.36715+0.12036\n",
      "[100]\ttrain-logloss:0.01304+0.00040\ttest-logloss:0.39192+0.14743\n",
      "[150]\ttrain-logloss:0.01183+0.00043\ttest-logloss:0.40742+0.16385\n",
      "[200]\ttrain-logloss:0.01104+0.00043\ttest-logloss:0.42004+0.17769\n",
      "[211]\ttrain-logloss:0.01090+0.00043\ttest-logloss:0.42227+0.18030\n",
      "[0]\ttrain-logloss:0.50135+0.00309\ttest-logloss:0.54965+0.02774\n",
      "[50]\ttrain-logloss:0.01818+0.00049\ttest-logloss:0.34180+0.10300\n",
      "[100]\ttrain-logloss:0.01339+0.00027\ttest-logloss:0.36063+0.11315\n",
      "[150]\ttrain-logloss:0.01209+0.00022\ttest-logloss:0.37070+0.11643\n",
      "[200]\ttrain-logloss:0.01125+0.00026\ttest-logloss:0.37884+0.11995\n",
      "[211]\ttrain-logloss:0.01110+0.00026\ttest-logloss:0.38149+0.11958\n",
      "[0]\ttrain-logloss:0.49915+0.00719\ttest-logloss:0.54495+0.02122\n",
      "[50]\ttrain-logloss:0.01840+0.00056\ttest-logloss:0.38739+0.11607\n",
      "[100]\ttrain-logloss:0.01350+0.00028\ttest-logloss:0.40280+0.11368\n",
      "[150]\ttrain-logloss:0.01228+0.00020\ttest-logloss:0.41406+0.11724\n",
      "[200]\ttrain-logloss:0.01146+0.00025\ttest-logloss:0.42158+0.12106\n",
      "[208]\ttrain-logloss:0.01135+0.00026\ttest-logloss:0.42250+0.12091\n",
      "[0]\ttrain-logloss:0.49489+0.00194\ttest-logloss:0.54670+0.02056\n",
      "[50]\ttrain-logloss:0.01807+0.00062\ttest-logloss:0.31310+0.11432\n",
      "[100]\ttrain-logloss:0.01331+0.00025\ttest-logloss:0.33034+0.11939\n",
      "[150]\ttrain-logloss:0.01217+0.00022\ttest-logloss:0.34166+0.12076\n",
      "[200]\ttrain-logloss:0.01140+0.00024\ttest-logloss:0.34488+0.12139\n",
      "[216]\ttrain-logloss:0.01119+0.00024\ttest-logloss:0.34627+0.12187\n",
      "[0]\ttrain-logloss:0.49749+0.00353\ttest-logloss:0.54424+0.02017\n",
      "[50]\ttrain-logloss:0.01735+0.00023\ttest-logloss:0.24988+0.05342\n",
      "[100]\ttrain-logloss:0.01300+0.00012\ttest-logloss:0.26078+0.05764\n",
      "[150]\ttrain-logloss:0.01187+0.00014\ttest-logloss:0.26470+0.05497\n",
      "[200]\ttrain-logloss:0.01107+0.00018\ttest-logloss:0.26813+0.05334\n",
      "[221]\ttrain-logloss:0.01079+0.00019\ttest-logloss:0.26942+0.05327\n",
      "[0]\ttrain-logloss:0.49943+0.00623\ttest-logloss:0.56575+0.03909\n",
      "[50]\ttrain-logloss:0.01807+0.00117\ttest-logloss:0.30843+0.18895\n",
      "[100]\ttrain-logloss:0.01316+0.00051\ttest-logloss:0.31038+0.19544\n",
      "[150]\ttrain-logloss:0.01202+0.00056\ttest-logloss:0.31731+0.19928\n",
      "[200]\ttrain-logloss:0.01126+0.00058\ttest-logloss:0.31930+0.19814\n",
      "[235]\ttrain-logloss:0.01083+0.00058\ttest-logloss:0.32228+0.20128\n",
      "[0]\ttrain-logloss:0.49669+0.00405\ttest-logloss:0.54213+0.01565\n",
      "[50]\ttrain-logloss:0.01854+0.00063\ttest-logloss:0.33053+0.09973\n",
      "[100]\ttrain-logloss:0.01354+0.00040\ttest-logloss:0.34458+0.11214\n",
      "[150]\ttrain-logloss:0.01224+0.00029\ttest-logloss:0.34867+0.11127\n",
      "[200]\ttrain-logloss:0.01141+0.00030\ttest-logloss:0.35155+0.11124\n",
      "[212]\ttrain-logloss:0.01125+0.00031\ttest-logloss:0.35252+0.11141\n",
      "[0]\ttrain-logloss:0.49669+0.00179\ttest-logloss:0.55638+0.03078\n",
      "[50]\ttrain-logloss:0.01822+0.00125\ttest-logloss:0.35325+0.11397\n",
      "[100]\ttrain-logloss:0.01318+0.00052\ttest-logloss:0.38094+0.12239\n",
      "[150]\ttrain-logloss:0.01195+0.00040\ttest-logloss:0.39212+0.12269\n",
      "[200]\ttrain-logloss:0.01115+0.00041\ttest-logloss:0.40141+0.12574\n",
      "[214]\ttrain-logloss:0.01097+0.00041\ttest-logloss:0.40430+0.12657\n",
      "[0]\ttrain-logloss:0.49949+0.00453\ttest-logloss:0.57525+0.02120\n",
      "[50]\ttrain-logloss:0.01789+0.00108\ttest-logloss:0.31338+0.12728\n",
      "[100]\ttrain-logloss:0.01326+0.00053\ttest-logloss:0.32156+0.13566\n",
      "[150]\ttrain-logloss:0.01196+0.00050\ttest-logloss:0.32496+0.13811\n",
      "[200]\ttrain-logloss:0.01109+0.00048\ttest-logloss:0.32563+0.13898\n",
      "[226]\ttrain-logloss:0.01073+0.00047\ttest-logloss:0.32697+0.14077\n",
      "Average Precision = 0.93\n"
     ]
    },
    {
     "data": {
      "image/png": "[encoded data removed]",
      "text/plain": [
       "<Figure size 432x288 with 1 Axes>"
      ]
     },
     "metadata": {
      "needs_background": "light"
     },
     "output_type": "display_data"
    },
    {
     "name": "stdout",
     "output_type": "stream",
     "text": [
      "AUCROC = 0.94\n"
     ]
    },
    {
     "data": {
      "image/png": "[encoded data removed]",
      "text/plain": [
       "<Figure size 432x288 with 1 Axes>"
      ]
     },
     "metadata": {
      "needs_background": "light"
     },
     "output_type": "display_data"
    },
    {
     "name": "stdout",
     "output_type": "stream",
     "text": [
      "Average Precision = 0.92\n"
     ]
    },
    {
     "data": {
      "image/png": "[encoded data removed]",
      "text/plain": [
       "<Figure size 432x288 with 1 Axes>"
      ]
     },
     "metadata": {
      "needs_background": "light"
     },
     "output_type": "display_data"
    },
    {
     "name": "stdout",
     "output_type": "stream",
     "text": [
      "AUCROC = 0.95\n"
     ]
    },
    {
     "data": {
      "image/png": "[encoded data removed]",
      "text/plain": [
       "<Figure size 432x288 with 1 Axes>"
      ]
     },
     "metadata": {
      "needs_background": "light"
     },
     "output_type": "display_data"
    },
    {
     "data": {
      "image/png": "[encoded data removed]",
      "text/plain": [
       "<Figure size 432x288 with 1 Axes>"
      ]
     },
     "metadata": {
      "needs_background": "light"
     },
     "output_type": "display_data"
    }
   ],
   "source": [
    "def xgb_train_func(model, x_train, y_train, x_test, y_test):\n",
    "    dtrain = xgb.DMatrix(data=x_train, label=y_train)\n",
    "\n",
    "    bst = xgb.cv(_PARAMS_XGB,\n",
    "        dtrain,\n",
    "        num_boost_round=2000,\n",
    "        nfold=5,\n",
    "        early_stopping_rounds=200,\n",
    "        verbose_eval=50\n",
    "    )\n",
    "\n",
    "    best_rounds = np.argmin(bst[\"test-logloss-mean\"])\n",
    "    bst = xgb.train(_PARAMS_XGB, dtrain, best_rounds)\n",
    "    return bst\n",
    "\n",
    "def xgb_pred_func(model, data):\n",
    "    data = xgb.DMatrix(data=data)\n",
    "    pred = model.predict(data)\n",
    "    return pred\n",
    "\n",
    "xgb_model, xgb_y_preds, xgb_y_trues = model_predict_k_fold( xgb_train_func, xgb_pred_func )\n",
    "xgb_test_preds = xgb_pred_func( xgb_model, X_TEST )\n",
    "\n",
    "average_precision = plot_prc_curve( xgb_y_preds, xgb_y_trues, \"XGB Cross-Vaidation PRC\" )\n",
    "auc_roc           = plot_roc_curve( xgb_y_preds, xgb_y_trues, \"XGB Cross-Vaidation ROC\" )\n",
    "\n",
    "plot_prc_curve( xgb_test_preds, Y_TEST, \"XGB Testing PRC\" )\n",
    "plot_roc_curve( xgb_test_preds, Y_TEST, \"XGB Testing ROC\" )\n",
    "\n",
    "\n",
    "\n",
    "#collect the result\n",
    "row_stats = {'classifier': \"XGBoot\", \n",
    "             'Average Precision': average_precision,\n",
    "             'AUCROC': auc_roc,\n",
    "             'testset_size': testset_size}\n",
    "df_result = df_result.append(row_stats, ignore_index=True )\n",
    "\n",
    "\n",
    "# plot feature importance\n",
    "plot_importance(xgb_model)\n",
    "pyplot.show()\n",
    "\n",
    "\n",
    "\n",
    "series_features = pd.Series(importance, index=X_TRAIN.columns)\n",
    "row_features = {'classifier': \"XGBoost\"}\n",
    "for index, value in series_features.items():\n",
    "    new_values =  {index: value}\n",
    "    row_features.update(new_values)\n",
    "df_feature_importance = df_feature_importance.append(row_features, ignore_index=True)\n",
    "\n"
   ]
  },
  {
   "cell_type": "markdown",
   "id": "encouraging-manor",
   "metadata": {
    "papermill": {
     "duration": 0.024394,
     "end_time": "2021-04-22T07:20:36.928571",
     "exception": false,
     "start_time": "2021-04-22T07:20:36.904177",
     "status": "completed"
    },
    "tags": []
   },
   "source": [
    "# LightGBM"
   ]
  },
  {
   "cell_type": "code",
   "execution_count": 23,
   "id": "biological-poultry",
   "metadata": {
    "execution": {
     "iopub.execute_input": "2021-04-22T07:20:36.988078Z",
     "iopub.status.busy": "2021-04-22T07:20:36.987304Z",
     "iopub.status.idle": "2021-04-22T07:21:21.989329Z",
     "shell.execute_reply": "2021-04-22T07:21:21.989832Z"
    },
    "papermill": {
     "duration": 45.036112,
     "end_time": "2021-04-22T07:21:21.990018",
     "exception": false,
     "start_time": "2021-04-22T07:20:36.953906",
     "status": "completed"
    },
    "tags": []
   },
   "outputs": [
    {
     "name": "stdout",
     "output_type": "stream",
     "text": [
      "Average Precision = 0.96\n"
     ]
    },
    {
     "data": {
      "image/png": "[encoded data removed]",
      "text/plain": [
       "<Figure size 432x288 with 1 Axes>"
      ]
     },
     "metadata": {
      "needs_background": "light"
     },
     "output_type": "display_data"
    },
    {
     "name": "stdout",
     "output_type": "stream",
     "text": [
      "AUCROC = 0.97\n"
     ]
    },
    {
     "data": {
      "image/png": "[encoded data removed]",
      "text/plain": [
       "<Figure size 432x288 with 1 Axes>"
      ]
     },
     "metadata": {
      "needs_background": "light"
     },
     "output_type": "display_data"
    },
    {
     "name": "stdout",
     "output_type": "stream",
     "text": [
      "Average Precision = 0.93\n"
     ]
    },
    {
     "data": {
      "image/png": "[encoded data removed]",
      "text/plain": [
       "<Figure size 432x288 with 1 Axes>"
      ]
     },
     "metadata": {
      "needs_background": "light"
     },
     "output_type": "display_data"
    },
    {
     "name": "stdout",
     "output_type": "stream",
     "text": [
      "AUCROC = 0.95\n"
     ]
    },
    {
     "data": {
      "image/png": "[encoded data removed]",
      "text/plain": [
       "<Figure size 432x288 with 1 Axes>"
      ]
     },
     "metadata": {
      "needs_background": "light"
     },
     "output_type": "display_data"
    },
    {
     "name": "stdout",
     "output_type": "stream",
     "text": [
      "Plotting feature importances...\n"
     ]
    },
    {
     "data": {
      "image/png": "[encoded data removed]",
      "text/plain": [
       "<Figure size 432x288 with 1 Axes>"
      ]
     },
     "metadata": {
      "needs_background": "light"
     },
     "output_type": "display_data"
    }
   ],
   "source": [
    "def gbm_train_func(model, x_train, y_train, x_test, y_test):\n",
    "    lgb_train = lgb.Dataset(x_train, y_train)\n",
    "    lgb_eval = lgb.Dataset(x_test, y_test, reference=lgb_train)\n",
    "\n",
    "    gbm = lgb.train(\n",
    "        _PARAMS_LIGHTGB,\n",
    "        lgb_train,\n",
    "        verbose_eval=False,\n",
    "        num_boost_round=2000,\n",
    "        valid_sets=lgb_eval,\n",
    "        early_stopping_rounds=200\n",
    "    )\n",
    "\n",
    "    return gbm\n",
    "\n",
    "def gbm_pred_func(model, data):\n",
    "    return model.predict(data, num_iteration=model.best_iteration)\n",
    "\n",
    "gbm, gbm_y_preds, gbm_y_trues = model_predict_k_fold( gbm_train_func, gbm_pred_func )\n",
    "gbm_test_preds = gbm_pred_func( gbm, X_TEST )\n",
    "\n",
    "average_precision = plot_prc_curve( gbm_y_preds, gbm_y_trues, \"GBM Cross-Vaidation PRC\" )\n",
    "auc_roc           = plot_roc_curve( gbm_y_preds, gbm_y_trues, \"GBM Cross-Vaidation ROC\" )\n",
    "\n",
    "plot_prc_curve( gbm_test_preds, Y_TEST, \"GBM Testing PRC\" )\n",
    "plot_roc_curve( gbm_test_preds, Y_TEST, \"GBM Testing ROC\" )\n",
    "\n",
    "\n",
    "\n",
    "\n",
    "#collect the result\n",
    "row_stats = {'classifier': \"LightGBM\", \n",
    "             'Average Precision': average_precision,\n",
    "             'AUCROC': auc_roc,\n",
    "             'testset_size': testset_size}\n",
    "df_result = df_result.append(row_stats, ignore_index=True )\n",
    "\n",
    "\n",
    "print('Plotting feature importances...')\n",
    "ax = lgb.plot_importance(gbm, max_num_features=10)\n",
    "plt.show()\n",
    "\n",
    "\n",
    "\n",
    "df_feature_importance_2 = (\n",
    "    pd.DataFrame({\n",
    "        'feature': gbm.feature_name(),\n",
    "        'importance': gbm.feature_importance(),\n",
    "    })\n",
    "    .sort_values('importance', ascending=False)\n",
    ")\n",
    "\n",
    "series_features = pd.Series(gbm.feature_importance(), index=gbm.feature_name())\n",
    "row_features = {'classifier': \"LightGBM\"}\n",
    "for index, value in series_features.items():\n",
    "    new_values =  {index: value}\n",
    "    row_features.update(new_values)\n",
    "df_feature_importance = df_feature_importance.append(row_features, ignore_index=True)\n",
    "\n"
   ]
  },
  {
   "cell_type": "markdown",
   "id": "preliminary-education",
   "metadata": {
    "papermill": {
     "duration": 0.029022,
     "end_time": "2021-04-22T07:21:22.048839",
     "exception": false,
     "start_time": "2021-04-22T07:21:22.019817",
     "status": "completed"
    },
    "tags": []
   },
   "source": [
    "# Ensemble"
   ]
  },
  {
   "cell_type": "code",
   "execution_count": 24,
   "id": "isolated-values",
   "metadata": {
    "execution": {
     "iopub.execute_input": "2021-04-22T07:21:22.111640Z",
     "iopub.status.busy": "2021-04-22T07:21:22.110896Z",
     "iopub.status.idle": "2021-04-22T07:22:05.591420Z",
     "shell.execute_reply": "2021-04-22T07:22:05.590766Z"
    },
    "papermill": {
     "duration": 43.513211,
     "end_time": "2021-04-22T07:22:05.591560",
     "exception": false,
     "start_time": "2021-04-22T07:21:22.078349",
     "status": "completed"
    },
    "tags": []
   },
   "outputs": [
    {
     "name": "stdout",
     "output_type": "stream",
     "text": [
      "Average Precision = 0.96\n"
     ]
    },
    {
     "data": {
      "image/png": "[encoded data removed]",
      "text/plain": [
       "<Figure size 432x288 with 1 Axes>"
      ]
     },
     "metadata": {
      "needs_background": "light"
     },
     "output_type": "display_data"
    },
    {
     "name": "stdout",
     "output_type": "stream",
     "text": [
      "AUCROC = 0.97\n"
     ]
    },
    {
     "data": {
      "image/png": "[encoded data removed]",
      "text/plain": [
       "<Figure size 432x288 with 1 Axes>"
      ]
     },
     "metadata": {
      "needs_background": "light"
     },
     "output_type": "display_data"
    },
    {
     "name": "stdout",
     "output_type": "stream",
     "text": [
      "Average Precision = 0.93\n"
     ]
    },
    {
     "data": {
      "image/png": "[encoded data removed]",
      "text/plain": [
       "<Figure size 432x288 with 1 Axes>"
      ]
     },
     "metadata": {
      "needs_background": "light"
     },
     "output_type": "display_data"
    },
    {
     "name": "stdout",
     "output_type": "stream",
     "text": [
      "AUCROC = 0.95\n"
     ]
    },
    {
     "data": {
      "image/png": "[encoded data removed]",
      "text/plain": [
       "<Figure size 432x288 with 1 Axes>"
      ]
     },
     "metadata": {
      "needs_background": "light"
     },
     "output_type": "display_data"
    },
    {
     "name": "stdout",
     "output_type": "stream",
     "text": [
      "Plotting feature importances...\n"
     ]
    },
    {
     "data": {
      "image/png": "[encoded data removed]",
      "text/plain": [
       "<Figure size 432x288 with 1 Axes>"
      ]
     },
     "metadata": {
      "needs_background": "light"
     },
     "output_type": "display_data"
    }
   ],
   "source": [
    "def ensemble_train_func(model, x_train, y_train, x_test, y_test):\n",
    "    lgb_train = lgb.Dataset(x_train, y_train)\n",
    "    lgb_eval = lgb.Dataset(x_test, y_test, reference=lgb_train)\n",
    "\n",
    "    ensemble = lgb.train(\n",
    "        _PARAMS_LIGHTGB,\n",
    "        lgb_train,\n",
    "        verbose_eval=False,\n",
    "        num_boost_round=2000,\n",
    "        valid_sets=lgb_eval,\n",
    "        early_stopping_rounds=200\n",
    "    )\n",
    "\n",
    "    return ensemble\n",
    "\n",
    "def ensemble_pred_func(model, data):\n",
    "    return model.predict(data, num_iteration=model.best_iteration)\n",
    "\n",
    "ensemble, ensemble_y_preds, ensemble_y_trues = model_predict_k_fold( ensemble_train_func, ensemble_pred_func )\n",
    "ensemble_test_preds = ensemble_pred_func( ensemble, X_TEST )\n",
    "\n",
    "average_precision = plot_prc_curve( ensemble_y_preds, ensemble_y_trues, \"Ensemble Cross-Vaidation PRC\" )\n",
    "auc_roc           = plot_roc_curve( ensemble_y_preds, ensemble_y_trues, \"Ensemble Cross-Vaidation ROC\" )\n",
    "\n",
    "plot_prc_curve( ensemble_test_preds, Y_TEST, \"Ensemble Testing PRC\" )\n",
    "plot_roc_curve( ensemble_test_preds, Y_TEST, \"Ensemble Testing ROC\" )\n",
    "\n",
    "\n",
    "#collect the result\n",
    "row_stats = {'classifier': \"Ensemble\", \n",
    "             'Average Precision': average_precision,\n",
    "             'AUCROC': auc_roc,\n",
    "             'testset_size': testset_size}\n",
    "df_result = df_result.append(row_stats, ignore_index=True )\n",
    "\n",
    "\n",
    "\n",
    "print('Plotting feature importances...')\n",
    "ax = lgb.plot_importance(ensemble)\n",
    "plt.show()\n",
    "\n",
    "\n",
    "\n",
    "\n",
    "series_features = pd.Series(ensemble.feature_importance(), index=ensemble.feature_name())\n",
    "row_features = {'classifier': \"Ensemble\"}\n",
    "for index, value in series_features.items():\n",
    "    new_values =  {index: value}\n",
    "    row_features.update(new_values)\n",
    "df_feature_importance = df_feature_importance.append(row_features, ignore_index=True)\n"
   ]
  },
  {
   "cell_type": "code",
   "execution_count": null,
   "id": "e90d087c",
   "metadata": {},
   "outputs": [],
   "source": []
  },
  {
   "cell_type": "code",
   "execution_count": 14,
   "id": "1166108c",
   "metadata": {},
   "outputs": [
    {
     "data": {
      "text/html": [
       "<div>\n",
       "<style scoped>\n",
       "    .dataframe tbody tr th:only-of-type {\n",
       "        vertical-align: middle;\n",
       "    }\n",
       "\n",
       "    .dataframe tbody tr th {\n",
       "        vertical-align: top;\n",
       "    }\n",
       "\n",
       "    .dataframe thead th {\n",
       "        text-align: right;\n",
       "    }\n",
       "</style>\n",
       "<table border=\"1\" class=\"dataframe\">\n",
       "  <thead>\n",
       "    <tr style=\"text-align: right;\">\n",
       "      <th></th>\n",
       "      <th>classifier</th>\n",
       "      <th>Average Precision</th>\n",
       "      <th>AUCROC</th>\n",
       "      <th>testset_size</th>\n",
       "    </tr>\n",
       "  </thead>\n",
       "  <tbody>\n",
       "    <tr>\n",
       "      <th>0</th>\n",
       "      <td>Logistic Regression</td>\n",
       "      <td>0.914541</td>\n",
       "      <td>0.937355</td>\n",
       "      <td>0.5</td>\n",
       "    </tr>\n",
       "    <tr>\n",
       "      <th>1</th>\n",
       "      <td>Random Forest</td>\n",
       "      <td>0.859989</td>\n",
       "      <td>0.913005</td>\n",
       "      <td>0.5</td>\n",
       "    </tr>\n",
       "    <tr>\n",
       "      <th>2</th>\n",
       "      <td>XGBoot</td>\n",
       "      <td>0.928329</td>\n",
       "      <td>0.942085</td>\n",
       "      <td>0.5</td>\n",
       "    </tr>\n",
       "    <tr>\n",
       "      <th>3</th>\n",
       "      <td>LightGBM</td>\n",
       "      <td>0.949978</td>\n",
       "      <td>0.959183</td>\n",
       "      <td>0.5</td>\n",
       "    </tr>\n",
       "    <tr>\n",
       "      <th>4</th>\n",
       "      <td>Ensemble</td>\n",
       "      <td>0.949978</td>\n",
       "      <td>0.959183</td>\n",
       "      <td>0.5</td>\n",
       "    </tr>\n",
       "  </tbody>\n",
       "</table>\n",
       "</div>"
      ],
      "text/plain": [
       "            classifier  Average Precision    AUCROC  testset_size\n",
       "0  Logistic Regression           0.914541  0.937355           0.5\n",
       "1        Random Forest           0.859989  0.913005           0.5\n",
       "2               XGBoot           0.928329  0.942085           0.5\n",
       "3             LightGBM           0.949978  0.959183           0.5\n",
       "4             Ensemble           0.949978  0.959183           0.5"
      ]
     },
     "execution_count": 14,
     "metadata": {},
     "output_type": "execute_result"
    }
   ],
   "source": [
    "df_result = df_result[['classifier', 'Average Precision', 'AUCROC', 'testset_size']]\n",
    "df_result\n"
   ]
  },
  {
   "cell_type": "code",
   "execution_count": 15,
   "id": "b8d34643",
   "metadata": {},
   "outputs": [
    {
     "data": {
      "text/html": [
       "<div>\n",
       "<style scoped>\n",
       "    .dataframe tbody tr th:only-of-type {\n",
       "        vertical-align: middle;\n",
       "    }\n",
       "\n",
       "    .dataframe tbody tr th {\n",
       "        vertical-align: top;\n",
       "    }\n",
       "\n",
       "    .dataframe thead th {\n",
       "        text-align: right;\n",
       "    }\n",
       "</style>\n",
       "<table border=\"1\" class=\"dataframe\">\n",
       "  <thead>\n",
       "    <tr style=\"text-align: right;\">\n",
       "      <th></th>\n",
       "      <th>afternoon_kurtosis</th>\n",
       "      <th>afternoon_mean</th>\n",
       "      <th>afternoon_prop_zero</th>\n",
       "      <th>afternoon_sd</th>\n",
       "      <th>afternoon_skewness</th>\n",
       "      <th>classifier</th>\n",
       "      <th>evening_kurtosis</th>\n",
       "      <th>evening_mean</th>\n",
       "      <th>evening_prop_zero</th>\n",
       "      <th>evening_sd</th>\n",
       "      <th>evening_skewness</th>\n",
       "      <th>morning_kurtosis</th>\n",
       "      <th>morning_mean</th>\n",
       "      <th>morning_prop_zero</th>\n",
       "      <th>morning_sd</th>\n",
       "      <th>morning_skewness</th>\n",
       "    </tr>\n",
       "  </thead>\n",
       "  <tbody>\n",
       "    <tr>\n",
       "      <th>0</th>\n",
       "      <td>0.984722</td>\n",
       "      <td>0.648944</td>\n",
       "      <td>0.411228</td>\n",
       "      <td>-1.614072</td>\n",
       "      <td>-0.149704</td>\n",
       "      <td>Logistic Regression</td>\n",
       "      <td>-0.225387</td>\n",
       "      <td>0.815214</td>\n",
       "      <td>1.485514</td>\n",
       "      <td>-1.398185</td>\n",
       "      <td>-0.029793</td>\n",
       "      <td>0.112705</td>\n",
       "      <td>0.736065</td>\n",
       "      <td>-0.142280</td>\n",
       "      <td>-1.779904</td>\n",
       "      <td>0.020729</td>\n",
       "    </tr>\n",
       "    <tr>\n",
       "      <th>1</th>\n",
       "      <td>0.048393</td>\n",
       "      <td>0.097586</td>\n",
       "      <td>0.059082</td>\n",
       "      <td>0.139650</td>\n",
       "      <td>0.037515</td>\n",
       "      <td>Random Forest</td>\n",
       "      <td>0.043697</td>\n",
       "      <td>0.089672</td>\n",
       "      <td>0.128365</td>\n",
       "      <td>0.135714</td>\n",
       "      <td>0.020860</td>\n",
       "      <td>0.031206</td>\n",
       "      <td>0.036105</td>\n",
       "      <td>0.053069</td>\n",
       "      <td>0.052303</td>\n",
       "      <td>0.026784</td>\n",
       "    </tr>\n",
       "    <tr>\n",
       "      <th>2</th>\n",
       "      <td>0.048393</td>\n",
       "      <td>0.097586</td>\n",
       "      <td>0.059082</td>\n",
       "      <td>0.139650</td>\n",
       "      <td>0.037515</td>\n",
       "      <td>XGBoost</td>\n",
       "      <td>0.043697</td>\n",
       "      <td>0.089672</td>\n",
       "      <td>0.128365</td>\n",
       "      <td>0.135714</td>\n",
       "      <td>0.020860</td>\n",
       "      <td>0.031206</td>\n",
       "      <td>0.036105</td>\n",
       "      <td>0.053069</td>\n",
       "      <td>0.052303</td>\n",
       "      <td>0.026784</td>\n",
       "    </tr>\n",
       "    <tr>\n",
       "      <th>3</th>\n",
       "      <td>202.000000</td>\n",
       "      <td>72.000000</td>\n",
       "      <td>285.000000</td>\n",
       "      <td>367.000000</td>\n",
       "      <td>55.000000</td>\n",
       "      <td>LightGBM</td>\n",
       "      <td>112.000000</td>\n",
       "      <td>126.000000</td>\n",
       "      <td>628.000000</td>\n",
       "      <td>546.000000</td>\n",
       "      <td>224.000000</td>\n",
       "      <td>103.000000</td>\n",
       "      <td>103.000000</td>\n",
       "      <td>432.000000</td>\n",
       "      <td>427.000000</td>\n",
       "      <td>249.000000</td>\n",
       "    </tr>\n",
       "    <tr>\n",
       "      <th>4</th>\n",
       "      <td>202.000000</td>\n",
       "      <td>72.000000</td>\n",
       "      <td>285.000000</td>\n",
       "      <td>367.000000</td>\n",
       "      <td>55.000000</td>\n",
       "      <td>Ensemble</td>\n",
       "      <td>112.000000</td>\n",
       "      <td>126.000000</td>\n",
       "      <td>628.000000</td>\n",
       "      <td>546.000000</td>\n",
       "      <td>224.000000</td>\n",
       "      <td>103.000000</td>\n",
       "      <td>103.000000</td>\n",
       "      <td>432.000000</td>\n",
       "      <td>427.000000</td>\n",
       "      <td>249.000000</td>\n",
       "    </tr>\n",
       "  </tbody>\n",
       "</table>\n",
       "</div>"
      ],
      "text/plain": [
       "   afternoon_kurtosis  afternoon_mean  afternoon_prop_zero  afternoon_sd  \\\n",
       "0            0.984722        0.648944             0.411228     -1.614072   \n",
       "1            0.048393        0.097586             0.059082      0.139650   \n",
       "2            0.048393        0.097586             0.059082      0.139650   \n",
       "3          202.000000       72.000000           285.000000    367.000000   \n",
       "4          202.000000       72.000000           285.000000    367.000000   \n",
       "\n",
       "   afternoon_skewness           classifier  evening_kurtosis  evening_mean  \\\n",
       "0           -0.149704  Logistic Regression         -0.225387      0.815214   \n",
       "1            0.037515        Random Forest          0.043697      0.089672   \n",
       "2            0.037515              XGBoost          0.043697      0.089672   \n",
       "3           55.000000             LightGBM        112.000000    126.000000   \n",
       "4           55.000000             Ensemble        112.000000    126.000000   \n",
       "\n",
       "   evening_prop_zero  evening_sd  evening_skewness  morning_kurtosis  \\\n",
       "0           1.485514   -1.398185         -0.029793          0.112705   \n",
       "1           0.128365    0.135714          0.020860          0.031206   \n",
       "2           0.128365    0.135714          0.020860          0.031206   \n",
       "3         628.000000  546.000000        224.000000        103.000000   \n",
       "4         628.000000  546.000000        224.000000        103.000000   \n",
       "\n",
       "   morning_mean  morning_prop_zero  morning_sd  morning_skewness  \n",
       "0      0.736065          -0.142280   -1.779904          0.020729  \n",
       "1      0.036105           0.053069    0.052303          0.026784  \n",
       "2      0.036105           0.053069    0.052303          0.026784  \n",
       "3    103.000000         432.000000  427.000000        249.000000  \n",
       "4    103.000000         432.000000  427.000000        249.000000  "
      ]
     },
     "execution_count": 15,
     "metadata": {},
     "output_type": "execute_result"
    }
   ],
   "source": [
    "#df_feature_importance = df_feature_importance[['classifier', 'mean', 'sd', 'prop_zero', 'kurtosis', 'skew']]\n",
    "#df_feature_importance = df_feature_importance[['classifier', 'mean', 'sd', 'prop_zero']]\n",
    "df_feature_importance"
   ]
  },
  {
   "cell_type": "code",
   "execution_count": 40,
   "id": "fe5a84e3",
   "metadata": {},
   "outputs": [
    {
     "data": {
      "text/html": [
       "<div>\n",
       "<style scoped>\n",
       "    .dataframe tbody tr th:only-of-type {\n",
       "        vertical-align: middle;\n",
       "    }\n",
       "\n",
       "    .dataframe tbody tr th {\n",
       "        vertical-align: top;\n",
       "    }\n",
       "\n",
       "    .dataframe thead th {\n",
       "        text-align: right;\n",
       "    }\n",
       "</style>\n",
       "<table border=\"1\" class=\"dataframe\">\n",
       "  <thead>\n",
       "    <tr style=\"text-align: right;\">\n",
       "      <th></th>\n",
       "      <th>Classifier</th>\n",
       "      <th>Class</th>\n",
       "      <th>precision</th>\n",
       "      <th>recall</th>\n",
       "      <th>f1-score</th>\n",
       "      <th>support</th>\n",
       "    </tr>\n",
       "  </thead>\n",
       "  <tbody>\n",
       "    <tr>\n",
       "      <th>0</th>\n",
       "      <td>Logistic Regression</td>\n",
       "      <td>CONTROL</td>\n",
       "      <td>0.936508</td>\n",
       "      <td>0.880597</td>\n",
       "      <td>0.907692</td>\n",
       "      <td>201.0</td>\n",
       "    </tr>\n",
       "    <tr>\n",
       "      <th>1</th>\n",
       "      <td>Logistic Regression</td>\n",
       "      <td>PATIENT</td>\n",
       "      <td>0.844156</td>\n",
       "      <td>0.915493</td>\n",
       "      <td>0.878378</td>\n",
       "      <td>142.0</td>\n",
       "    </tr>\n",
       "    <tr>\n",
       "      <th>2</th>\n",
       "      <td>Logistic Regression</td>\n",
       "      <td>macro avg</td>\n",
       "      <td>0.890332</td>\n",
       "      <td>0.898045</td>\n",
       "      <td>0.893035</td>\n",
       "      <td>343.0</td>\n",
       "    </tr>\n",
       "    <tr>\n",
       "      <th>3</th>\n",
       "      <td>Logistic Regression</td>\n",
       "      <td>weighted avg</td>\n",
       "      <td>0.898275</td>\n",
       "      <td>0.895044</td>\n",
       "      <td>0.895557</td>\n",
       "      <td>343.0</td>\n",
       "    </tr>\n",
       "    <tr>\n",
       "      <th>4</th>\n",
       "      <td>Random Forest</td>\n",
       "      <td>CONTROL</td>\n",
       "      <td>0.841121</td>\n",
       "      <td>0.895522</td>\n",
       "      <td>0.867470</td>\n",
       "      <td>201.0</td>\n",
       "    </tr>\n",
       "    <tr>\n",
       "      <th>5</th>\n",
       "      <td>Random Forest</td>\n",
       "      <td>PATIENT</td>\n",
       "      <td>0.837209</td>\n",
       "      <td>0.760563</td>\n",
       "      <td>0.797048</td>\n",
       "      <td>142.0</td>\n",
       "    </tr>\n",
       "    <tr>\n",
       "      <th>6</th>\n",
       "      <td>Random Forest</td>\n",
       "      <td>macro avg</td>\n",
       "      <td>0.839165</td>\n",
       "      <td>0.828043</td>\n",
       "      <td>0.832259</td>\n",
       "      <td>343.0</td>\n",
       "    </tr>\n",
       "    <tr>\n",
       "      <th>7</th>\n",
       "      <td>Random Forest</td>\n",
       "      <td>weighted avg</td>\n",
       "      <td>0.839502</td>\n",
       "      <td>0.839650</td>\n",
       "      <td>0.838316</td>\n",
       "      <td>343.0</td>\n",
       "    </tr>\n",
       "    <tr>\n",
       "      <th>8</th>\n",
       "      <td>Decision Tree</td>\n",
       "      <td>CONTROL</td>\n",
       "      <td>0.841121</td>\n",
       "      <td>0.895522</td>\n",
       "      <td>0.867470</td>\n",
       "      <td>201.0</td>\n",
       "    </tr>\n",
       "    <tr>\n",
       "      <th>9</th>\n",
       "      <td>Decision Tree</td>\n",
       "      <td>PATIENT</td>\n",
       "      <td>0.837209</td>\n",
       "      <td>0.760563</td>\n",
       "      <td>0.797048</td>\n",
       "      <td>142.0</td>\n",
       "    </tr>\n",
       "    <tr>\n",
       "      <th>10</th>\n",
       "      <td>Decision Tree</td>\n",
       "      <td>macro avg</td>\n",
       "      <td>0.839165</td>\n",
       "      <td>0.828043</td>\n",
       "      <td>0.832259</td>\n",
       "      <td>343.0</td>\n",
       "    </tr>\n",
       "    <tr>\n",
       "      <th>11</th>\n",
       "      <td>Decision Tree</td>\n",
       "      <td>weighted avg</td>\n",
       "      <td>0.839502</td>\n",
       "      <td>0.839650</td>\n",
       "      <td>0.838316</td>\n",
       "      <td>343.0</td>\n",
       "    </tr>\n",
       "  </tbody>\n",
       "</table>\n",
       "</div>"
      ],
      "text/plain": [
       "             Classifier         Class  precision    recall  f1-score  support\n",
       "0   Logistic Regression       CONTROL   0.936508  0.880597  0.907692    201.0\n",
       "1   Logistic Regression       PATIENT   0.844156  0.915493  0.878378    142.0\n",
       "2   Logistic Regression     macro avg   0.890332  0.898045  0.893035    343.0\n",
       "3   Logistic Regression  weighted avg   0.898275  0.895044  0.895557    343.0\n",
       "4         Random Forest       CONTROL   0.841121  0.895522  0.867470    201.0\n",
       "5         Random Forest       PATIENT   0.837209  0.760563  0.797048    142.0\n",
       "6         Random Forest     macro avg   0.839165  0.828043  0.832259    343.0\n",
       "7         Random Forest  weighted avg   0.839502  0.839650  0.838316    343.0\n",
       "8         Decision Tree       CONTROL   0.841121  0.895522  0.867470    201.0\n",
       "9         Decision Tree       PATIENT   0.837209  0.760563  0.797048    142.0\n",
       "10        Decision Tree     macro avg   0.839165  0.828043  0.832259    343.0\n",
       "11        Decision Tree  weighted avg   0.839502  0.839650  0.838316    343.0"
      ]
     },
     "execution_count": 40,
     "metadata": {},
     "output_type": "execute_result"
    }
   ],
   "source": [
    "df_leave_one_out = df_leave_one_out[['Classifier', 'Class', 'precision', 'recall', 'f1-score', 'support']]\n",
    "df_leave_one_out"
   ]
  },
  {
   "cell_type": "code",
   "execution_count": null,
   "id": "3e49daf6",
   "metadata": {},
   "outputs": [],
   "source": []
  },
  {
   "cell_type": "code",
   "execution_count": null,
   "id": "252915da",
   "metadata": {},
   "outputs": [],
   "source": [
    "#with number of peaks for each period of time "
   ]
  },
  {
   "cell_type": "code",
   "execution_count": 12,
   "id": "63f41a7b",
   "metadata": {},
   "outputs": [
    {
     "data": {
      "text/html": [
       "<div>\n",
       "<style scoped>\n",
       "    .dataframe tbody tr th:only-of-type {\n",
       "        vertical-align: middle;\n",
       "    }\n",
       "\n",
       "    .dataframe tbody tr th {\n",
       "        vertical-align: top;\n",
       "    }\n",
       "\n",
       "    .dataframe thead th {\n",
       "        text-align: right;\n",
       "    }\n",
       "</style>\n",
       "<table border=\"1\" class=\"dataframe\">\n",
       "  <thead>\n",
       "    <tr style=\"text-align: right;\">\n",
       "      <th></th>\n",
       "      <th>classifier</th>\n",
       "      <th>Average Precision</th>\n",
       "      <th>AUCROC</th>\n",
       "      <th>testset_size</th>\n",
       "    </tr>\n",
       "  </thead>\n",
       "  <tbody>\n",
       "    <tr>\n",
       "      <th>0</th>\n",
       "      <td>Logistic Regression</td>\n",
       "      <td>0.932656</td>\n",
       "      <td>0.953192</td>\n",
       "      <td>0.5</td>\n",
       "    </tr>\n",
       "    <tr>\n",
       "      <th>1</th>\n",
       "      <td>Random Forest</td>\n",
       "      <td>0.845964</td>\n",
       "      <td>0.912778</td>\n",
       "      <td>0.5</td>\n",
       "    </tr>\n",
       "    <tr>\n",
       "      <th>2</th>\n",
       "      <td>Decision Tree</td>\n",
       "      <td>0.639739</td>\n",
       "      <td>0.766695</td>\n",
       "      <td>0.5</td>\n",
       "    </tr>\n",
       "    <tr>\n",
       "      <th>3</th>\n",
       "      <td>XGBoot</td>\n",
       "      <td>0.897204</td>\n",
       "      <td>0.941420</td>\n",
       "      <td>0.5</td>\n",
       "    </tr>\n",
       "    <tr>\n",
       "      <th>4</th>\n",
       "      <td>LightGBM</td>\n",
       "      <td>0.936629</td>\n",
       "      <td>0.953052</td>\n",
       "      <td>0.5</td>\n",
       "    </tr>\n",
       "    <tr>\n",
       "      <th>5</th>\n",
       "      <td>Ensemble</td>\n",
       "      <td>0.936629</td>\n",
       "      <td>0.953052</td>\n",
       "      <td>0.5</td>\n",
       "    </tr>\n",
       "  </tbody>\n",
       "</table>\n",
       "</div>"
      ],
      "text/plain": [
       "            classifier  Average Precision    AUCROC  testset_size\n",
       "0  Logistic Regression           0.932656  0.953192           0.5\n",
       "1        Random Forest           0.845964  0.912778           0.5\n",
       "2        Decision Tree           0.639739  0.766695           0.5\n",
       "3               XGBoot           0.897204  0.941420           0.5\n",
       "4             LightGBM           0.936629  0.953052           0.5\n",
       "5             Ensemble           0.936629  0.953052           0.5"
      ]
     },
     "execution_count": 12,
     "metadata": {},
     "output_type": "execute_result"
    }
   ],
   "source": [
    "#k-fold validation\n",
    "df_result = df_result[['classifier', 'Average Precision', 'AUCROC', 'testset_size']]\n",
    "df_result"
   ]
  },
  {
   "cell_type": "code",
   "execution_count": 13,
   "id": "751504e5",
   "metadata": {},
   "outputs": [
    {
     "data": {
      "text/html": [
       "<div>\n",
       "<style scoped>\n",
       "    .dataframe tbody tr th:only-of-type {\n",
       "        vertical-align: middle;\n",
       "    }\n",
       "\n",
       "    .dataframe tbody tr th {\n",
       "        vertical-align: top;\n",
       "    }\n",
       "\n",
       "    .dataframe thead th {\n",
       "        text-align: right;\n",
       "    }\n",
       "</style>\n",
       "<table border=\"1\" class=\"dataframe\">\n",
       "  <thead>\n",
       "    <tr style=\"text-align: right;\">\n",
       "      <th></th>\n",
       "      <th>Classifier</th>\n",
       "      <th>Class</th>\n",
       "      <th>precision</th>\n",
       "      <th>recall</th>\n",
       "      <th>f1-score</th>\n",
       "      <th>support</th>\n",
       "    </tr>\n",
       "  </thead>\n",
       "  <tbody>\n",
       "    <tr>\n",
       "      <th>0</th>\n",
       "      <td>Logistic Regression</td>\n",
       "      <td>CONTROL</td>\n",
       "      <td>0.921875</td>\n",
       "      <td>0.880597</td>\n",
       "      <td>0.900763</td>\n",
       "      <td>201.0</td>\n",
       "    </tr>\n",
       "    <tr>\n",
       "      <th>1</th>\n",
       "      <td>Logistic Regression</td>\n",
       "      <td>PATIENT</td>\n",
       "      <td>0.841060</td>\n",
       "      <td>0.894366</td>\n",
       "      <td>0.866894</td>\n",
       "      <td>142.0</td>\n",
       "    </tr>\n",
       "    <tr>\n",
       "      <th>2</th>\n",
       "      <td>Logistic Regression</td>\n",
       "      <td>macro avg</td>\n",
       "      <td>0.881467</td>\n",
       "      <td>0.887482</td>\n",
       "      <td>0.883829</td>\n",
       "      <td>343.0</td>\n",
       "    </tr>\n",
       "    <tr>\n",
       "      <th>3</th>\n",
       "      <td>Logistic Regression</td>\n",
       "      <td>weighted avg</td>\n",
       "      <td>0.888418</td>\n",
       "      <td>0.886297</td>\n",
       "      <td>0.886742</td>\n",
       "      <td>343.0</td>\n",
       "    </tr>\n",
       "    <tr>\n",
       "      <th>4</th>\n",
       "      <td>Random Forest</td>\n",
       "      <td>CONTROL</td>\n",
       "      <td>0.841121</td>\n",
       "      <td>0.895522</td>\n",
       "      <td>0.867470</td>\n",
       "      <td>201.0</td>\n",
       "    </tr>\n",
       "    <tr>\n",
       "      <th>5</th>\n",
       "      <td>Random Forest</td>\n",
       "      <td>PATIENT</td>\n",
       "      <td>0.837209</td>\n",
       "      <td>0.760563</td>\n",
       "      <td>0.797048</td>\n",
       "      <td>142.0</td>\n",
       "    </tr>\n",
       "    <tr>\n",
       "      <th>6</th>\n",
       "      <td>Random Forest</td>\n",
       "      <td>macro avg</td>\n",
       "      <td>0.839165</td>\n",
       "      <td>0.828043</td>\n",
       "      <td>0.832259</td>\n",
       "      <td>343.0</td>\n",
       "    </tr>\n",
       "    <tr>\n",
       "      <th>7</th>\n",
       "      <td>Random Forest</td>\n",
       "      <td>weighted avg</td>\n",
       "      <td>0.839502</td>\n",
       "      <td>0.839650</td>\n",
       "      <td>0.838316</td>\n",
       "      <td>343.0</td>\n",
       "    </tr>\n",
       "    <tr>\n",
       "      <th>8</th>\n",
       "      <td>Decision Tree</td>\n",
       "      <td>CONTROL</td>\n",
       "      <td>0.841121</td>\n",
       "      <td>0.895522</td>\n",
       "      <td>0.867470</td>\n",
       "      <td>201.0</td>\n",
       "    </tr>\n",
       "    <tr>\n",
       "      <th>9</th>\n",
       "      <td>Decision Tree</td>\n",
       "      <td>PATIENT</td>\n",
       "      <td>0.837209</td>\n",
       "      <td>0.760563</td>\n",
       "      <td>0.797048</td>\n",
       "      <td>142.0</td>\n",
       "    </tr>\n",
       "    <tr>\n",
       "      <th>10</th>\n",
       "      <td>Decision Tree</td>\n",
       "      <td>macro avg</td>\n",
       "      <td>0.839165</td>\n",
       "      <td>0.828043</td>\n",
       "      <td>0.832259</td>\n",
       "      <td>343.0</td>\n",
       "    </tr>\n",
       "    <tr>\n",
       "      <th>11</th>\n",
       "      <td>Decision Tree</td>\n",
       "      <td>weighted avg</td>\n",
       "      <td>0.839502</td>\n",
       "      <td>0.839650</td>\n",
       "      <td>0.838316</td>\n",
       "      <td>343.0</td>\n",
       "    </tr>\n",
       "  </tbody>\n",
       "</table>\n",
       "</div>"
      ],
      "text/plain": [
       "             Classifier         Class  precision    recall  f1-score  support\n",
       "0   Logistic Regression       CONTROL   0.921875  0.880597  0.900763    201.0\n",
       "1   Logistic Regression       PATIENT   0.841060  0.894366  0.866894    142.0\n",
       "2   Logistic Regression     macro avg   0.881467  0.887482  0.883829    343.0\n",
       "3   Logistic Regression  weighted avg   0.888418  0.886297  0.886742    343.0\n",
       "4         Random Forest       CONTROL   0.841121  0.895522  0.867470    201.0\n",
       "5         Random Forest       PATIENT   0.837209  0.760563  0.797048    142.0\n",
       "6         Random Forest     macro avg   0.839165  0.828043  0.832259    343.0\n",
       "7         Random Forest  weighted avg   0.839502  0.839650  0.838316    343.0\n",
       "8         Decision Tree       CONTROL   0.841121  0.895522  0.867470    201.0\n",
       "9         Decision Tree       PATIENT   0.837209  0.760563  0.797048    142.0\n",
       "10        Decision Tree     macro avg   0.839165  0.828043  0.832259    343.0\n",
       "11        Decision Tree  weighted avg   0.839502  0.839650  0.838316    343.0"
      ]
     },
     "execution_count": 13,
     "metadata": {},
     "output_type": "execute_result"
    }
   ],
   "source": [
    "#leave one-out\n",
    "df_leave_one_out = df_leave_one_out[['Classifier', 'Class', 'precision', 'recall', 'f1-score', 'support']]\n",
    "df_leave_one_out"
   ]
  },
  {
   "cell_type": "code",
   "execution_count": null,
   "id": "c9e1ce34",
   "metadata": {},
   "outputs": [],
   "source": []
  },
  {
   "cell_type": "code",
   "execution_count": null,
   "id": "d08d8a9b",
   "metadata": {},
   "outputs": [],
   "source": [
    "#with number of peaks and max value"
   ]
  },
  {
   "cell_type": "code",
   "execution_count": 13,
   "id": "1703c980",
   "metadata": {},
   "outputs": [
    {
     "data": {
      "text/html": [
       "<div>\n",
       "<style scoped>\n",
       "    .dataframe tbody tr th:only-of-type {\n",
       "        vertical-align: middle;\n",
       "    }\n",
       "\n",
       "    .dataframe tbody tr th {\n",
       "        vertical-align: top;\n",
       "    }\n",
       "\n",
       "    .dataframe thead th {\n",
       "        text-align: right;\n",
       "    }\n",
       "</style>\n",
       "<table border=\"1\" class=\"dataframe\">\n",
       "  <thead>\n",
       "    <tr style=\"text-align: right;\">\n",
       "      <th></th>\n",
       "      <th>classifier</th>\n",
       "      <th>Average Precision</th>\n",
       "      <th>AUCROC</th>\n",
       "      <th>testset_size</th>\n",
       "    </tr>\n",
       "  </thead>\n",
       "  <tbody>\n",
       "    <tr>\n",
       "      <th>0</th>\n",
       "      <td>Logistic Regression</td>\n",
       "      <td>0.904482</td>\n",
       "      <td>0.940754</td>\n",
       "      <td>0.5</td>\n",
       "    </tr>\n",
       "    <tr>\n",
       "      <th>1</th>\n",
       "      <td>Random Forest</td>\n",
       "      <td>0.888598</td>\n",
       "      <td>0.932223</td>\n",
       "      <td>0.5</td>\n",
       "    </tr>\n",
       "    <tr>\n",
       "      <th>2</th>\n",
       "      <td>Decision Tree</td>\n",
       "      <td>0.695868</td>\n",
       "      <td>0.814344</td>\n",
       "      <td>0.5</td>\n",
       "    </tr>\n",
       "    <tr>\n",
       "      <th>3</th>\n",
       "      <td>XGBoot</td>\n",
       "      <td>0.939431</td>\n",
       "      <td>0.956100</td>\n",
       "      <td>0.5</td>\n",
       "    </tr>\n",
       "    <tr>\n",
       "      <th>4</th>\n",
       "      <td>LightGBM</td>\n",
       "      <td>0.968666</td>\n",
       "      <td>0.973863</td>\n",
       "      <td>0.5</td>\n",
       "    </tr>\n",
       "    <tr>\n",
       "      <th>5</th>\n",
       "      <td>Ensemble</td>\n",
       "      <td>0.968666</td>\n",
       "      <td>0.973863</td>\n",
       "      <td>0.5</td>\n",
       "    </tr>\n",
       "  </tbody>\n",
       "</table>\n",
       "</div>"
      ],
      "text/plain": [
       "            classifier  Average Precision    AUCROC  testset_size\n",
       "0  Logistic Regression           0.904482  0.940754           0.5\n",
       "1        Random Forest           0.888598  0.932223           0.5\n",
       "2        Decision Tree           0.695868  0.814344           0.5\n",
       "3               XGBoot           0.939431  0.956100           0.5\n",
       "4             LightGBM           0.968666  0.973863           0.5\n",
       "5             Ensemble           0.968666  0.973863           0.5"
      ]
     },
     "execution_count": 13,
     "metadata": {},
     "output_type": "execute_result"
    }
   ],
   "source": [
    "#k-fold validation\n",
    "df_result = df_result[['classifier', 'Average Precision', 'AUCROC', 'testset_size']]\n",
    "df_result"
   ]
  },
  {
   "cell_type": "code",
   "execution_count": 12,
   "id": "eda5b3b4",
   "metadata": {},
   "outputs": [
    {
     "data": {
      "text/html": [
       "<div>\n",
       "<style scoped>\n",
       "    .dataframe tbody tr th:only-of-type {\n",
       "        vertical-align: middle;\n",
       "    }\n",
       "\n",
       "    .dataframe tbody tr th {\n",
       "        vertical-align: top;\n",
       "    }\n",
       "\n",
       "    .dataframe thead th {\n",
       "        text-align: right;\n",
       "    }\n",
       "</style>\n",
       "<table border=\"1\" class=\"dataframe\">\n",
       "  <thead>\n",
       "    <tr style=\"text-align: right;\">\n",
       "      <th></th>\n",
       "      <th>Classifier</th>\n",
       "      <th>Class</th>\n",
       "      <th>precision</th>\n",
       "      <th>recall</th>\n",
       "      <th>f1-score</th>\n",
       "      <th>support</th>\n",
       "    </tr>\n",
       "  </thead>\n",
       "  <tbody>\n",
       "    <tr>\n",
       "      <th>0</th>\n",
       "      <td>Logistic Regression</td>\n",
       "      <td>CONTROL</td>\n",
       "      <td>0.931579</td>\n",
       "      <td>0.880597</td>\n",
       "      <td>0.905371</td>\n",
       "      <td>201.0</td>\n",
       "    </tr>\n",
       "    <tr>\n",
       "      <th>1</th>\n",
       "      <td>Logistic Regression</td>\n",
       "      <td>PATIENT</td>\n",
       "      <td>0.843137</td>\n",
       "      <td>0.908451</td>\n",
       "      <td>0.874576</td>\n",
       "      <td>142.0</td>\n",
       "    </tr>\n",
       "    <tr>\n",
       "      <th>2</th>\n",
       "      <td>Logistic Regression</td>\n",
       "      <td>macro avg</td>\n",
       "      <td>0.887358</td>\n",
       "      <td>0.894524</td>\n",
       "      <td>0.889974</td>\n",
       "      <td>343.0</td>\n",
       "    </tr>\n",
       "    <tr>\n",
       "      <th>3</th>\n",
       "      <td>Logistic Regression</td>\n",
       "      <td>weighted avg</td>\n",
       "      <td>0.894965</td>\n",
       "      <td>0.892128</td>\n",
       "      <td>0.892622</td>\n",
       "      <td>343.0</td>\n",
       "    </tr>\n",
       "    <tr>\n",
       "      <th>4</th>\n",
       "      <td>Random Forest</td>\n",
       "      <td>CONTROL</td>\n",
       "      <td>0.856481</td>\n",
       "      <td>0.920398</td>\n",
       "      <td>0.887290</td>\n",
       "      <td>201.0</td>\n",
       "    </tr>\n",
       "    <tr>\n",
       "      <th>5</th>\n",
       "      <td>Random Forest</td>\n",
       "      <td>PATIENT</td>\n",
       "      <td>0.874016</td>\n",
       "      <td>0.781690</td>\n",
       "      <td>0.825279</td>\n",
       "      <td>142.0</td>\n",
       "    </tr>\n",
       "    <tr>\n",
       "      <th>6</th>\n",
       "      <td>Random Forest</td>\n",
       "      <td>macro avg</td>\n",
       "      <td>0.865249</td>\n",
       "      <td>0.851044</td>\n",
       "      <td>0.856284</td>\n",
       "      <td>343.0</td>\n",
       "    </tr>\n",
       "    <tr>\n",
       "      <th>7</th>\n",
       "      <td>Random Forest</td>\n",
       "      <td>weighted avg</td>\n",
       "      <td>0.863741</td>\n",
       "      <td>0.862974</td>\n",
       "      <td>0.861618</td>\n",
       "      <td>343.0</td>\n",
       "    </tr>\n",
       "    <tr>\n",
       "      <th>8</th>\n",
       "      <td>Decision Tree</td>\n",
       "      <td>CONTROL</td>\n",
       "      <td>0.856481</td>\n",
       "      <td>0.920398</td>\n",
       "      <td>0.887290</td>\n",
       "      <td>201.0</td>\n",
       "    </tr>\n",
       "    <tr>\n",
       "      <th>9</th>\n",
       "      <td>Decision Tree</td>\n",
       "      <td>PATIENT</td>\n",
       "      <td>0.874016</td>\n",
       "      <td>0.781690</td>\n",
       "      <td>0.825279</td>\n",
       "      <td>142.0</td>\n",
       "    </tr>\n",
       "    <tr>\n",
       "      <th>10</th>\n",
       "      <td>Decision Tree</td>\n",
       "      <td>macro avg</td>\n",
       "      <td>0.865249</td>\n",
       "      <td>0.851044</td>\n",
       "      <td>0.856284</td>\n",
       "      <td>343.0</td>\n",
       "    </tr>\n",
       "    <tr>\n",
       "      <th>11</th>\n",
       "      <td>Decision Tree</td>\n",
       "      <td>weighted avg</td>\n",
       "      <td>0.863741</td>\n",
       "      <td>0.862974</td>\n",
       "      <td>0.861618</td>\n",
       "      <td>343.0</td>\n",
       "    </tr>\n",
       "  </tbody>\n",
       "</table>\n",
       "</div>"
      ],
      "text/plain": [
       "             Classifier         Class  precision    recall  f1-score  support\n",
       "0   Logistic Regression       CONTROL   0.931579  0.880597  0.905371    201.0\n",
       "1   Logistic Regression       PATIENT   0.843137  0.908451  0.874576    142.0\n",
       "2   Logistic Regression     macro avg   0.887358  0.894524  0.889974    343.0\n",
       "3   Logistic Regression  weighted avg   0.894965  0.892128  0.892622    343.0\n",
       "4         Random Forest       CONTROL   0.856481  0.920398  0.887290    201.0\n",
       "5         Random Forest       PATIENT   0.874016  0.781690  0.825279    142.0\n",
       "6         Random Forest     macro avg   0.865249  0.851044  0.856284    343.0\n",
       "7         Random Forest  weighted avg   0.863741  0.862974  0.861618    343.0\n",
       "8         Decision Tree       CONTROL   0.856481  0.920398  0.887290    201.0\n",
       "9         Decision Tree       PATIENT   0.874016  0.781690  0.825279    142.0\n",
       "10        Decision Tree     macro avg   0.865249  0.851044  0.856284    343.0\n",
       "11        Decision Tree  weighted avg   0.863741  0.862974  0.861618    343.0"
      ]
     },
     "execution_count": 12,
     "metadata": {},
     "output_type": "execute_result"
    }
   ],
   "source": [
    "#leave one-out\n",
    "df_leave_one_out = df_leave_one_out[['Classifier', 'Class', 'precision', 'recall', 'f1-score', 'support']]\n",
    "df_leave_one_out"
   ]
  },
  {
   "cell_type": "code",
   "execution_count": null,
   "id": "dc1a46aa",
   "metadata": {},
   "outputs": [],
   "source": []
  },
  {
   "cell_type": "code",
   "execution_count": null,
   "id": "96f903c3",
   "metadata": {},
   "outputs": [],
   "source": [
    "#all features\n",
    "#including median and median absolute deviation"
   ]
  },
  {
   "cell_type": "code",
   "execution_count": 25,
   "id": "9420b1ba",
   "metadata": {},
   "outputs": [
    {
     "data": {
      "text/html": [
       "<div>\n",
       "<style scoped>\n",
       "    .dataframe tbody tr th:only-of-type {\n",
       "        vertical-align: middle;\n",
       "    }\n",
       "\n",
       "    .dataframe tbody tr th {\n",
       "        vertical-align: top;\n",
       "    }\n",
       "\n",
       "    .dataframe thead th {\n",
       "        text-align: right;\n",
       "    }\n",
       "</style>\n",
       "<table border=\"1\" class=\"dataframe\">\n",
       "  <thead>\n",
       "    <tr style=\"text-align: right;\">\n",
       "      <th></th>\n",
       "      <th>classifier</th>\n",
       "      <th>Average Precision</th>\n",
       "      <th>AUCROC</th>\n",
       "      <th>testset_size</th>\n",
       "    </tr>\n",
       "  </thead>\n",
       "  <tbody>\n",
       "    <tr>\n",
       "      <th>0</th>\n",
       "      <td>Logistic Regression</td>\n",
       "      <td>0.914757</td>\n",
       "      <td>0.948672</td>\n",
       "      <td>0.5</td>\n",
       "    </tr>\n",
       "    <tr>\n",
       "      <th>1</th>\n",
       "      <td>Random Forest</td>\n",
       "      <td>0.902769</td>\n",
       "      <td>0.940351</td>\n",
       "      <td>0.5</td>\n",
       "    </tr>\n",
       "    <tr>\n",
       "      <th>2</th>\n",
       "      <td>Decision Tree</td>\n",
       "      <td>0.677533</td>\n",
       "      <td>0.783915</td>\n",
       "      <td>0.5</td>\n",
       "    </tr>\n",
       "    <tr>\n",
       "      <th>3</th>\n",
       "      <td>XGBoot</td>\n",
       "      <td>0.930823</td>\n",
       "      <td>0.940947</td>\n",
       "      <td>0.5</td>\n",
       "    </tr>\n",
       "    <tr>\n",
       "      <th>4</th>\n",
       "      <td>LightGBM</td>\n",
       "      <td>0.960709</td>\n",
       "      <td>0.967557</td>\n",
       "      <td>0.5</td>\n",
       "    </tr>\n",
       "    <tr>\n",
       "      <th>5</th>\n",
       "      <td>Ensemble</td>\n",
       "      <td>0.960709</td>\n",
       "      <td>0.967557</td>\n",
       "      <td>0.5</td>\n",
       "    </tr>\n",
       "  </tbody>\n",
       "</table>\n",
       "</div>"
      ],
      "text/plain": [
       "            classifier  Average Precision    AUCROC  testset_size\n",
       "0  Logistic Regression           0.914757  0.948672           0.5\n",
       "1        Random Forest           0.902769  0.940351           0.5\n",
       "2        Decision Tree           0.677533  0.783915           0.5\n",
       "3               XGBoot           0.930823  0.940947           0.5\n",
       "4             LightGBM           0.960709  0.967557           0.5\n",
       "5             Ensemble           0.960709  0.967557           0.5"
      ]
     },
     "execution_count": 25,
     "metadata": {},
     "output_type": "execute_result"
    }
   ],
   "source": [
    "#k-fold validation\n",
    "df_result = df_result[['classifier', 'Average Precision', 'AUCROC', 'testset_size']]\n",
    "df_result"
   ]
  },
  {
   "cell_type": "code",
   "execution_count": 26,
   "id": "e7dc428e",
   "metadata": {},
   "outputs": [
    {
     "data": {
      "text/html": [
       "<div>\n",
       "<style scoped>\n",
       "    .dataframe tbody tr th:only-of-type {\n",
       "        vertical-align: middle;\n",
       "    }\n",
       "\n",
       "    .dataframe tbody tr th {\n",
       "        vertical-align: top;\n",
       "    }\n",
       "\n",
       "    .dataframe thead th {\n",
       "        text-align: right;\n",
       "    }\n",
       "</style>\n",
       "<table border=\"1\" class=\"dataframe\">\n",
       "  <thead>\n",
       "    <tr style=\"text-align: right;\">\n",
       "      <th></th>\n",
       "      <th>Classifier</th>\n",
       "      <th>Class</th>\n",
       "      <th>precision</th>\n",
       "      <th>recall</th>\n",
       "      <th>f1-score</th>\n",
       "      <th>support</th>\n",
       "    </tr>\n",
       "  </thead>\n",
       "  <tbody>\n",
       "    <tr>\n",
       "      <th>0</th>\n",
       "      <td>Logistic Regression</td>\n",
       "      <td>CONTROL</td>\n",
       "      <td>0.922280</td>\n",
       "      <td>0.885572</td>\n",
       "      <td>0.903553</td>\n",
       "      <td>201.0</td>\n",
       "    </tr>\n",
       "    <tr>\n",
       "      <th>1</th>\n",
       "      <td>Logistic Regression</td>\n",
       "      <td>PATIENT</td>\n",
       "      <td>0.846667</td>\n",
       "      <td>0.894366</td>\n",
       "      <td>0.869863</td>\n",
       "      <td>142.0</td>\n",
       "    </tr>\n",
       "    <tr>\n",
       "      <th>2</th>\n",
       "      <td>Logistic Regression</td>\n",
       "      <td>macro avg</td>\n",
       "      <td>0.884473</td>\n",
       "      <td>0.889969</td>\n",
       "      <td>0.886708</td>\n",
       "      <td>343.0</td>\n",
       "    </tr>\n",
       "    <tr>\n",
       "      <th>3</th>\n",
       "      <td>Logistic Regression</td>\n",
       "      <td>weighted avg</td>\n",
       "      <td>0.890976</td>\n",
       "      <td>0.889213</td>\n",
       "      <td>0.889606</td>\n",
       "      <td>343.0</td>\n",
       "    </tr>\n",
       "    <tr>\n",
       "      <th>4</th>\n",
       "      <td>Random Forest</td>\n",
       "      <td>CONTROL</td>\n",
       "      <td>0.878641</td>\n",
       "      <td>0.900498</td>\n",
       "      <td>0.889435</td>\n",
       "      <td>201.0</td>\n",
       "    </tr>\n",
       "    <tr>\n",
       "      <th>5</th>\n",
       "      <td>Random Forest</td>\n",
       "      <td>PATIENT</td>\n",
       "      <td>0.854015</td>\n",
       "      <td>0.823944</td>\n",
       "      <td>0.838710</td>\n",
       "      <td>142.0</td>\n",
       "    </tr>\n",
       "    <tr>\n",
       "      <th>6</th>\n",
       "      <td>Random Forest</td>\n",
       "      <td>macro avg</td>\n",
       "      <td>0.866328</td>\n",
       "      <td>0.862221</td>\n",
       "      <td>0.864072</td>\n",
       "      <td>343.0</td>\n",
       "    </tr>\n",
       "    <tr>\n",
       "      <th>7</th>\n",
       "      <td>Random Forest</td>\n",
       "      <td>weighted avg</td>\n",
       "      <td>0.868446</td>\n",
       "      <td>0.868805</td>\n",
       "      <td>0.868435</td>\n",
       "      <td>343.0</td>\n",
       "    </tr>\n",
       "    <tr>\n",
       "      <th>8</th>\n",
       "      <td>Decision Tree</td>\n",
       "      <td>CONTROL</td>\n",
       "      <td>0.878641</td>\n",
       "      <td>0.900498</td>\n",
       "      <td>0.889435</td>\n",
       "      <td>201.0</td>\n",
       "    </tr>\n",
       "    <tr>\n",
       "      <th>9</th>\n",
       "      <td>Decision Tree</td>\n",
       "      <td>PATIENT</td>\n",
       "      <td>0.854015</td>\n",
       "      <td>0.823944</td>\n",
       "      <td>0.838710</td>\n",
       "      <td>142.0</td>\n",
       "    </tr>\n",
       "    <tr>\n",
       "      <th>10</th>\n",
       "      <td>Decision Tree</td>\n",
       "      <td>macro avg</td>\n",
       "      <td>0.866328</td>\n",
       "      <td>0.862221</td>\n",
       "      <td>0.864072</td>\n",
       "      <td>343.0</td>\n",
       "    </tr>\n",
       "    <tr>\n",
       "      <th>11</th>\n",
       "      <td>Decision Tree</td>\n",
       "      <td>weighted avg</td>\n",
       "      <td>0.868446</td>\n",
       "      <td>0.868805</td>\n",
       "      <td>0.868435</td>\n",
       "      <td>343.0</td>\n",
       "    </tr>\n",
       "  </tbody>\n",
       "</table>\n",
       "</div>"
      ],
      "text/plain": [
       "             Classifier         Class  precision    recall  f1-score  support\n",
       "0   Logistic Regression       CONTROL   0.922280  0.885572  0.903553    201.0\n",
       "1   Logistic Regression       PATIENT   0.846667  0.894366  0.869863    142.0\n",
       "2   Logistic Regression     macro avg   0.884473  0.889969  0.886708    343.0\n",
       "3   Logistic Regression  weighted avg   0.890976  0.889213  0.889606    343.0\n",
       "4         Random Forest       CONTROL   0.878641  0.900498  0.889435    201.0\n",
       "5         Random Forest       PATIENT   0.854015  0.823944  0.838710    142.0\n",
       "6         Random Forest     macro avg   0.866328  0.862221  0.864072    343.0\n",
       "7         Random Forest  weighted avg   0.868446  0.868805  0.868435    343.0\n",
       "8         Decision Tree       CONTROL   0.878641  0.900498  0.889435    201.0\n",
       "9         Decision Tree       PATIENT   0.854015  0.823944  0.838710    142.0\n",
       "10        Decision Tree     macro avg   0.866328  0.862221  0.864072    343.0\n",
       "11        Decision Tree  weighted avg   0.868446  0.868805  0.868435    343.0"
      ]
     },
     "execution_count": 26,
     "metadata": {},
     "output_type": "execute_result"
    }
   ],
   "source": [
    "#leave one-out\n",
    "df_leave_one_out = df_leave_one_out[['Classifier', 'Class', 'precision', 'recall', 'f1-score', 'support']]\n",
    "df_leave_one_out"
   ]
  },
  {
   "cell_type": "code",
   "execution_count": null,
   "id": "f9d56fd7",
   "metadata": {},
   "outputs": [],
   "source": []
  }
 ],
 "metadata": {
  "kernelspec": {
   "display_name": "Python 3 (ipykernel)",
   "language": "python",
   "name": "python3"
  },
  "language_info": {
   "codemirror_mode": {
    "name": "ipython",
    "version": 3
   },
   "file_extension": ".py",
   "mimetype": "text/x-python",
   "name": "python",
   "nbconvert_exporter": "python",
   "pygments_lexer": "ipython3",
   "version": "3.9.7"
  },
  "papermill": {
   "default_parameters": {},
   "duration": 165.427027,
   "end_time": "2021-04-22T07:22:06.436981",
   "environment_variables": {},
   "exception": null,
   "input_path": "__notebook__.ipynb",
   "output_path": "__notebook__.ipynb",
   "parameters": {},
   "start_time": "2021-04-22T07:19:21.009954",
   "version": "2.3.3"
  }
 },
 "nbformat": 4,
 "nbformat_minor": 5
}
